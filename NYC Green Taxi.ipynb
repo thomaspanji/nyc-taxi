{
 "cells": [
  {
   "cell_type": "code",
   "execution_count": 1,
   "id": "4fe6e46b",
   "metadata": {},
   "outputs": [],
   "source": [
    "import findspark\n",
    "\n",
    "findspark.find()\n",
    "findspark.init()"
   ]
  },
  {
   "cell_type": "code",
   "execution_count": 2,
   "id": "9bb5bf29",
   "metadata": {},
   "outputs": [],
   "source": [
    "from pyspark.sql import SparkSession\n",
    "from pyspark.sql.functions import (\n",
    "    to_timestamp, \n",
    "    date_format,\n",
    "    year, \n",
    "    month, \n",
    "    hour, \n",
    "    col, \n",
    "    round,\n",
    "    ceil,\n",
    "    floor,\n",
    "    minute, \n",
    "    second,\n",
    "    when\n",
    ")"
   ]
  },
  {
   "cell_type": "code",
   "execution_count": 3,
   "id": "9357f716",
   "metadata": {},
   "outputs": [],
   "source": [
    "import plotly.express as px"
   ]
  },
  {
   "cell_type": "markdown",
   "id": "9b6344c0",
   "metadata": {},
   "source": [
    "## Initialize SparkSession\n",
    "\n",
    "SparkSession is created using local thread of four and can be seen in `localhost:4050` with \"NYC Green Taxi\" as the application name."
   ]
  },
  {
   "cell_type": "code",
   "execution_count": 4,
   "id": "f69065b6",
   "metadata": {
    "scrolled": false
   },
   "outputs": [
    {
     "name": "stderr",
     "output_type": "stream",
     "text": [
      "22/04/07 11:32:55 WARN Utils: Your hostname, pop-os resolves to a loopback address: 127.0.1.1; using 192.168.43.60 instead (on interface wlp0s20f3)\n",
      "22/04/07 11:32:55 WARN Utils: Set SPARK_LOCAL_IP if you need to bind to another address\n",
      "WARNING: An illegal reflective access operation has occurred\n",
      "WARNING: Illegal reflective access by org.apache.spark.unsafe.Platform (file:/home/thomas/spark/jars/spark-unsafe_2.12-3.2.1.jar) to constructor java.nio.DirectByteBuffer(long,int)\n",
      "WARNING: Please consider reporting this to the maintainers of org.apache.spark.unsafe.Platform\n",
      "WARNING: Use --illegal-access=warn to enable warnings of further illegal reflective access operations\n",
      "WARNING: All illegal access operations will be denied in a future release\n",
      "Using Spark's default log4j profile: org/apache/spark/log4j-defaults.properties\n",
      "Setting default log level to \"WARN\".\n",
      "To adjust logging level use sc.setLogLevel(newLevel). For SparkR, use setLogLevel(newLevel).\n",
      "22/04/07 11:32:57 WARN NativeCodeLoader: Unable to load native-hadoop library for your platform... using builtin-java classes where applicable\n"
     ]
    }
   ],
   "source": [
    "spark = SparkSession.builder \\\n",
    "    .master(\"local[4]\") \\\n",
    "    .appName(\"NYC Green Taxi\") \\\n",
    "    .config('spark.ui.port', '4050') \\\n",
    "    .getOrCreate()"
   ]
  },
  {
   "cell_type": "code",
   "execution_count": 5,
   "id": "a60885a3",
   "metadata": {},
   "outputs": [],
   "source": [
    "spark.conf.set('spark.sql.repl.eagerEval.enabled', True)"
   ]
  },
  {
   "cell_type": "markdown",
   "id": "aa7ef6f8",
   "metadata": {},
   "source": [
    "## Read the data\n",
    "\n",
    "The dataset that will be used is NYC green taxi data for all months in 2020."
   ]
  },
  {
   "cell_type": "code",
   "execution_count": 6,
   "id": "e6b8e274",
   "metadata": {
    "scrolled": false
   },
   "outputs": [
    {
     "name": "stderr",
     "output_type": "stream",
     "text": [
      "[Stage 1:===================================>                       (3 + 2) / 5]\r"
     ]
    },
    {
     "name": "stdout",
     "output_type": "stream",
     "text": [
      "root\n",
      " |-- VendorID: integer (nullable = true)\n",
      " |-- lpep_pickup_datetime: string (nullable = true)\n",
      " |-- lpep_dropoff_datetime: string (nullable = true)\n",
      " |-- store_and_fwd_flag: string (nullable = true)\n",
      " |-- RatecodeID: integer (nullable = true)\n",
      " |-- PULocationID: integer (nullable = true)\n",
      " |-- DOLocationID: integer (nullable = true)\n",
      " |-- passenger_count: integer (nullable = true)\n",
      " |-- trip_distance: double (nullable = true)\n",
      " |-- fare_amount: double (nullable = true)\n",
      " |-- extra: double (nullable = true)\n",
      " |-- mta_tax: double (nullable = true)\n",
      " |-- tip_amount: double (nullable = true)\n",
      " |-- tolls_amount: double (nullable = true)\n",
      " |-- ehail_fee: string (nullable = true)\n",
      " |-- improvement_surcharge: double (nullable = true)\n",
      " |-- total_amount: double (nullable = true)\n",
      " |-- payment_type: integer (nullable = true)\n",
      " |-- trip_type: integer (nullable = true)\n",
      " |-- congestion_surcharge: double (nullable = true)\n",
      "\n"
     ]
    },
    {
     "name": "stderr",
     "output_type": "stream",
     "text": [
      "\r",
      "                                                                                \r"
     ]
    }
   ],
   "source": [
    "df = spark.read \\\n",
    "    .format('csv') \\\n",
    "    .option(\"inferSchema\", \"true\") \\\n",
    "    .option(\"header\",\"true\") \\\n",
    "    .load(\"/home/thomas/data/nyc_taxi/green_taxi/*2020*.csv\")\n",
    "df.printSchema()"
   ]
  },
  {
   "cell_type": "markdown",
   "id": "2440f156",
   "metadata": {},
   "source": [
    "The data dictionary of this dataset is available [here](https://www1.nyc.gov/assets/tlc/downloads/pdf/data_dictionary_trip_records_green.pdf). There are some codes identifying the columns, such as:\n",
    "\n",
    "1. `VendorID` contains a code indicating the LPEP provider\n",
    "    * `1` : Creative Mobile Technologies, LLC\n",
    "    * `2` : VeriFone Inc.\n",
    "\n",
    "\n",
    "2. `RateCodeID` is the final rate code in effect at the end of the trip.\n",
    "    * `1` : Standard rate\n",
    "    * `2` : JFK\n",
    "    * `3` : Newark\n",
    "    * `4` : Nassau or Westchester\n",
    "    * `5` : Negotiated fare\n",
    "    * `6` : Group ride\n",
    "    \n",
    "    \n",
    "3. `payment_type` is a numeric code signifying how the passenger paid for the trip.\n",
    "    * 1 : Credit card\n",
    "    * 2 : Cash\n",
    "    * 3 : No charge\n",
    "    * 4 : Dispute\n",
    "    * 5 : Unknown\n",
    "    * 6 : Voided trip\n",
    "    \n",
    "\n",
    "4. `PULocationID` and `DOLocationID` contain a code of pick up and drop off location zones which is referencing to this [file](https://s3.amazonaws.com/nyc-tlc/misc/taxi+_zone_lookup.csv)."
   ]
  },
  {
   "cell_type": "code",
   "execution_count": 7,
   "id": "2ce66748",
   "metadata": {},
   "outputs": [
    {
     "name": "stderr",
     "output_type": "stream",
     "text": [
      "                                                                                \r"
     ]
    }
   ],
   "source": [
    "df \\\n",
    "    .write \\\n",
    "    .mode('overwrite') \\\n",
    "    .parquet('staging/nyc-green-2020')"
   ]
  },
  {
   "cell_type": "code",
   "execution_count": 8,
   "id": "b280d262",
   "metadata": {},
   "outputs": [
    {
     "name": "stdout",
     "output_type": "stream",
     "text": [
      "root\n",
      " |-- VendorID: integer (nullable = true)\n",
      " |-- lpep_pickup_datetime: string (nullable = true)\n",
      " |-- lpep_dropoff_datetime: string (nullable = true)\n",
      " |-- store_and_fwd_flag: string (nullable = true)\n",
      " |-- RatecodeID: integer (nullable = true)\n",
      " |-- PULocationID: integer (nullable = true)\n",
      " |-- DOLocationID: integer (nullable = true)\n",
      " |-- passenger_count: integer (nullable = true)\n",
      " |-- trip_distance: double (nullable = true)\n",
      " |-- fare_amount: double (nullable = true)\n",
      " |-- extra: double (nullable = true)\n",
      " |-- mta_tax: double (nullable = true)\n",
      " |-- tip_amount: double (nullable = true)\n",
      " |-- tolls_amount: double (nullable = true)\n",
      " |-- ehail_fee: string (nullable = true)\n",
      " |-- improvement_surcharge: double (nullable = true)\n",
      " |-- total_amount: double (nullable = true)\n",
      " |-- payment_type: integer (nullable = true)\n",
      " |-- trip_type: integer (nullable = true)\n",
      " |-- congestion_surcharge: double (nullable = true)\n",
      "\n"
     ]
    }
   ],
   "source": [
    "df = spark.read \\\n",
    "    .format('parquet') \\\n",
    "    .option(\"header\",\"true\") \\\n",
    "    .load(\"staging/nyc-green-2020\")\n",
    "df.printSchema()"
   ]
  },
  {
   "cell_type": "markdown",
   "id": "c10ea400",
   "metadata": {},
   "source": [
    "See the size of the dataset"
   ]
  },
  {
   "cell_type": "code",
   "execution_count": 9,
   "id": "3bea2b64",
   "metadata": {},
   "outputs": [
    {
     "data": {
      "text/plain": [
       "(1734051, 20)"
      ]
     },
     "execution_count": 9,
     "metadata": {},
     "output_type": "execute_result"
    }
   ],
   "source": [
    "df.count(), len(df.columns)"
   ]
  },
  {
   "cell_type": "markdown",
   "id": "d31d9160",
   "metadata": {},
   "source": [
    "See the summary of the dataset"
   ]
  },
  {
   "cell_type": "code",
   "execution_count": 10,
   "id": "30aaddbd",
   "metadata": {
    "scrolled": false
   },
   "outputs": [
    {
     "name": "stderr",
     "output_type": "stream",
     "text": [
      "                                                                                \r"
     ]
    },
    {
     "data": {
      "text/html": [
       "<table border='1'>\n",
       "<tr><th>summary</th><th>VendorID</th><th>lpep_pickup_datetime</th><th>lpep_dropoff_datetime</th><th>store_and_fwd_flag</th><th>RatecodeID</th><th>PULocationID</th><th>DOLocationID</th><th>passenger_count</th><th>trip_distance</th><th>fare_amount</th><th>extra</th><th>mta_tax</th><th>tip_amount</th><th>tolls_amount</th><th>ehail_fee</th><th>improvement_surcharge</th><th>total_amount</th><th>payment_type</th><th>trip_type</th><th>congestion_surcharge</th></tr>\n",
       "<tr><td>count</td><td>1205959</td><td>1734051</td><td>1734051</td><td>1205959</td><td>1205959</td><td>1734051</td><td>1734051</td><td>1205959</td><td>1734051</td><td>1734051</td><td>1734051</td><td>1734051</td><td>1734051</td><td>1734051</td><td>0</td><td>1734051</td><td>1734051</td><td>1205959</td><td>1205954</td><td>1205959</td></tr>\n",
       "<tr><td>mean</td><td>1.8298316941123205</td><td>null</td><td>null</td><td>null</td><td>1.118096054675159</td><td>108.24825682750969</td><td>128.7862756055041</td><td>1.2913266537253754</td><td>17.292239957186986</td><td>16.984788048339592</td><td>0.5418312033498438</td><td>0.3480491346563625</td><td>1.263317930095531</td><td>0.4129914979431395</td><td>null</td><td>0.29325262059946694</td><td>20.16313390433051</td><td>1.4599285713693417</td><td>1.0262953644998067</td><td>0.4842113206170359</td></tr>\n",
       "<tr><td>stddev</td><td>0.37578074811450785</td><td>null</td><td>null</td><td>null</td><td>0.7140994719763627</td><td>70.80139561161255</td><td>76.42576845637467</td><td>0.9547199115132876</td><td>1198.1647047946237</td><td>13.805149119347435</td><td>0.9482827432384792</td><td>0.23257857098804421</td><td>2.2282006210319514</td><td>1.6595631387406184</td><td>null</td><td>0.04914765352186226</td><td>15.273077679603345</td><td>0.5219627145750482</td><td>0.16001231057922746</td><td>1.047321940025361</td></tr>\n",
       "<tr><td>min</td><td>1</td><td>2008-12-31 22:06:48</td><td>2008-12-31 23:12:08</td><td>N</td><td>1</td><td>1</td><td>1</td><td>0</td><td>-33.69</td><td>-210.0</td><td>-4.5</td><td>-0.5</td><td>-10.56</td><td>-6.12</td><td>null</td><td>-0.3</td><td>-210.3</td><td>1</td><td>1</td><td>-2.75</td></tr>\n",
       "<tr><td>25%</td><td>2</td><td>null</td><td>null</td><td>null</td><td>1</td><td>52</td><td>63</td><td>1</td><td>1.13</td><td>7.5</td><td>0.0</td><td>0.0</td><td>0.0</td><td>0.0</td><td>null</td><td>0.3</td><td>9.36</td><td>1</td><td>1</td><td>0.0</td></tr>\n",
       "<tr><td>50%</td><td>2</td><td>null</td><td>null</td><td>null</td><td>1</td><td>81</td><td>127</td><td>1</td><td>2.21</td><td>12.5</td><td>0.0</td><td>0.5</td><td>0.0</td><td>0.0</td><td>null</td><td>0.3</td><td>15.7</td><td>1</td><td>1</td><td>0.0</td></tr>\n",
       "<tr><td>75%</td><td>2</td><td>null</td><td>null</td><td>null</td><td>1</td><td>166</td><td>194</td><td>1</td><td>4.87</td><td>22.11</td><td>1.0</td><td>0.5</td><td>2.75</td><td>0.0</td><td>null</td><td>0.3</td><td>26.0</td><td>2</td><td>1</td><td>0.0</td></tr>\n",
       "<tr><td>max</td><td>2</td><td>2041-08-17 16:24:38</td><td>2041-08-17 16:27:20</td><td>Y</td><td>99</td><td>265</td><td>265</td><td>9</td><td>205654.12</td><td>803.0</td><td>16.74</td><td>3.55</td><td>641.2</td><td>96.12</td><td>null</td><td>0.3</td><td>803.8</td><td>5</td><td>2</td><td>2.75</td></tr>\n",
       "</table>\n"
      ],
      "text/plain": [
       "+-------+-------------------+--------------------+---------------------+------------------+------------------+------------------+-----------------+------------------+------------------+------------------+------------------+-------------------+------------------+------------------+---------+---------------------+------------------+------------------+-------------------+--------------------+\n",
       "|summary|           VendorID|lpep_pickup_datetime|lpep_dropoff_datetime|store_and_fwd_flag|        RatecodeID|      PULocationID|     DOLocationID|   passenger_count|     trip_distance|       fare_amount|             extra|            mta_tax|        tip_amount|      tolls_amount|ehail_fee|improvement_surcharge|      total_amount|      payment_type|          trip_type|congestion_surcharge|\n",
       "+-------+-------------------+--------------------+---------------------+------------------+------------------+------------------+-----------------+------------------+------------------+------------------+------------------+-------------------+------------------+------------------+---------+---------------------+------------------+------------------+-------------------+--------------------+\n",
       "|  count|            1205959|             1734051|              1734051|           1205959|           1205959|           1734051|          1734051|           1205959|           1734051|           1734051|           1734051|            1734051|           1734051|           1734051|        0|              1734051|           1734051|           1205959|            1205954|             1205959|\n",
       "|   mean| 1.8298316941123205|                null|                 null|              null| 1.118096054675159|108.24825682750969|128.7862756055041|1.2913266537253754|17.292239957186986|16.984788048339592|0.5418312033498438| 0.3480491346563625| 1.263317930095531|0.4129914979431395|     null|  0.29325262059946694| 20.16313390433051|1.4599285713693417| 1.0262953644998067|  0.4842113206170359|\n",
       "| stddev|0.37578074811450785|                null|                 null|              null|0.7140994719763627| 70.80139561161255|76.42576845637467|0.9547199115132876|1198.1647047946237|13.805149119347435|0.9482827432384792|0.23257857098804421|2.2282006210319514|1.6595631387406184|     null|  0.04914765352186226|15.273077679603345|0.5219627145750482|0.16001231057922746|   1.047321940025361|\n",
       "|    min|                  1| 2008-12-31 22:06:48|  2008-12-31 23:12:08|                 N|                 1|                 1|                1|                 0|            -33.69|            -210.0|              -4.5|               -0.5|            -10.56|             -6.12|     null|                 -0.3|            -210.3|                 1|                  1|               -2.75|\n",
       "|    25%|                  2|                null|                 null|              null|                 1|                52|               63|                 1|              1.13|               7.5|               0.0|                0.0|               0.0|               0.0|     null|                  0.3|              9.36|                 1|                  1|                 0.0|\n",
       "|    50%|                  2|                null|                 null|              null|                 1|                81|              127|                 1|              2.21|              12.5|               0.0|                0.5|               0.0|               0.0|     null|                  0.3|              15.7|                 1|                  1|                 0.0|\n",
       "|    75%|                  2|                null|                 null|              null|                 1|               166|              194|                 1|              4.87|             22.11|               1.0|                0.5|              2.75|               0.0|     null|                  0.3|              26.0|                 2|                  1|                 0.0|\n",
       "|    max|                  2| 2041-08-17 16:24:38|  2041-08-17 16:27:20|                 Y|                99|               265|              265|                 9|         205654.12|             803.0|             16.74|               3.55|             641.2|             96.12|     null|                  0.3|             803.8|                 5|                  2|                2.75|\n",
       "+-------+-------------------+--------------------+---------------------+------------------+------------------+------------------+-----------------+------------------+------------------+------------------+------------------+-------------------+------------------+------------------+---------+---------------------+------------------+------------------+-------------------+--------------------+"
      ]
     },
     "execution_count": 10,
     "metadata": {},
     "output_type": "execute_result"
    }
   ],
   "source": [
    "df.summary()"
   ]
  },
  {
   "cell_type": "markdown",
   "id": "d30325a6",
   "metadata": {},
   "source": [
    "In this summary, I find something interesting. \n",
    "* The vendor is dominating by `VendorID` = 2, that is Verifone Inc. Also, it has many null values.\n",
    "* Both pick up and drop off dates contain typos as this is just a dataset for 2020\n",
    "* The `RateCodeID` contains a number exceeds 6\n",
    "* The number of passenger exceeds 4 for green taxies, based on this [information](https://freetoursbyfoot.com/how-to-get-a-taxi-in-nyc/). The zero in passenger maybe a cancelled trip or mistyped by the driver.\n",
    "* The `trip_distance` has a nonsense minimum and maximum value.\n",
    "* The `fare_amount`, `extra`, `mta_tax`,`tip_amount`, `total_amount`,`improvement_surcharge`, and `congestion_surcharge` minimum value has a negative value.\n",
    "* The `ehall_fee` are null for all records.\n",
    "* Null values also come in `store_and_fwd_flag`, `RateCodeID`, `passenger_count`, `payment_type`, `trip_type`, and `congestion_surcharge`."
   ]
  },
  {
   "cell_type": "code",
   "execution_count": 11,
   "id": "22dc6b48",
   "metadata": {
    "scrolled": false
   },
   "outputs": [
    {
     "name": "stdout",
     "output_type": "stream",
     "text": [
      "+--------+--------------------+---------------------+------------------+----------+------------+------------+---------------+-------------+-----------+-----+-------+----------+------------+---------+---------------------+------------+------------+---------+--------------------+\n",
      "|VendorID|lpep_pickup_datetime|lpep_dropoff_datetime|store_and_fwd_flag|RatecodeID|PULocationID|DOLocationID|passenger_count|trip_distance|fare_amount|extra|mta_tax|tip_amount|tolls_amount|ehail_fee|improvement_surcharge|total_amount|payment_type|trip_type|congestion_surcharge|\n",
      "+--------+--------------------+---------------------+------------------+----------+------------+------------+---------------+-------------+-----------+-----+-------+----------+------------+---------+---------------------+------------+------------+---------+--------------------+\n",
      "|       2| 2019-12-18 15:52:30|  2019-12-18 15:54:39|                 N|         1|         264|         264|              5|          0.0|        3.5|  0.5|    0.5|      0.01|         0.0|     null|                  0.3|        4.81|           1|        1|                 0.0|\n",
      "|       2| 2020-01-01 00:45:58|  2020-01-01 00:56:39|                 N|         5|          66|          65|              2|         1.28|       20.0|  0.0|    0.0|      4.06|         0.0|     null|                  0.3|       24.36|           1|        2|                 0.0|\n",
      "|       2| 2020-01-01 00:41:38|  2020-01-01 00:52:49|                 N|         1|         181|         228|              1|         2.47|       10.5|  0.5|    0.5|      3.54|         0.0|     null|                  0.3|       15.34|           1|        1|                 0.0|\n",
      "|       1| 2020-01-01 00:52:46|  2020-01-01 01:14:21|                 N|         1|         129|         263|              2|          6.3|       21.0| 3.25|    0.5|       0.0|         0.0|     null|                  0.3|       25.05|           2|        1|                2.75|\n",
      "|       1| 2020-01-01 00:19:57|  2020-01-01 00:30:56|                 N|         1|         210|         150|              1|          2.3|       10.0|  0.5|    0.5|       0.0|         0.0|     null|                  0.3|        11.3|           1|        1|                 0.0|\n",
      "+--------+--------------------+---------------------+------------------+----------+------------+------------+---------------+-------------+-----------+-----+-------+----------+------------+---------+---------------------+------------+------------+---------+--------------------+\n",
      "only showing top 5 rows\n",
      "\n"
     ]
    }
   ],
   "source": [
    "df.show(5)"
   ]
  },
  {
   "cell_type": "code",
   "execution_count": 12,
   "id": "075e3807",
   "metadata": {
    "scrolled": true
   },
   "outputs": [
    {
     "name": "stdout",
     "output_type": "stream",
     "text": [
      "+--------+--------------------+---------------------+------------------+----------+------------+------------+---------------+-------------+-----------+-----+-------+----------+------------+---------+---------------------+------------+------------+---------+--------------------+\n",
      "|VendorID|lpep_pickup_datetime|lpep_dropoff_datetime|store_and_fwd_flag|RatecodeID|PULocationID|DOLocationID|passenger_count|trip_distance|fare_amount|extra|mta_tax|tip_amount|tolls_amount|ehail_fee|improvement_surcharge|total_amount|payment_type|trip_type|congestion_surcharge|\n",
      "+--------+--------------------+---------------------+------------------+----------+------------+------------+---------------+-------------+-----------+-----+-------+----------+------------+---------+---------------------+------------+------------+---------+--------------------+\n",
      "|    null| 2020-01-01 00:39:00|  2020-01-01 01:11:00|              null|      null|         143|          45|           null|         5.57|      25.78| 2.75|    0.0|       0.0|         0.0|     null|                  0.3|       28.83|        null|     null|                null|\n",
      "|    null| 2020-01-01 00:39:00|  2020-01-01 01:11:00|              null|      null|         143|          45|           null|         5.57|      26.82|  0.0|    0.0|       0.0|         0.0|     null|                  0.3|       27.12|        null|     null|                null|\n",
      "|    null| 2020-01-01 00:45:00|  2020-01-01 01:03:00|              null|      null|         197|         122|           null|          7.0|      24.86| 2.75|    0.0|       0.0|         0.0|     null|                  0.3|       27.91|        null|     null|                null|\n",
      "|    null| 2020-01-01 00:45:00|  2020-01-01 01:03:00|              null|      null|         197|         122|           null|          7.0|       17.5|  0.0|    0.0|       0.0|         0.0|     null|                  0.3|        17.8|        null|     null|                null|\n",
      "|    null| 2020-01-01 00:04:00|  2020-01-01 00:16:00|              null|      null|          17|          97|           null|          2.2|      16.73| 2.75|    0.0|       0.0|         0.0|     null|                  0.3|       19.78|        null|     null|                null|\n",
      "|    null| 2020-01-01 00:04:00|  2020-01-01 00:16:00|              null|      null|          17|          97|           null|          2.2|      12.02|  0.0|    0.0|       0.0|         0.0|     null|                  0.3|       12.32|        null|     null|                null|\n",
      "|    null| 2020-01-01 00:32:00|  2020-01-01 01:08:00|              null|      null|          38|          17|           null|        20.27|      49.35| 2.75|    0.0|       0.0|         0.0|     null|                  0.3|        52.4|        null|     null|                null|\n",
      "|    null| 2020-01-01 00:32:00|  2020-01-01 01:08:00|              null|      null|          38|          17|           null|        20.27|      46.09|  0.0|    0.0|       0.0|         0.0|     null|                  0.3|       46.39|        null|     null|                null|\n",
      "|    null| 2020-01-01 00:58:00|  2020-01-01 01:32:00|              null|      null|          56|         117|           null|       -15.42|      50.57| 2.75|    0.5|       0.0|         0.0|     null|                  0.3|       54.12|        null|     null|                null|\n",
      "|    null| 2020-01-01 00:58:00|  2020-01-01 01:32:00|              null|      null|          56|         117|           null|       -15.42|      37.47|  0.0|    0.5|       0.0|         0.0|     null|                  0.3|       38.27|        null|     null|                null|\n",
      "|    null| 2020-01-01 00:53:00|  2020-01-01 01:20:00|              null|      null|          77|         189|           null|         5.33|      23.31| 2.75|    0.0|       0.0|         0.0|     null|                  0.3|       26.36|        null|     null|                null|\n",
      "|    null| 2020-01-01 00:53:00|  2020-01-01 01:20:00|              null|      null|          77|         189|           null|         5.33|      49.33|  0.0|    0.0|       0.0|         0.0|     null|                  0.3|       49.63|        null|     null|                null|\n",
      "|    null| 2020-01-01 00:16:00|  2020-01-01 00:42:00|              null|      null|         216|         155|           null|         8.88|      40.94|  5.5|    0.0|       0.0|         0.0|     null|                  0.3|       46.74|        null|     null|                null|\n",
      "|    null| 2020-01-01 00:16:00|  2020-01-01 00:42:00|              null|      null|         216|         155|           null|         8.88|      26.18|  0.0|    0.0|       0.0|         0.0|     null|                  0.3|       26.48|        null|     null|                null|\n",
      "|    null| 2020-01-01 00:07:00|  2020-01-01 00:22:00|              null|      null|         216|         222|           null|          0.0|      33.36| 2.75|    0.0|       0.0|         0.0|     null|                  0.0|       36.11|        null|     null|                null|\n",
      "|    null| 2020-01-01 00:07:00|  2020-01-01 00:22:00|              null|      null|         216|         222|           null|          0.0|      15.83|  0.0|    0.0|       0.0|         0.0|     null|                  0.0|       15.83|        null|     null|                null|\n",
      "|    null| 2020-01-01 00:37:00|  2020-01-01 00:51:00|              null|      null|         216|          39|           null|        -2.98|      20.06|  5.5|    0.5|       0.0|         0.0|     null|                  0.3|       26.36|        null|     null|                null|\n",
      "|    null| 2020-01-01 00:37:00|  2020-01-01 00:51:00|              null|      null|         216|          39|           null|        -2.98|      29.05|  0.0|    0.5|       0.0|         0.0|     null|                  0.3|       29.85|        null|     null|                null|\n",
      "|    null| 2020-01-01 00:12:00|  2020-01-01 00:33:00|              null|      null|          35|          89|           null|         3.74|      21.37| 2.75|    0.0|       0.0|         0.0|     null|                  0.3|       24.42|        null|     null|                null|\n",
      "|    null| 2020-01-01 00:12:00|  2020-01-01 00:33:00|              null|      null|          35|          89|           null|         3.74|      17.99|  0.0|    0.0|       0.0|         0.0|     null|                  0.3|       18.29|        null|     null|                null|\n",
      "|    null| 2020-01-01 00:33:00|  2020-01-01 01:36:00|              null|      null|         136|          62|           null|        20.97|      52.26| 2.75|    0.0|       0.0|        6.12|     null|                  0.3|       61.43|        null|     null|                null|\n",
      "|    null| 2020-01-01 00:33:00|  2020-01-01 01:36:00|              null|      null|         136|          62|           null|        20.97|      43.83|  0.0|    0.0|       0.0|        6.12|     null|                  0.3|       50.25|        null|     null|                null|\n",
      "|    null| 2020-01-01 00:37:00|  2020-01-01 01:12:00|              null|      null|          60|           4|           null|        11.87|      48.85| 2.75|    0.0|       0.0|         0.0|     null|                  0.3|        51.9|        null|     null|                null|\n",
      "|    null| 2020-01-01 00:37:00|  2020-01-01 01:12:00|              null|      null|          60|           4|           null|        11.87|      30.83|  0.0|    0.0|       0.0|         0.0|     null|                  0.3|       31.13|        null|     null|                null|\n",
      "|    null| 2020-01-01 00:24:00|  2020-01-01 00:50:00|              null|      null|          35|          55|           null|        11.83|      36.16| 2.75|    0.0|       0.0|         0.0|     null|                  0.3|       39.21|        null|     null|                null|\n",
      "|    null| 2020-01-01 00:24:00|  2020-01-01 00:50:00|              null|      null|          35|          55|           null|        11.83|      32.94|  0.0|    0.0|       0.0|         0.0|     null|                  0.3|       33.24|        null|     null|                null|\n",
      "|    null| 2020-01-01 00:15:00|  2020-01-01 00:47:00|              null|      null|          37|          76|           null|         4.83|      26.83| 2.75|    0.0|       0.0|         0.0|     null|                  0.3|       29.88|        null|     null|                null|\n",
      "|    null| 2020-01-01 00:15:00|  2020-01-01 00:47:00|              null|      null|          37|          76|           null|         4.83|      21.33|  0.0|    0.0|       0.0|         0.0|     null|                  0.3|       21.63|        null|     null|                null|\n",
      "|    null| 2020-01-01 00:28:00|  2020-01-01 00:50:00|              null|      null|         177|         188|           null|         3.07|      13.98|  5.5|    0.0|       0.0|         0.0|     null|                  0.3|       19.78|        null|     null|                null|\n",
      "|    null| 2020-01-01 00:28:00|  2020-01-01 00:50:00|              null|      null|         177|         188|           null|         3.07|      16.21|  0.0|    0.0|       0.0|         0.0|     null|                  0.3|       16.51|        null|     null|                null|\n",
      "|    null| 2020-01-01 00:21:00|  2020-01-01 00:56:00|              null|      null|          42|          36|           null|        10.62|      44.32| 2.75|    0.0|       0.0|        6.12|     null|                  0.3|       53.49|        null|     null|                null|\n",
      "|    null| 2020-01-01 00:21:00|  2020-01-01 00:56:00|              null|      null|          42|          36|           null|        10.62|      38.38|  0.0|    0.0|       0.0|        6.12|     null|                  0.3|        44.8|        null|     null|                null|\n",
      "|    null| 2020-01-01 00:02:00|  2020-01-01 00:10:00|              null|      null|          41|          42|           null|         1.31|      17.69| 2.75|    0.0|       0.0|         0.0|     null|                  0.3|       20.74|        null|     null|                null|\n",
      "|    null| 2020-01-01 00:02:00|  2020-01-01 00:10:00|              null|      null|          41|          42|           null|         1.31|        8.0|  0.0|    0.0|       0.0|         0.0|     null|                  0.3|         8.3|        null|     null|                null|\n",
      "|    null| 2020-01-01 00:32:00|  2020-01-01 00:57:00|              null|      null|          42|          32|           null|          8.2|      27.19|  5.5|    0.0|       0.0|         0.0|     null|                  0.3|       32.99|        null|     null|                null|\n",
      "|    null| 2020-01-01 00:32:00|  2020-01-01 00:57:00|              null|      null|          42|          32|           null|          8.2|      28.81|  0.0|    0.0|       0.0|         0.0|     null|                  0.3|       29.11|        null|     null|                null|\n",
      "|    null| 2020-01-01 00:44:00|  2020-01-01 00:58:00|              null|      null|          60|         168|           null|          2.7|      21.26| 2.75|    0.0|       0.0|         0.0|     null|                  0.3|       24.31|        null|     null|                null|\n",
      "|    null| 2020-01-01 00:44:00|  2020-01-01 00:58:00|              null|      null|          60|         168|           null|          2.7|      24.15|  0.0|    0.0|       0.0|         0.0|     null|                  0.3|       24.45|        null|     null|                null|\n",
      "|    null| 2020-01-01 00:21:00|  2020-01-01 00:46:00|              null|      null|         146|         198|           null|          4.9|      26.45| 2.75|    0.0|       0.0|         0.0|     null|                  0.3|        29.5|        null|     null|                null|\n",
      "|    null| 2020-01-01 00:21:00|  2020-01-01 00:46:00|              null|      null|         146|         198|           null|          4.9|      13.87|  0.0|    0.0|       0.0|         0.0|     null|                  0.3|       14.17|        null|     null|                null|\n",
      "|    null| 2020-01-01 00:59:00|  2020-01-01 01:26:00|              null|      null|          61|         222|           null|         3.97|      23.31| 2.75|    0.0|       0.0|         0.0|     null|                  0.3|       26.36|        null|     null|                null|\n",
      "|    null| 2020-01-01 00:59:00|  2020-01-01 01:26:00|              null|      null|          61|         222|           null|         3.97|      42.64|  0.0|    0.0|       0.0|         0.0|     null|                  0.3|       42.94|        null|     null|                null|\n",
      "|    null| 2020-01-01 00:27:00|  2020-01-01 01:00:00|              null|      null|         122|          25|           null|        16.69|      58.07| 2.75|    0.0|       0.0|         0.0|     null|                  0.3|       61.12|        null|     null|                null|\n",
      "|    null| 2020-01-01 00:27:00|  2020-01-01 01:00:00|              null|      null|         122|          25|           null|        16.69|      42.54|  0.0|    0.0|       0.0|         0.0|     null|                  0.3|       42.84|        null|     null|                null|\n",
      "|    null| 2020-01-01 00:30:00|  2020-01-01 00:43:00|              null|      null|         250|          18|           null|         3.51|      19.57| 2.75|    0.0|       0.0|         0.0|     null|                  0.3|       22.62|        null|     null|                null|\n",
      "|    null| 2020-01-01 00:30:00|  2020-01-01 00:43:00|              null|      null|         250|          18|           null|         3.51|      18.55|  0.0|    0.0|       0.0|         0.0|     null|                  0.3|       18.85|        null|     null|                null|\n",
      "|    null| 2020-01-01 00:58:00|  2020-01-01 01:17:00|              null|      null|          94|          47|           null|         2.98|      23.21| 2.75|    0.0|       0.0|         0.0|     null|                  0.3|       26.26|        null|     null|                null|\n",
      "|    null| 2020-01-01 00:58:00|  2020-01-01 01:17:00|              null|      null|          94|          47|           null|         2.98|      18.88|  0.0|    0.0|       0.0|         0.0|     null|                  0.3|       19.18|        null|     null|                null|\n",
      "|    null| 2020-01-01 00:48:00|  2020-01-01 00:52:00|              null|      null|         188|         188|           null|         0.25|      13.75| 2.75|    0.5|       0.0|         0.0|     null|                  0.0|        17.0|        null|     null|                null|\n",
      "|    null| 2020-01-01 00:48:00|  2020-01-01 00:52:00|              null|      null|         188|         188|           null|         0.25|       23.0|  0.0|    0.5|       0.0|         0.0|     null|                  0.0|        23.5|        null|     null|                null|\n",
      "|    null| 2020-01-01 00:07:00|  2020-01-01 00:31:00|              null|      null|          41|          92|           null|        11.02|      30.86|  5.5|    0.0|       0.0|        6.12|     null|                  0.3|       42.78|        null|     null|                null|\n",
      "|    null| 2020-01-01 00:07:00|  2020-01-01 00:31:00|              null|      null|          41|          92|           null|        11.02|      27.48|  0.0|    0.0|       0.0|        6.12|     null|                  0.3|        33.9|        null|     null|                null|\n",
      "|    null| 2020-01-01 00:16:00|  2020-01-01 00:29:00|              null|      null|          60|         182|           null|         2.45|      13.17| 2.75|    0.0|       0.0|         0.0|     null|                  0.3|       16.22|        null|     null|                null|\n",
      "|    null| 2020-01-01 00:16:00|  2020-01-01 00:29:00|              null|      null|          60|         182|           null|         2.45|      11.73|  0.0|    0.0|       0.0|         0.0|     null|                  0.3|       12.03|        null|     null|                null|\n",
      "|    null| 2020-01-01 00:05:00|  2020-01-01 00:18:00|              null|      null|         259|          18|           null|         3.64|      20.07| 2.75|    0.0|       0.0|         0.0|     null|                  0.3|       23.12|        null|     null|                null|\n",
      "|    null| 2020-01-01 00:05:00|  2020-01-01 00:18:00|              null|      null|         259|          18|           null|         3.64|      14.83|  0.0|    0.0|       0.0|         0.0|     null|                  0.3|       15.13|        null|     null|                null|\n",
      "|    null| 2020-01-01 00:21:00|  2020-01-01 00:37:00|              null|      null|         215|         218|           null|         2.12|      18.58| 2.75|    0.0|       0.0|         0.0|     null|                  0.3|       21.63|        null|     null|                null|\n",
      "|    null| 2020-01-01 00:21:00|  2020-01-01 00:37:00|              null|      null|         215|         218|           null|         2.12|       10.0|  0.0|    0.0|       0.0|         0.0|     null|                  0.3|        10.3|        null|     null|                null|\n",
      "|    null| 2020-01-01 00:53:00|  2020-01-01 01:17:00|              null|      null|         247|         254|           null|         8.71|      23.21| 2.75|    0.0|       0.0|         0.0|     null|                  0.3|       26.26|        null|     null|                null|\n",
      "|    null| 2020-01-01 00:53:00|  2020-01-01 01:17:00|              null|      null|         247|         254|           null|         8.71|      20.25|  0.0|    0.0|       0.0|         0.0|     null|                  0.3|       20.55|        null|     null|                null|\n",
      "|    null| 2020-01-01 00:46:00|  2020-01-01 00:55:00|              null|      null|         123|         108|           null|         1.39|      12.82| 2.75|    0.0|       0.0|         0.0|     null|                  0.3|       15.87|        null|     null|                null|\n",
      "|    null| 2020-01-01 00:46:00|  2020-01-01 00:55:00|              null|      null|         123|         108|           null|         1.39|       18.0|  0.0|    0.0|       0.0|         0.0|     null|                  0.3|        18.3|        null|     null|                null|\n",
      "|    null| 2020-01-01 00:26:00|  2020-01-01 00:27:00|              null|      null|         225|         225|           null|         0.42|      16.73| 2.75|    0.0|       0.0|         0.0|     null|                  0.3|       19.78|        null|     null|                null|\n",
      "|    null| 2020-01-01 00:26:00|  2020-01-01 00:27:00|              null|      null|         225|         225|           null|         0.42|      18.32|  0.0|    0.0|       0.0|         0.0|     null|                  0.3|       18.62|        null|     null|                null|\n",
      "|    null| 2020-01-01 00:32:00|  2020-01-01 00:39:00|              null|      null|         225|         177|           null|         1.44|      16.73| 2.75|    0.0|       0.0|         0.0|     null|                  0.3|       19.78|        null|     null|                null|\n",
      "|    null| 2020-01-01 00:32:00|  2020-01-01 00:39:00|              null|      null|         225|         177|           null|         1.44|       23.0|  0.0|    0.0|       0.0|         0.0|     null|                  0.3|        23.3|        null|     null|                null|\n",
      "|    null| 2020-01-01 00:24:00|  2020-01-01 00:35:00|              null|      null|          42|         235|           null|         4.17|      18.47|  5.5|    0.0|       0.0|         0.0|     null|                  0.3|       24.27|        null|     null|                null|\n",
      "|    null| 2020-01-01 00:24:00|  2020-01-01 00:35:00|              null|      null|          42|         235|           null|         4.17|      18.84|  0.0|    0.0|       0.0|         0.0|     null|                  0.3|       19.14|        null|     null|                null|\n",
      "|    null| 2020-01-01 00:51:00|  2020-01-01 01:01:00|              null|      null|          59|          69|           null|         1.34|      14.55| 2.75|    0.0|       0.0|         0.0|     null|                  0.3|        17.6|        null|     null|                null|\n",
      "|    null| 2020-01-01 00:51:00|  2020-01-01 01:01:00|              null|      null|          59|          69|           null|         1.34|       18.0|  0.0|    0.0|       0.0|         0.0|     null|                  0.3|        18.3|        null|     null|                null|\n",
      "|    null| 2020-01-01 00:54:00|  2020-01-01 01:01:00|              null|      null|          42|          74|           null|         0.82|      17.69| 2.75|    0.0|       0.0|         0.0|     null|                  0.3|       20.74|        null|     null|                null|\n",
      "|    null| 2020-01-01 00:54:00|  2020-01-01 01:01:00|              null|      null|          42|          74|           null|         0.82|        8.0|  0.0|    0.0|       0.0|         0.0|     null|                  0.3|         8.3|        null|     null|                null|\n",
      "|    null| 2020-01-01 00:33:00|  2020-01-01 00:48:00|              null|      null|         166|          42|           null|          2.3|      17.69| 2.75|    0.0|       0.0|         0.0|     null|                  0.3|       20.74|        null|     null|                null|\n",
      "|    null| 2020-01-01 00:33:00|  2020-01-01 00:48:00|              null|      null|         166|          42|           null|          2.3|       9.71|  0.0|    0.0|       0.0|         0.0|     null|                  0.3|       10.01|        null|     null|                null|\n",
      "|    null| 2020-01-01 00:12:00|  2020-01-01 00:45:00|              null|      null|         215|          75|           null|        15.77|       48.5| 2.75|    0.0|       0.0|        6.12|     null|                  0.3|       57.67|        null|     null|                null|\n",
      "|    null| 2020-01-01 00:12:00|  2020-01-01 00:45:00|              null|      null|         215|          75|           null|        15.77|      39.84|  0.0|    0.0|       0.0|        6.12|     null|                  0.3|       46.26|        null|     null|                null|\n",
      "|    null| 2020-01-01 00:03:00|  2020-01-01 00:20:00|              null|      null|          78|         168|           null|         3.38|      18.51|  5.5|    0.0|       0.0|         0.0|     null|                  0.3|       24.31|        null|     null|                null|\n",
      "|    null| 2020-01-01 00:03:00|  2020-01-01 00:20:00|              null|      null|          78|         168|           null|         3.38|       9.85|  0.0|    0.0|       0.0|         0.0|     null|                  0.3|       10.15|        null|     null|                null|\n",
      "|    null| 2020-01-01 00:59:00|  2020-01-01 01:23:00|              null|      null|          55|         216|           null|        14.05|      51.45|  5.5|    0.0|       0.0|         0.0|     null|                  0.3|       57.25|        null|     null|                null|\n",
      "|    null| 2020-01-01 00:59:00|  2020-01-01 01:23:00|              null|      null|          55|         216|           null|        14.05|      34.58|  0.0|    0.0|       0.0|         0.0|     null|                  0.3|       34.88|        null|     null|                null|\n",
      "|    null| 2020-01-01 00:49:00|  2020-01-01 01:12:00|              null|      null|         167|         174|           null|          5.8|      23.21| 2.75|    0.0|       0.0|         0.0|     null|                  0.3|       26.26|        null|     null|                null|\n",
      "|    null| 2020-01-01 00:49:00|  2020-01-01 01:12:00|              null|      null|         167|         174|           null|          5.8|      16.93|  0.0|    0.0|       0.0|         0.0|     null|                  0.3|       17.23|        null|     null|                null|\n",
      "|    null| 2020-01-01 00:25:00|  2020-01-01 00:30:00|              null|      null|         119|         235|           null|         0.49|      18.52| 2.75|    0.0|       0.0|         0.0|     null|                  0.3|       21.57|        null|     null|                null|\n",
      "|    null| 2020-01-01 00:25:00|  2020-01-01 00:30:00|              null|      null|         119|         235|           null|         0.49|       14.0|  0.0|    0.0|       0.0|         0.0|     null|                  0.3|        14.3|        null|     null|                null|\n",
      "|    null| 2020-01-01 00:04:00|  2020-01-01 00:15:00|              null|      null|         177|          35|           null|          1.1|      16.53| 2.75|    0.5|       0.0|         0.0|     null|                  0.0|       19.78|        null|     null|                null|\n",
      "|    null| 2020-01-01 00:04:00|  2020-01-01 00:15:00|              null|      null|         177|          35|           null|          1.1|        8.0|  0.0|    0.5|       0.0|         0.0|     null|                  0.0|         8.5|        null|     null|                null|\n",
      "|    null| 2020-01-01 00:35:00|  2020-01-01 00:54:00|              null|      null|          61|          91|           null|        -2.99|      25.77| 2.75|    0.5|       0.0|         0.0|     null|                  0.3|       29.32|        null|     null|                null|\n",
      "|    null| 2020-01-01 00:35:00|  2020-01-01 00:54:00|              null|      null|          61|          91|           null|        -2.99|      26.84|  0.0|    0.5|       0.0|         0.0|     null|                  0.3|       27.64|        null|     null|                null|\n",
      "|    null| 2020-01-01 00:28:00|  2020-01-01 00:39:00|              null|      null|         225|          61|           null|         1.64|      15.45| 2.75|    0.0|       0.0|         0.0|     null|                  0.3|        18.5|        null|     null|                null|\n",
      "|    null| 2020-01-01 00:28:00|  2020-01-01 00:39:00|              null|      null|         225|          61|           null|         1.64|       8.26|  0.0|    0.0|       0.0|         0.0|     null|                  0.3|        8.56|        null|     null|                null|\n",
      "|    null| 2020-01-01 00:23:00|  2020-01-01 00:52:00|              null|      null|          41|          54|           null|        12.62|      51.05| 2.75|    0.5|       0.0|         0.0|     null|                  0.3|        54.6|        null|     null|                null|\n",
      "|    null| 2020-01-01 00:23:00|  2020-01-01 00:52:00|              null|      null|          41|          54|           null|        12.62|      38.31|  0.0|    0.5|       0.0|         0.0|     null|                  0.3|       39.11|        null|     null|                null|\n",
      "|    null| 2020-01-01 00:15:00|  2020-01-01 00:19:00|              null|      null|          49|         189|           null|         0.85|      16.73| 2.75|    0.0|       0.0|         0.0|     null|                  0.3|       19.78|        null|     null|                null|\n",
      "|    null| 2020-01-01 00:15:00|  2020-01-01 00:19:00|              null|      null|          49|         189|           null|         0.85|       14.0|  0.0|    0.0|       0.0|         0.0|     null|                  0.3|        14.3|        null|     null|                null|\n",
      "|    null| 2020-01-01 00:42:00|  2020-01-01 01:10:00|              null|      null|          25|         177|           null|         4.52|      20.93| 2.75|    0.0|       0.0|         0.0|     null|                  0.3|       23.98|        null|     null|                null|\n",
      "|    null| 2020-01-01 00:42:00|  2020-01-01 01:10:00|              null|      null|          25|         177|           null|         4.52|      18.85|  0.0|    0.0|       0.0|         0.0|     null|                  0.3|       19.15|        null|     null|                null|\n",
      "|    null| 2020-01-01 00:42:00|  2020-01-01 00:54:00|              null|      null|          41|          42|           null|         1.69|      17.69| 2.75|    0.0|       0.0|         0.0|     null|                  0.3|       20.74|        null|     null|                null|\n",
      "|    null| 2020-01-01 00:42:00|  2020-01-01 00:54:00|              null|      null|          41|          42|           null|         1.69|      16.52|  0.0|    0.0|       0.0|         0.0|     null|                  0.3|       16.82|        null|     null|                null|\n",
      "|    null| 2020-01-01 00:43:00|  2020-01-01 00:48:00|              null|      null|         215|         205|           null|         0.74|      18.58| 2.75|    0.0|       0.0|         0.0|     null|                  0.3|       21.63|        null|     null|                null|\n",
      "|    null| 2020-01-01 00:43:00|  2020-01-01 00:48:00|              null|      null|         215|         205|           null|         0.74|       10.0|  0.0|    0.0|       0.0|         0.0|     null|                  0.3|        10.3|        null|     null|                null|\n",
      "+--------+--------------------+---------------------+------------------+----------+------------+------------+---------------+-------------+-----------+-----+-------+----------+------------+---------+---------------------+------------+------------+---------+--------------------+\n",
      "only showing top 100 rows\n",
      "\n"
     ]
    }
   ],
   "source": [
    "df1 = df.filter(df.VendorID.isNull())\n",
    "df1.show(100)"
   ]
  },
  {
   "cell_type": "markdown",
   "id": "e0b7bd32",
   "metadata": {},
   "source": [
    "Interesting! I see a pattern here. The datetime, pick up and drop off location id, and `trip_distance` value is doubled with variation in `fare amount`. Also, `extra` column is filled with etiher 0.00 or 2.75. I might delete all these strange records."
   ]
  },
  {
   "cell_type": "code",
   "execution_count": 13,
   "id": "b51b4adb",
   "metadata": {},
   "outputs": [],
   "source": [
    "df_vendor = df.filter(df.VendorID.isNotNull())"
   ]
  },
  {
   "cell_type": "code",
   "execution_count": 14,
   "id": "e46e5a96",
   "metadata": {},
   "outputs": [],
   "source": [
    "df_year = df_vendor.withColumn('do_year', year('lpep_dropoff_datetime'))"
   ]
  },
  {
   "cell_type": "code",
   "execution_count": 15,
   "id": "4617eb11",
   "metadata": {
    "scrolled": true
   },
   "outputs": [
    {
     "data": {
      "text/plain": [
       "43"
      ]
     },
     "execution_count": 15,
     "metadata": {},
     "output_type": "execute_result"
    }
   ],
   "source": [
    "df_year.filter(col('do_year') < 2020).count()"
   ]
  },
  {
   "cell_type": "code",
   "execution_count": 16,
   "id": "48d02bdd",
   "metadata": {
    "scrolled": true
   },
   "outputs": [
    {
     "name": "stdout",
     "output_type": "stream",
     "text": [
      "+--------+--------------------+---------------------+------------------+----------+------------+------------+---------------+-------------+-----------+-----+-------+----------+------------+---------+---------------------+------------+------------+---------+--------------------+-------+\n",
      "|VendorID|lpep_pickup_datetime|lpep_dropoff_datetime|store_and_fwd_flag|RatecodeID|PULocationID|DOLocationID|passenger_count|trip_distance|fare_amount|extra|mta_tax|tip_amount|tolls_amount|ehail_fee|improvement_surcharge|total_amount|payment_type|trip_type|congestion_surcharge|do_year|\n",
      "+--------+--------------------+---------------------+------------------+----------+------------+------------+---------------+-------------+-----------+-----+-------+----------+------------+---------+---------------------+------------+------------+---------+--------------------+-------+\n",
      "|       2| 2019-12-18 15:52:30|  2019-12-18 15:54:39|                 N|         1|         264|         264|              5|          0.0|        3.5|  0.5|    0.5|      0.01|         0.0|     null|                  0.3|        4.81|           1|        1|                 0.0|   2019|\n",
      "|       2| 2019-12-31 23:08:44|  2019-12-31 23:13:19|                 N|         1|          41|          42|              1|         0.67|        5.0|  0.5|    0.5|       0.0|         0.0|     null|                  0.3|         6.3|           2|        1|                 0.0|   2019|\n",
      "|       2| 2019-12-31 23:25:03|  2019-12-31 23:33:50|                 N|         1|          42|         168|              1|         1.31|        8.0|  0.5|    0.5|      1.86|         0.0|     null|                  0.3|       13.11|           1|        1|                 0.0|   2019|\n",
      "|       2| 2019-12-31 23:42:17|  2019-12-31 23:55:19|                 N|         1|         168|           3|              1|         6.54|       20.0|  0.5|    0.5|       0.0|         0.0|     null|                  0.3|        21.3|           2|        1|                 0.0|   2019|\n",
      "|       2| 2019-12-31 23:22:08|  2019-12-31 23:24:44|                 N|         1|         130|         130|              1|         0.54|        4.0|  0.5|    0.5|       0.0|         0.0|     null|                  0.3|         5.3|           2|        1|                 0.0|   2019|\n",
      "|       2| 2019-12-31 23:45:42|  2019-12-31 23:50:34|                 N|         1|         116|         244|              1|         0.94|        5.5|  0.5|    0.5|      0.01|         0.0|     null|                  0.3|        6.81|           1|        1|                 0.0|   2019|\n",
      "|       2| 2019-12-31 23:21:30|  2019-12-31 23:30:59|                 N|         1|         130|          10|              1|         1.66|        8.0|  0.5|    0.5|       0.0|         0.0|     null|                  0.3|         9.3|           2|        1|                 0.0|   2019|\n",
      "|       2| 2019-12-31 18:58:27|  2019-12-31 18:58:53|                 N|         5|         243|         243|              1|          0.0|      13.99|  0.0|    0.0|       1.0|         0.0|     null|                  0.3|       15.29|           1|        2|                 0.0|   2019|\n",
      "|       2| 2019-12-31 18:59:44|  2019-12-31 18:59:48|                 N|         5|         116|         116|              1|          0.0|      10.09|  0.0|    0.0|      3.12|         0.0|     null|                  0.3|       13.51|           1|        2|                 0.0|   2019|\n",
      "|       2| 2019-12-31 18:06:30|  2019-12-31 18:12:33|                 N|         1|         116|         244|              1|         0.97|        6.0|  0.5|    0.5|      1.82|         0.0|     null|                  0.3|        9.12|           1|        1|                 0.0|   2019|\n",
      "|       2| 2009-01-01 00:45:53|  2009-01-01 00:58:27|                 N|         1|         130|          10|              1|         2.05|       10.0|  1.0|    0.5|       0.0|         0.0|     null|                  0.3|        11.8|           2|        1|                 0.0|   2009|\n",
      "|       2| 2009-01-01 01:53:27|  2009-01-01 02:14:57|                 N|         1|         130|         203|              1|         7.25|       23.0|  1.0|    0.5|       0.0|         0.0|     null|                  0.3|        24.8|           2|        1|                 0.0|   2009|\n",
      "|       2| 2009-01-01 00:07:51|  2009-01-01 21:09:32|                 N|         1|         193|         193|              1|          0.0|        2.5|  0.5|    0.5|      0.95|         0.0|     null|                  0.3|        4.75|           1|        1|                 0.0|   2009|\n",
      "|       2| 2009-01-01 04:53:28|  2009-01-01 05:12:02|                 N|         1|         130|         205|              1|         3.65|       13.5|  0.5|    0.5|       0.0|         0.0|     null|                  0.3|        14.8|           2|        1|                 0.0|   2009|\n",
      "|       2| 2009-01-01 05:48:32|  2009-01-01 06:01:41|                 N|         1|         130|         203|              1|         6.61|       20.0|  0.5|    0.5|       0.0|         0.0|     null|                  0.3|        21.3|           2|        1|                 0.0|   2009|\n",
      "|       2| 2009-01-01 07:07:31|  2009-01-01 07:20:29|                 N|         1|         130|         130|              1|         2.04|        9.0|  0.5|    0.5|       0.0|         0.0|     null|                  0.3|        10.3|           2|        1|                 0.0|   2009|\n",
      "|       2| 2009-01-01 00:08:09|  2009-01-01 00:17:31|                 N|         1|          74|          69|              1|         1.88|        9.0|  0.0|    0.5|       0.0|         0.0|     null|                  0.3|         9.8|           2|        1|                 0.0|   2009|\n",
      "|       2| 2009-01-01 00:34:50|  2009-01-01 00:45:10|                 N|         1|          41|         236|              1|         1.59|        8.0|  0.0|    0.5|       0.0|         0.0|     null|                  0.3|       11.55|           2|        1|                2.75|   2009|\n",
      "|       2| 2009-01-01 00:54:13|  2009-01-01 01:00:23|                 N|         1|          75|         237|              1|         1.11|        6.5|  0.0|    0.5|       0.0|         0.0|     null|                  0.3|       10.05|           2|        1|                2.75|   2009|\n",
      "|       2| 2009-01-01 01:19:36|  2009-01-01 01:28:23|                 N|         1|          41|          41|              1|         0.76|       -7.0|  0.0|   -0.5|       0.0|         0.0|     null|                 -0.3|        -7.8|           3|        1|                 0.0|   2009|\n",
      "|       2| 2009-01-01 01:19:36|  2009-01-01 01:28:23|                 N|         1|          41|          41|              1|         0.76|        7.0|  0.0|    0.5|       0.0|         0.0|     null|                  0.3|         7.8|           2|        1|                 0.0|   2009|\n",
      "|       2| 2009-01-01 02:27:23|  2009-01-01 02:30:11|                 N|         1|          74|          74|              1|         0.46|        4.0|  0.0|    0.5|       0.0|         0.0|     null|                  0.3|         4.8|           2|        1|                 0.0|   2009|\n",
      "|       2| 2010-09-23 00:01:28|  2010-09-23 16:17:35|                 N|         1|          95|         132|              1|         7.16|       22.0|  0.0|    0.5|       0.0|         0.0|     null|                  0.3|        22.8|           2|        1|                 0.0|   2010|\n",
      "|       2| 2010-09-23 00:01:28|  2010-09-23 21:09:38|                 N|         1|          95|          95|              1|         0.76|        4.5|  0.5|    0.5|       3.0|         0.0|     null|                  0.3|         8.8|           1|        1|                 0.0|   2010|\n",
      "|       2| 2010-09-23 00:01:30|  2010-09-23 20:35:57|                 N|         1|          95|          95|              1|         0.62|        4.5|  0.5|    0.5|      1.16|         0.0|     null|                  0.3|        6.96|           1|        1|                 0.0|   2010|\n",
      "|       2| 2008-12-31 23:11:00|  2008-12-31 23:12:08|                 N|         1|         264|         264|              1|          0.0|        0.0|  0.0|    0.0|       0.0|         0.0|     null|                  0.0|         0.0|           2|        1|                 0.0|   2008|\n",
      "|       2| 2009-01-01 00:00:00|  2009-01-01 00:03:58|                 N|         1|           7|         264|              1|          0.0|        9.0|  0.0|    0.5|       0.0|         0.0|     null|                  0.3|         9.8|           2|        1|                 0.0|   2009|\n",
      "|       2| 2009-01-01 00:10:19|  2009-01-01 00:16:57|                 N|         1|          42|         244|              1|         1.52|        7.0|  0.5|    0.5|       0.0|         0.0|     null|                  0.3|         8.3|           2|        1|                 0.0|   2009|\n",
      "|       2| 2009-01-01 00:22:33|  2009-01-01 00:28:25|                 N|         1|         116|         116|              1|         0.94|        6.0|  0.5|    0.5|       0.0|         0.0|     null|                  0.3|         7.3|           2|        1|                 0.0|   2009|\n",
      "|       2| 2009-01-01 11:13:07|  2009-01-01 11:13:38|                 N|         1|         193|         193|              1|          0.0|        0.0|  0.0|    0.0|       0.0|         0.0|     null|                  0.0|         0.0|           2|        1|                 0.0|   2009|\n",
      "|       2| 2008-12-31 23:12:22|  2008-12-31 23:13:59|                 N|         1|         193|           7|              1|          0.0|        0.0|  0.0|    0.0|       0.0|         0.0|     null|                  0.0|         0.0|           2|        1|                 0.0|   2008|\n",
      "|       1| 2020-11-16 19:42:05|  2019-11-17 14:00:54|                 N|         1|          82|          82|              1|          1.4|       10.0|  0.0|    0.5|       0.0|         0.0|     null|                  0.3|        10.8|           2|        1|                 0.0|   2019|\n",
      "|       2| 2009-01-01 00:47:21|  2009-01-01 00:47:47|                 N|         1|         193|         193|              1|          0.0|        2.5|  0.5|    0.5|       0.0|         0.0|     null|                  0.3|         3.8|           2|        1|                 0.0|   2009|\n",
      "|       2| 2008-12-31 23:05:26|  2009-01-01 10:58:56|                 N|         1|         193|         193|              1|          0.0|        0.0|  0.0|    0.0|       0.0|         0.0|     null|                  0.0|         0.0|           1|        1|                 0.0|   2009|\n",
      "|       2| 2009-01-01 01:27:08|  2009-01-01 01:40:50|                 N|         1|          49|         181|              1|         2.24|       11.0|  0.0|    0.5|       0.0|         0.0|     null|                  0.3|        11.8|           2|        1|                 0.0|   2009|\n",
      "|       2| 2009-01-01 21:46:25|  2009-01-01 21:58:56|                 N|         1|          61|          97|              1|         2.81|       11.5|  0.0|    0.5|       0.0|         0.0|     null|                  0.3|        12.3|           2|        1|                 0.0|   2009|\n",
      "|       2| 2009-01-01 01:32:48|  2009-01-01 01:40:22|                 N|         1|         244|         116|              1|         1.41|        7.5|  0.5|    0.5|       0.0|         0.0|     null|                  0.3|         8.8|           2|        1|                 0.0|   2009|\n",
      "|       2| 2009-01-01 01:48:57|  2009-01-01 02:06:38|                 N|         1|         152|          75|              1|         3.23|       14.0|  0.5|    0.5|       0.0|         0.0|     null|                  0.3|        15.3|           2|        1|                 0.0|   2009|\n",
      "|       2| 2009-01-01 02:15:19|  2009-01-01 02:15:46|                 N|         1|          74|          74|              1|         0.05|        2.5|  0.5|    0.5|       0.0|         0.0|     null|                  0.3|         3.8|           2|        1|                 0.0|   2009|\n",
      "|       2| 2009-01-01 02:26:45|  2009-01-01 02:36:58|                 N|         1|          74|          41|              2|         1.45|        8.5|  0.5|    0.5|       0.0|         0.0|     null|                  0.3|         9.8|           2|        1|                 0.0|   2009|\n",
      "|       2| 2009-01-01 12:04:14|  2009-01-01 12:19:08|                 N|         1|         116|          74|              2|          2.8|       13.0|  0.0|    0.5|       0.0|         0.0|     null|                  0.3|        13.8|           2|        1|                 0.0|   2009|\n",
      "|       2| 2008-12-31 22:06:48|  2009-01-01 09:44:26|                 N|         1|         193|         193|              1|          0.0|        0.0|  0.0|    0.0|       0.0|         0.0|     null|                  0.0|         0.0|           1|        1|                 0.0|   2009|\n",
      "|       2| 2009-01-01 00:03:41|  2009-01-01 12:58:31|                 N|         1|         193|         193|              1|          0.0|        0.0|  0.0|    0.0|       0.0|         0.0|     null|                  0.0|         0.0|           1|        1|                 0.0|   2009|\n",
      "+--------+--------------------+---------------------+------------------+----------+------------+------------+---------------+-------------+-----------+-----+-------+----------+------------+---------+---------------------+------------+------------+---------+--------------------+-------+\n",
      "\n"
     ]
    }
   ],
   "source": [
    "df_year.filter(col('do_year') < 2020).show(43)"
   ]
  },
  {
   "cell_type": "code",
   "execution_count": 17,
   "id": "ff20060a",
   "metadata": {
    "scrolled": true
   },
   "outputs": [
    {
     "data": {
      "text/plain": [
       "12"
      ]
     },
     "execution_count": 17,
     "metadata": {},
     "output_type": "execute_result"
    }
   ],
   "source": [
    "df_year.filter(col('do_year') > 2020).count()"
   ]
  },
  {
   "cell_type": "code",
   "execution_count": 18,
   "id": "3bb7d47c",
   "metadata": {},
   "outputs": [
    {
     "name": "stdout",
     "output_type": "stream",
     "text": [
      "+--------+--------------------+---------------------+------------------+----------+------------+------------+---------------+-------------+-----------+-----+-------+----------+------------+---------+---------------------+------------+------------+---------+--------------------+-------+\n",
      "|VendorID|lpep_pickup_datetime|lpep_dropoff_datetime|store_and_fwd_flag|RatecodeID|PULocationID|DOLocationID|passenger_count|trip_distance|fare_amount|extra|mta_tax|tip_amount|tolls_amount|ehail_fee|improvement_surcharge|total_amount|payment_type|trip_type|congestion_surcharge|do_year|\n",
      "+--------+--------------------+---------------------+------------------+----------+------------+------------+---------------+-------------+-----------+-----+-------+----------+------------+---------+---------------------+------------+------------+---------+--------------------+-------+\n",
      "|       2| 2041-08-17 16:24:38|  2041-08-17 16:27:20|                 N|         1|         193|         193|              1|          0.0|        0.0|  0.0|    0.0|       0.0|         0.0|     null|                  0.0|         0.0|           2|        1|                 0.0|   2041|\n",
      "|       2| 2020-12-31 08:48:25|  2021-01-01 08:35:08|                 N|         1|          35|          35|              1|         9.46|       35.5|  0.0|    0.5|       0.0|         0.0|     null|                  0.3|        36.3|           2|        1|                 0.0|   2021|\n",
      "|       2| 2020-12-31 14:41:30|  2021-01-01 13:49:19|                 N|         1|          74|          42|              1|         1.45|        7.5|  0.0|    0.5|       0.0|         0.0|     null|                  0.3|         8.3|           1|        1|                 0.0|   2021|\n",
      "|       2| 2020-12-31 16:41:12|  2021-01-01 16:00:07|                 N|         1|          75|         224|              1|          5.6|       19.5|  1.0|    0.5|       0.0|         0.0|     null|                  0.3|        21.3|           2|        1|                 0.0|   2021|\n",
      "|       2| 2020-12-31 20:47:08|  2021-01-01 08:34:35|                 N|         1|         152|         264|              1|        18.81|       58.5|  0.5|    0.5|       0.0|         0.0|     null|                  0.3|        59.8|           2|        1|                 0.0|   2021|\n",
      "|       2| 2020-12-31 23:59:53|  2021-01-01 00:03:26|                 N|         1|          75|          74|              1|         1.34|        5.5|  0.5|    0.5|      1.36|         0.0|     null|                  0.3|        8.16|           1|        1|                 0.0|   2021|\n",
      "|       1| 2020-12-31 23:51:58|  2021-01-01 00:11:07|                 N|         1|          75|         169|              1|          5.5|       18.5|  0.5|    0.5|       2.0|         0.0|     null|                  0.3|        21.8|           1|        1|                 0.0|   2021|\n",
      "|       2| 2020-12-31 23:08:58|  2021-01-01 00:09:43|                 N|         1|         244|          89|              3|         22.1|       66.5|  0.5|    0.5|       0.0|         0.0|     null|                  0.3|       70.55|           2|        1|                2.75|   2021|\n",
      "|       2| 2021-01-01 00:03:16|  2021-01-01 00:11:46|                 N|         1|          37|         217|              1|         1.59|        8.0|  0.5|    0.5|       0.0|         0.0|     null|                  0.3|         9.3|           2|        1|                 0.0|   2021|\n",
      "|       2| 2020-12-31 23:53:51|  2021-01-01 00:18:10|                 N|         1|          75|         186|              1|          4.4|       19.0|  0.5|    0.5|       0.0|         0.0|     null|                  0.3|       23.05|           2|        1|                2.75|   2021|\n",
      "|       2| 2020-12-31 23:41:27|  2021-01-01 00:03:44|                 N|         1|          41|          68|              1|         4.91|       18.5|  0.5|    0.5|      4.51|         0.0|     null|                  0.3|       27.06|           1|        1|                2.75|   2021|\n",
      "|       2| 2020-12-31 23:54:15|  2021-01-01 00:11:17|                 N|         1|          75|         167|              1|         3.74|       15.0|  0.5|    0.5|       1.0|         0.0|     null|                  0.3|        17.3|           1|        1|                 0.0|   2021|\n",
      "+--------+--------------------+---------------------+------------------+----------+------------+------------+---------------+-------------+-----------+-----+-------+----------+------------+---------+---------------------+------------+------------+---------+--------------------+-------+\n",
      "\n"
     ]
    }
   ],
   "source": [
    "df_year.filter(col('do_year') > 2020).show(12)"
   ]
  },
  {
   "cell_type": "markdown",
   "id": "4eb4bed7",
   "metadata": {},
   "source": [
    "Many of the records happened around midnight in the new year's eve. I will delete the records since I only focused on the orders that finished in 2020."
   ]
  },
  {
   "cell_type": "code",
   "execution_count": 19,
   "id": "71dbdd7c",
   "metadata": {},
   "outputs": [],
   "source": [
    "df_2020 = df_year.filter(col('do_year') == 2020)"
   ]
  },
  {
   "cell_type": "code",
   "execution_count": 20,
   "id": "03c349b5",
   "metadata": {
    "scrolled": false
   },
   "outputs": [
    {
     "name": "stderr",
     "output_type": "stream",
     "text": [
      "                                                                                \r"
     ]
    },
    {
     "data": {
      "text/html": [
       "<table border='1'>\n",
       "<tr><th>summary</th><th>VendorID</th><th>lpep_pickup_datetime</th><th>lpep_dropoff_datetime</th><th>store_and_fwd_flag</th><th>RatecodeID</th><th>PULocationID</th><th>DOLocationID</th><th>passenger_count</th><th>trip_distance</th><th>fare_amount</th><th>extra</th><th>mta_tax</th><th>tip_amount</th><th>tolls_amount</th><th>ehail_fee</th><th>improvement_surcharge</th><th>total_amount</th><th>payment_type</th><th>trip_type</th><th>congestion_surcharge</th><th>do_year</th></tr>\n",
       "<tr><td>count</td><td>1205904</td><td>1205904</td><td>1205904</td><td>1205904</td><td>1205904</td><td>1205904</td><td>1205904</td><td>1205904</td><td>1205904</td><td>1205904</td><td>1205904</td><td>1205904</td><td>1205904</td><td>1205904</td><td>0</td><td>1205904</td><td>1205904</td><td>1205904</td><td>1205899</td><td>1205904</td><td>1205904</td></tr>\n",
       "<tr><td>mean</td><td>1.8298255914235295</td><td>null</td><td>null</td><td>null</td><td>1.1180948068834666</td><td>101.92901259138372</td><td>129.5955689673473</td><td>1.2913333067972244</td><td>3.110250733060034</td><td>12.695061795965692</td><td>0.3870120755881065</td><td>0.4820250616964535</td><td>1.223018158991176</td><td>0.1925023136170222</td><td>null</td><td>0.2954926760353935</td><td>15.706160531800219</td><td>1.4599172073398878</td><td>1.0262949052947221</td><td>0.4842220027464873</td><td>2020.0</td></tr>\n",
       "<tr><td>stddev</td><td>0.37578610451332833</td><td>null</td><td>null</td><td>null</td><td>0.7140978282483215</td><td>67.68064102267269</td><td>76.80990467860724</td><td>0.9547321259846556</td><td>161.04397025641256</td><td>11.531079643126713</td><td>0.6042345131895063</td><td>0.10195174561750175</td><td>2.4728695132901706</td><td>1.162974270747563</td><td>null</td><td>0.044219512754553325</td><td>13.14700925707999</td><td>0.5219613040779757</td><td>0.16001095113193112</td><td>1.0473310203454935</td><td>0.0</td></tr>\n",
       "<tr><td>min</td><td>1</td><td>2019-12-31 20:27:53</td><td>2020-01-01 00:01:09</td><td>N</td><td>1</td><td>1</td><td>1</td><td>0</td><td>-3.05</td><td>-210.0</td><td>-4.5</td><td>-0.5</td><td>-10.56</td><td>-6.12</td><td>null</td><td>-0.3</td><td>-210.3</td><td>1</td><td>1</td><td>-2.75</td><td>2020</td></tr>\n",
       "<tr><td>25%</td><td>2</td><td>null</td><td>null</td><td>null</td><td>1</td><td>49</td><td>65</td><td>1</td><td>0.95</td><td>6.5</td><td>0.0</td><td>0.5</td><td>0.0</td><td>0.0</td><td>null</td><td>0.3</td><td>8.3</td><td>1</td><td>1</td><td>0.0</td><td>2020</td></tr>\n",
       "<tr><td>50%</td><td>2</td><td>null</td><td>null</td><td>null</td><td>1</td><td>75</td><td>129</td><td>1</td><td>1.69</td><td>9.5</td><td>0.0</td><td>0.5</td><td>0.0</td><td>0.0</td><td>null</td><td>0.3</td><td>11.8</td><td>1</td><td>1</td><td>0.0</td><td>2020</td></tr>\n",
       "<tr><td>75%</td><td>2</td><td>null</td><td>null</td><td>null</td><td>1</td><td>136</td><td>195</td><td>1</td><td>3.2</td><td>15.0</td><td>0.5</td><td>0.5</td><td>2.0</td><td>0.0</td><td>null</td><td>0.3</td><td>18.55</td><td>2</td><td>1</td><td>0.0</td><td>2020</td></tr>\n",
       "<tr><td>max</td><td>2</td><td>2020-12-31 23:50:13</td><td>2020-12-31 23:58:14</td><td>Y</td><td>99</td><td>265</td><td>265</td><td>9</td><td>134121.5</td><td>803.0</td><td>14.26</td><td>3.55</td><td>641.2</td><td>96.12</td><td>null</td><td>0.3</td><td>803.8</td><td>5</td><td>2</td><td>2.75</td><td>2020</td></tr>\n",
       "</table>\n"
      ],
      "text/plain": [
       "+-------+-------------------+--------------------+---------------------+------------------+------------------+------------------+-----------------+------------------+------------------+------------------+------------------+-------------------+------------------+------------------+---------+---------------------+------------------+------------------+-------------------+--------------------+-------+\n",
       "|summary|           VendorID|lpep_pickup_datetime|lpep_dropoff_datetime|store_and_fwd_flag|        RatecodeID|      PULocationID|     DOLocationID|   passenger_count|     trip_distance|       fare_amount|             extra|            mta_tax|        tip_amount|      tolls_amount|ehail_fee|improvement_surcharge|      total_amount|      payment_type|          trip_type|congestion_surcharge|do_year|\n",
       "+-------+-------------------+--------------------+---------------------+------------------+------------------+------------------+-----------------+------------------+------------------+------------------+------------------+-------------------+------------------+------------------+---------+---------------------+------------------+------------------+-------------------+--------------------+-------+\n",
       "|  count|            1205904|             1205904|              1205904|           1205904|           1205904|           1205904|          1205904|           1205904|           1205904|           1205904|           1205904|            1205904|           1205904|           1205904|        0|              1205904|           1205904|           1205904|            1205899|             1205904|1205904|\n",
       "|   mean| 1.8298255914235295|                null|                 null|              null|1.1180948068834666|101.92901259138372|129.5955689673473|1.2913333067972244| 3.110250733060034|12.695061795965692|0.3870120755881065| 0.4820250616964535| 1.223018158991176|0.1925023136170222|     null|   0.2954926760353935|15.706160531800219|1.4599172073398878| 1.0262949052947221|  0.4842220027464873| 2020.0|\n",
       "| stddev|0.37578610451332833|                null|                 null|              null|0.7140978282483215| 67.68064102267269|76.80990467860724|0.9547321259846556|161.04397025641256|11.531079643126713|0.6042345131895063|0.10195174561750175|2.4728695132901706| 1.162974270747563|     null| 0.044219512754553325| 13.14700925707999|0.5219613040779757|0.16001095113193112|  1.0473310203454935|    0.0|\n",
       "|    min|                  1| 2019-12-31 20:27:53|  2020-01-01 00:01:09|                 N|                 1|                 1|                1|                 0|             -3.05|            -210.0|              -4.5|               -0.5|            -10.56|             -6.12|     null|                 -0.3|            -210.3|                 1|                  1|               -2.75|   2020|\n",
       "|    25%|                  2|                null|                 null|              null|                 1|                49|               65|                 1|              0.95|               6.5|               0.0|                0.5|               0.0|               0.0|     null|                  0.3|               8.3|                 1|                  1|                 0.0|   2020|\n",
       "|    50%|                  2|                null|                 null|              null|                 1|                75|              129|                 1|              1.69|               9.5|               0.0|                0.5|               0.0|               0.0|     null|                  0.3|              11.8|                 1|                  1|                 0.0|   2020|\n",
       "|    75%|                  2|                null|                 null|              null|                 1|               136|              195|                 1|               3.2|              15.0|               0.5|                0.5|               2.0|               0.0|     null|                  0.3|             18.55|                 2|                  1|                 0.0|   2020|\n",
       "|    max|                  2| 2020-12-31 23:50:13|  2020-12-31 23:58:14|                 Y|                99|               265|              265|                 9|          134121.5|             803.0|             14.26|               3.55|             641.2|             96.12|     null|                  0.3|             803.8|                 5|                  2|                2.75|   2020|\n",
       "+-------+-------------------+--------------------+---------------------+------------------+------------------+------------------+-----------------+------------------+------------------+------------------+------------------+-------------------+------------------+------------------+---------+---------------------+------------------+------------------+-------------------+--------------------+-------+"
      ]
     },
     "execution_count": 20,
     "metadata": {},
     "output_type": "execute_result"
    }
   ],
   "source": [
    "df_2020.summary()"
   ]
  },
  {
   "cell_type": "code",
   "execution_count": 21,
   "id": "3280a73f",
   "metadata": {
    "scrolled": false
   },
   "outputs": [
    {
     "name": "stdout",
     "output_type": "stream",
     "text": [
      "+--------+--------------------+---------------------+------------------+----------+------------+------------+---------------+-------------+-----------+-----+-------+----------+------------+---------+---------------------+------------+------------+---------+--------------------+-------+-------+\n",
      "|VendorID|lpep_pickup_datetime|lpep_dropoff_datetime|store_and_fwd_flag|RatecodeID|PULocationID|DOLocationID|passenger_count|trip_distance|fare_amount|extra|mta_tax|tip_amount|tolls_amount|ehail_fee|improvement_surcharge|total_amount|payment_type|trip_type|congestion_surcharge|do_year|pu_year|\n",
      "+--------+--------------------+---------------------+------------------+----------+------------+------------+---------------+-------------+-----------+-----+-------+----------+------------+---------+---------------------+------------+------------+---------+--------------------+-------+-------+\n",
      "|       2| 2019-12-31 23:59:39|  2020-01-01 00:06:24|                 N|         1|         179|         179|              1|         1.01|        6.5|  0.5|    0.5|       0.0|         0.0|     null|                  0.3|         7.8|           2|        1|                 0.0|   2020|   2019|\n",
      "|       2| 2019-12-31 23:59:13|  2020-01-01 00:09:16|                 N|         1|          41|         239|              1|         2.05|        9.5|  0.5|    0.5|       0.0|         0.0|     null|                  0.3|       13.55|           2|        1|                2.75|   2020|   2019|\n",
      "|       2| 2019-12-31 23:59:59|  2020-01-01 00:11:41|                 N|         1|          82|          70|              1|         2.24|       10.5|  0.5|    0.5|       0.0|         0.0|     null|                  0.3|        11.8|           2|        1|                 0.0|   2020|   2019|\n",
      "|       2| 2019-12-31 23:55:06|  2020-01-01 00:01:09|                 N|         1|          41|          74|              1|         1.07|        6.0|  0.5|    0.5|       0.0|         0.0|     null|                  0.3|         7.3|           2|        1|                 0.0|   2020|   2019|\n",
      "|       2| 2019-12-31 23:59:32|  2020-01-01 00:15:33|                 N|         1|          75|         169|              1|         5.57|       17.0|  0.5|    0.5|       0.0|         0.0|     null|                  0.3|        18.3|           1|        1|                 0.0|   2020|   2019|\n",
      "|       2| 2019-12-31 23:59:40|  2020-01-01 00:06:48|                 N|         1|         248|          20|              1|          2.9|       10.0|  0.5|    0.5|       0.0|         0.0|     null|                  0.3|        11.3|           2|        1|                 0.0|   2020|   2019|\n",
      "|       2| 2019-12-31 20:27:53|  2020-01-01 19:45:52|                 N|         1|         223|         130|              5|        10.19|       29.5|  0.5|    0.5|      6.16|         0.0|     null|                  0.3|       36.96|           1|        1|                 0.0|   2020|   2019|\n",
      "|       2| 2019-12-31 22:57:50|  2020-01-01 22:38:11|                 N|         1|         130|         135|              1|         2.78|       10.5|  0.5|    0.5|       0.0|         0.0|     null|                  0.3|        11.8|           2|        1|                 0.0|   2020|   2019|\n",
      "|       2| 2019-12-31 23:27:44|  2020-01-01 22:38:11|                 N|         1|         130|         205|              1|         3.11|       11.5|  0.5|    0.5|      2.56|         0.0|     null|                  0.3|       15.36|           1|        1|                 0.0|   2020|   2019|\n",
      "+--------+--------------------+---------------------+------------------+----------+------------+------------+---------------+-------------+-----------+-----+-------+----------+------------+---------+---------------------+------------+------------+---------+--------------------+-------+-------+\n",
      "\n"
     ]
    }
   ],
   "source": [
    "df_2020.withColumn('pu_year', year('lpep_pickup_datetime')).filter(col('pu_year') == 2019).show()"
   ]
  },
  {
   "cell_type": "markdown",
   "id": "c96f3665",
   "metadata": {},
   "source": [
    "I see a possibly bad record with a trip duration almost 24 hours for pick up datetime at 2019-12-31 20:27:53 and drop off datetime at 2020-01-01 19:45:52 while the trip distance is only 10.19 miles with total fare is only $36.96. Did the cab goes extremely slow? It is nonsense to order with this kind of trip."
   ]
  },
  {
   "cell_type": "code",
   "execution_count": 22,
   "id": "09edda16",
   "metadata": {},
   "outputs": [],
   "source": [
    "df_extract_time = df_2020 \\\n",
    "    .withColumn('pu_datetime', to_timestamp('lpep_pickup_datetime')) \\\n",
    "    .withColumn('do_datetime', to_timestamp('lpep_dropoff_datetime')) \\\n",
    "    .withColumn('pu_day', date_format('pu_datetime', 'EEE')) \\\n",
    "    .withColumn('pu_hour', hour('pu_datetime')) \\\n",
    "    .withColumn('pu_month', month('pu_datetime')) \\\n",
    "    .withColumn('trip_duration_second', col('do_datetime').cast('long') - col('pu_datetime').cast('long')) \\\n",
    "    .withColumn('trip_duration_minute', round(col('trip_duration_second')/60))"
   ]
  },
  {
   "cell_type": "code",
   "execution_count": 23,
   "id": "95a40855",
   "metadata": {
    "scrolled": false
   },
   "outputs": [
    {
     "name": "stderr",
     "output_type": "stream",
     "text": [
      "22/04/07 11:34:21 WARN package: Truncated the string representation of a plan since it was too large. This behavior can be adjusted by setting 'spark.sql.debug.maxToStringFields'.\n"
     ]
    },
    {
     "name": "stdout",
     "output_type": "stream",
     "text": [
      "+--------+--------------------+---------------------+------------------+----------+------------+------------+---------------+-------------+-----------+-----+-------+----------+------------+---------+---------------------+------------+------------+---------+--------------------+-------+-------------------+-------------------+------+-------+--------+--------------------+--------------------+\n",
      "|VendorID|lpep_pickup_datetime|lpep_dropoff_datetime|store_and_fwd_flag|RatecodeID|PULocationID|DOLocationID|passenger_count|trip_distance|fare_amount|extra|mta_tax|tip_amount|tolls_amount|ehail_fee|improvement_surcharge|total_amount|payment_type|trip_type|congestion_surcharge|do_year|        pu_datetime|        do_datetime|pu_day|pu_hour|pu_month|trip_duration_second|trip_duration_minute|\n",
      "+--------+--------------------+---------------------+------------------+----------+------------+------------+---------------+-------------+-----------+-----+-------+----------+------------+---------+---------------------+------------+------------+---------+--------------------+-------+-------------------+-------------------+------+-------+--------+--------------------+--------------------+\n",
      "|       2| 2020-01-01 00:45:58|  2020-01-01 00:56:39|                 N|         5|          66|          65|              2|         1.28|       20.0|  0.0|    0.0|      4.06|         0.0|     null|                  0.3|       24.36|           1|        2|                 0.0|   2020|2020-01-01 00:45:58|2020-01-01 00:56:39|   Wed|      0|       1|                 641|                11.0|\n",
      "|       2| 2020-01-01 00:41:38|  2020-01-01 00:52:49|                 N|         1|         181|         228|              1|         2.47|       10.5|  0.5|    0.5|      3.54|         0.0|     null|                  0.3|       15.34|           1|        1|                 0.0|   2020|2020-01-01 00:41:38|2020-01-01 00:52:49|   Wed|      0|       1|                 671|                11.0|\n",
      "|       1| 2020-01-01 00:52:46|  2020-01-01 01:14:21|                 N|         1|         129|         263|              2|          6.3|       21.0| 3.25|    0.5|       0.0|         0.0|     null|                  0.3|       25.05|           2|        1|                2.75|   2020|2020-01-01 00:52:46|2020-01-01 01:14:21|   Wed|      0|       1|                1295|                22.0|\n",
      "|       1| 2020-01-01 00:19:57|  2020-01-01 00:30:56|                 N|         1|         210|         150|              1|          2.3|       10.0|  0.5|    0.5|       0.0|         0.0|     null|                  0.3|        11.3|           1|        1|                 0.0|   2020|2020-01-01 00:19:57|2020-01-01 00:30:56|   Wed|      0|       1|                 659|                11.0|\n",
      "|       1| 2020-01-01 00:52:33|  2020-01-01 01:09:54|                 N|         1|          35|          39|              1|          3.0|       13.5|  0.5|    0.5|       0.0|         0.0|     null|                  0.3|        14.8|           1|        1|                 0.0|   2020|2020-01-01 00:52:33|2020-01-01 01:09:54|   Wed|      0|       1|                1041|                17.0|\n",
      "|       2| 2020-01-01 00:10:18|  2020-01-01 00:22:16|                 N|         1|          25|          61|              1|         2.77|       11.0|  0.5|    0.5|       0.0|         0.0|     null|                  0.3|        12.3|           2|        1|                 0.0|   2020|2020-01-01 00:10:18|2020-01-01 00:22:16|   Wed|      0|       1|                 718|                12.0|\n",
      "|       2| 2020-01-01 01:03:14|  2020-01-01 01:29:45|                 N|         1|         225|          89|              1|         4.98|       20.5|  0.5|    0.5|       0.0|         0.0|     null|                  0.3|        21.8|           2|        1|                 0.0|   2020|2020-01-01 01:03:14|2020-01-01 01:29:45|   Wed|      1|       1|                1591|                27.0|\n",
      "|       2| 2020-01-01 00:04:11|  2020-01-01 00:09:48|                 N|         1|         129|         129|              1|         0.71|        5.5|  0.5|    0.5|       0.0|         0.0|     null|                  0.3|         6.8|           2|        1|                 0.0|   2020|2020-01-01 00:04:11|2020-01-01 00:09:48|   Wed|      0|       1|                 337|                 6.0|\n",
      "|       2| 2020-01-01 00:25:52|  2020-01-01 00:32:16|                 N|         1|         129|          83|              1|          0.8|        5.5|  0.5|    0.5|       0.0|         0.0|     null|                  0.3|         6.8|           2|        1|                 0.0|   2020|2020-01-01 00:25:52|2020-01-01 00:32:16|   Wed|      0|       1|                 384|                 6.0|\n",
      "|       2| 2020-01-01 00:47:32|  2020-01-01 00:59:25|                 N|         1|          82|         173|              1|         1.52|        9.5|  0.5|    0.5|       0.0|         0.0|     null|                  0.3|        10.8|           2|        1|                 0.0|   2020|2020-01-01 00:47:32|2020-01-01 00:59:25|   Wed|      0|       1|                 713|                12.0|\n",
      "|       1| 2020-01-01 00:26:40|  2020-01-01 00:40:42|                 N|         1|          74|          69|              1|          3.8|       14.0|  0.5|    0.5|       0.0|         0.0|     null|                  0.3|        15.3|           2|        1|                 0.0|   2020|2020-01-01 00:26:40|2020-01-01 00:40:42|   Wed|      0|       1|                 842|                14.0|\n",
      "|       2| 2020-01-01 00:38:47|  2020-01-01 00:46:02|                 N|         1|          74|          41|              1|         1.12|        6.5|  0.5|    0.5|       0.0|         0.0|     null|                  0.3|         7.8|           1|        1|                 0.0|   2020|2020-01-01 00:38:47|2020-01-01 00:46:02|   Wed|      0|       1|                 435|                 7.0|\n",
      "|       2| 2020-01-01 00:52:18|  2020-01-01 01:09:58|                 N|         1|          41|         127|              1|         5.67|       19.0|  0.5|    0.5|       0.0|         0.0|     null|                  0.3|        20.3|           2|        1|                 0.0|   2020|2020-01-01 00:52:18|2020-01-01 01:09:58|   Wed|      0|       1|                1060|                18.0|\n",
      "|       2| 2020-01-01 00:16:01|  2020-01-01 00:26:40|                 N|         1|           7|         260|              1|         1.86|        9.5|  0.5|    0.5|       0.0|         0.0|     null|                  0.3|        10.8|           2|        1|                 0.0|   2020|2020-01-01 00:16:01|2020-01-01 00:26:40|   Wed|      0|       1|                 639|                11.0|\n",
      "|       2| 2020-01-01 00:21:15|  2020-01-01 00:28:03|                 N|         1|           7|           7|              1|         1.42|        7.0|  0.5|    0.5|       0.0|         0.0|     null|                  0.3|         8.3|           2|        1|                 0.0|   2020|2020-01-01 00:21:15|2020-01-01 00:28:03|   Wed|      0|       1|                 408|                 7.0|\n",
      "|       2| 2020-01-01 00:35:42|  2020-01-01 01:02:00|                 N|         1|           7|         133|              1|        15.48|       43.0|  0.5|    0.5|      8.86|         0.0|     null|                  0.3|       53.16|           1|        1|                 0.0|   2020|2020-01-01 00:35:42|2020-01-01 01:02:00|   Wed|      0|       1|                1578|                26.0|\n",
      "|       2| 2020-01-01 00:39:51|  2020-01-01 00:42:54|                 N|         1|         134|          28|              1|         1.15|        5.5|  0.5|    0.5|       1.0|         0.0|     null|                  0.3|         7.8|           1|        1|                 0.0|   2020|2020-01-01 00:39:51|2020-01-01 00:42:54|   Wed|      0|       1|                 183|                 3.0|\n",
      "|       1| 2020-01-01 00:00:21|  2020-01-01 00:10:19|                 N|         1|          89|          39|              1|          2.3|       10.0|  0.5|    0.5|       0.0|         0.0|     null|                  0.3|        11.3|           2|        1|                 0.0|   2020|2020-01-01 00:00:21|2020-01-01 00:10:19|   Wed|      0|       1|                 598|                10.0|\n",
      "|       1| 2020-01-01 00:13:59|  2020-01-01 00:21:31|                 N|         1|          66|          65|              3|          1.0|        6.5|  0.5|    0.5|       0.0|         0.0|     null|                  0.3|         7.8|           2|        1|                 0.0|   2020|2020-01-01 00:13:59|2020-01-01 00:21:31|   Wed|      0|       1|                 452|                 8.0|\n",
      "|       1| 2020-01-01 00:05:13|  2020-01-01 00:06:49|                 N|         1|         116|         244|              1|          0.4|        3.5|  0.5|    0.5|       0.0|         0.0|     null|                  0.3|         4.8|           4|        1|                 0.0|   2020|2020-01-01 00:05:13|2020-01-01 00:06:49|   Wed|      0|       1|                  96|                 2.0|\n",
      "+--------+--------------------+---------------------+------------------+----------+------------+------------+---------------+-------------+-----------+-----+-------+----------+------------+---------+---------------------+------------+------------+---------+--------------------+-------+-------------------+-------------------+------+-------+--------+--------------------+--------------------+\n",
      "only showing top 20 rows\n",
      "\n"
     ]
    }
   ],
   "source": [
    "df_extract_time.show()"
   ]
  },
  {
   "cell_type": "code",
   "execution_count": 24,
   "id": "2b51dbf8",
   "metadata": {},
   "outputs": [
    {
     "data": {
      "text/plain": [
       "4195"
      ]
     },
     "execution_count": 24,
     "metadata": {},
     "output_type": "execute_result"
    }
   ],
   "source": [
    "df_extract_time.filter((col('fare_amount') < 0) & (col('total_amount') < 0)).count()"
   ]
  },
  {
   "cell_type": "code",
   "execution_count": 25,
   "id": "582fe23c",
   "metadata": {},
   "outputs": [
    {
     "name": "stdout",
     "output_type": "stream",
     "text": [
      "+--------+--------------------+---------------------+------------------+----------+------------+------------+---------------+-------------+-----------+-----+-------+----------+------------+---------+---------------------+------------+------------+---------+--------------------+-------+-------------------+-------------------+------+-------+--------+--------------------+--------------------+\n",
      "|VendorID|lpep_pickup_datetime|lpep_dropoff_datetime|store_and_fwd_flag|RatecodeID|PULocationID|DOLocationID|passenger_count|trip_distance|fare_amount|extra|mta_tax|tip_amount|tolls_amount|ehail_fee|improvement_surcharge|total_amount|payment_type|trip_type|congestion_surcharge|do_year|        pu_datetime|        do_datetime|pu_day|pu_hour|pu_month|trip_duration_second|trip_duration_minute|\n",
      "+--------+--------------------+---------------------+------------------+----------+------------+------------+---------------+-------------+-----------+-----+-------+----------+------------+---------+---------------------+------------+------------+---------+--------------------+-------+-------------------+-------------------+------+-------+--------+--------------------+--------------------+\n",
      "|       2| 2020-01-01 00:55:51|  2020-01-01 01:01:58|                 N|         1|          80|         256|              2|         0.71|       -5.5| -0.5|   -0.5|       0.0|         0.0|     null|                 -0.3|        -6.8|           3|        1|                 0.0|   2020|2020-01-01 00:55:51|2020-01-01 01:01:58|   Wed|      0|       1|                 367|                 6.0|\n",
      "|       2| 2020-01-01 02:15:31|  2020-01-01 02:20:12|                 N|         1|         256|         256|              2|         0.63|       -5.0| -0.5|   -0.5|       0.0|         0.0|     null|                 -0.3|        -6.3|           3|        1|                 0.0|   2020|2020-01-01 02:15:31|2020-01-01 02:20:12|   Wed|      2|       1|                 281|                 5.0|\n",
      "|       2| 2020-01-01 02:30:01|  2020-01-01 02:32:54|                 N|         1|          42|          42|              1|         0.57|       -4.0| -0.5|   -0.5|       0.0|         0.0|     null|                 -0.3|        -5.3|           4|        1|                 0.0|   2020|2020-01-01 02:30:01|2020-01-01 02:32:54|   Wed|      2|       1|                 173|                 3.0|\n",
      "|       2| 2020-01-01 02:37:22|  2020-01-01 02:38:26|                 N|         1|         256|         256|              1|         0.15|       -3.0| -0.5|   -0.5|       0.0|         0.0|     null|                 -0.3|        -4.3|           3|        1|                 0.0|   2020|2020-01-01 02:37:22|2020-01-01 02:38:26|   Wed|      2|       1|                  64|                 1.0|\n",
      "|       2| 2020-01-01 03:54:41|  2020-01-01 03:58:31|                 N|         1|          61|         177|              1|         0.81|       -5.0| -0.5|   -0.5|       0.0|         0.0|     null|                 -0.3|        -6.3|           4|        1|                 0.0|   2020|2020-01-01 03:54:41|2020-01-01 03:58:31|   Wed|      3|       1|                 230|                 4.0|\n",
      "|       2| 2020-01-01 03:25:04|  2020-01-01 03:25:47|                 N|         1|         129|         129|              1|          0.1|       -2.5| -0.5|   -0.5|       0.0|         0.0|     null|                 -0.3|        -3.8|           3|        1|                 0.0|   2020|2020-01-01 03:25:04|2020-01-01 03:25:47|   Wed|      3|       1|                  43|                 1.0|\n",
      "|       2| 2020-01-01 04:02:59|  2020-01-01 04:07:06|                 N|         1|         145|         226|              1|         0.24|       -4.5| -0.5|   -0.5|       0.0|         0.0|     null|                 -0.3|        -5.8|           3|        1|                 0.0|   2020|2020-01-01 04:02:59|2020-01-01 04:07:06|   Wed|      4|       1|                 247|                 4.0|\n",
      "|       2| 2020-01-01 04:02:15|  2020-01-01 04:05:28|                 N|         5|         260|         260|              1|         0.03|      -40.0|  0.0|    0.0|       0.0|         0.0|     null|                 -0.3|       -40.3|           3|        2|                 0.0|   2020|2020-01-01 04:02:15|2020-01-01 04:05:28|   Wed|      4|       1|                 193|                 3.0|\n",
      "|       2| 2020-01-01 05:18:57|  2020-01-01 05:22:54|                 N|         1|          61|          61|              1|         0.16|       -4.5| -0.5|   -0.5|       0.0|         0.0|     null|                 -0.3|        -5.8|           3|        1|                 0.0|   2020|2020-01-01 05:18:57|2020-01-01 05:22:54|   Wed|      5|       1|                 237|                 4.0|\n",
      "|       2| 2020-01-01 08:37:25|  2020-01-01 08:38:05|                 N|         1|         129|         129|              1|         0.18|       -3.0|  0.0|   -0.5|       0.0|         0.0|     null|                 -0.3|        -3.8|           3|        1|                 0.0|   2020|2020-01-01 08:37:25|2020-01-01 08:38:05|   Wed|      8|       1|                  40|                 1.0|\n",
      "|       2| 2020-01-01 09:51:06|  2020-01-01 09:51:20|                 N|         5|          80|          80|              2|          0.0|      -70.0|  0.0|    0.0|       0.0|         0.0|     null|                  0.0|       -70.0|           3|        2|                 0.0|   2020|2020-01-01 09:51:06|2020-01-01 09:51:20|   Wed|      9|       1|                  14|                 0.0|\n",
      "|       2| 2020-01-01 10:33:11|  2020-01-01 10:34:07|                 N|         1|          38|          38|              2|          0.0|       -2.5|  0.0|   -0.5|       0.0|         0.0|     null|                 -0.3|        -3.3|           3|        1|                 0.0|   2020|2020-01-01 10:33:11|2020-01-01 10:34:07|   Wed|     10|       1|                  56|                 1.0|\n",
      "|       2| 2020-01-01 14:38:07|  2020-01-01 14:38:40|                 N|         1|          41|          41|              1|         0.04|       -2.5|  0.0|   -0.5|       0.0|         0.0|     null|                 -0.3|        -3.3|           3|        1|                 0.0|   2020|2020-01-01 14:38:07|2020-01-01 14:38:40|   Wed|     14|       1|                  33|                 1.0|\n",
      "|       2| 2020-01-01 15:18:16|  2020-01-01 15:20:43|                 N|         1|         166|         151|              2|         0.38|       -4.0|  0.0|   -0.5|       0.0|         0.0|     null|                 -0.3|        -4.8|           4|        1|                 0.0|   2020|2020-01-01 15:18:16|2020-01-01 15:20:43|   Wed|     15|       1|                 147|                 2.0|\n",
      "|       2| 2020-01-01 15:07:32|  2020-01-01 15:08:07|                 N|         1|          82|          82|              1|         0.18|       -2.5|  0.0|   -0.5|       0.0|         0.0|     null|                 -0.3|        -3.3|           3|        1|                 0.0|   2020|2020-01-01 15:07:32|2020-01-01 15:08:07|   Wed|     15|       1|                  35|                 1.0|\n",
      "|       2| 2020-01-01 15:31:00|  2020-01-01 15:33:41|                 N|         1|           7|           7|              1|         0.29|       -4.0|  0.0|   -0.5|       0.0|         0.0|     null|                 -0.3|        -4.8|           3|        1|                 0.0|   2020|2020-01-01 15:31:00|2020-01-01 15:33:41|   Wed|     15|       1|                 161|                 3.0|\n",
      "|       2| 2020-01-01 16:29:22|  2020-01-01 16:33:53|                 N|         1|          74|          74|              1|         0.73|       -5.0|  0.0|   -0.5|       0.0|         0.0|     null|                 -0.3|        -5.8|           3|        1|                 0.0|   2020|2020-01-01 16:29:22|2020-01-01 16:33:53|   Wed|     16|       1|                 271|                 5.0|\n",
      "|       2| 2020-01-01 17:10:14|  2020-01-01 17:14:06|                 N|         1|         134|          28|              1|         0.55|       -4.5|  0.0|   -0.5|       0.0|         0.0|     null|                 -0.3|        -5.3|           3|        1|                 0.0|   2020|2020-01-01 17:10:14|2020-01-01 17:14:06|   Wed|     17|       1|                 232|                 4.0|\n",
      "|       2| 2020-01-01 13:27:34|  2020-01-01 13:28:04|                 N|         1|           7|           7|              5|         0.01|       -2.5|  0.0|   -0.5|       0.0|         0.0|     null|                 -0.3|        -3.3|           3|        1|                 0.0|   2020|2020-01-01 13:27:34|2020-01-01 13:28:04|   Wed|     13|       1|                  30|                 1.0|\n",
      "|       2| 2020-01-01 18:04:43|  2020-01-01 18:08:36|                 N|         1|           7|           7|              1|         0.76|       -5.0|  0.0|   -0.5|       0.0|         0.0|     null|                 -0.3|        -5.8|           3|        1|                 0.0|   2020|2020-01-01 18:04:43|2020-01-01 18:08:36|   Wed|     18|       1|                 233|                 4.0|\n",
      "+--------+--------------------+---------------------+------------------+----------+------------+------------+---------------+-------------+-----------+-----+-------+----------+------------+---------+---------------------+------------+------------+---------+--------------------+-------+-------------------+-------------------+------+-------+--------+--------------------+--------------------+\n",
      "only showing top 20 rows\n",
      "\n"
     ]
    }
   ],
   "source": [
    "df_extract_time \\\n",
    "    .filter((col('fare_amount') < 0) & (col('total_amount') < 0)) \\\n",
    "    .show()"
   ]
  },
  {
   "cell_type": "markdown",
   "id": "68a42833",
   "metadata": {},
   "source": [
    "With 4195 records, I thought that negative sign in all columns about money charges to the passenger are mistyped. So, the values will be multiplied with -1 to make them positive. In addition, I will only select some columns."
   ]
  },
  {
   "cell_type": "code",
   "execution_count": 27,
   "id": "67b844d9",
   "metadata": {},
   "outputs": [],
   "source": [
    "df_fare = df_extract_time \\\n",
    "    .withColumn('fare_amount', \n",
    "                when(col('fare_amount') < 0, col('fare_amount') * -1).otherwise(col('fare_amount'))) \\\n",
    "    .withColumn('total_amount', \n",
    "                when(col('total_amount') < 0, col('total_amount') * -1).otherwise(col('total_amount'))) \\\n",
    "    .filter(col('fare_amount') >= 2.5) \\\n",
    "    .select(\n",
    "        'VendorID',\n",
    "        'pu_datetime',\n",
    "        'do_datetime',\n",
    "        'pu_month',\n",
    "        'pu_day',\n",
    "        'pu_hour',\n",
    "        'do_year',\n",
    "        'PULocationID',\n",
    "        'DOLocationID',\n",
    "        'passenger_count',\n",
    "        'trip_duration_minute',\n",
    "        'trip_duration_second',\n",
    "        'trip_distance',\n",
    "        'trip_type',\n",
    "        'payment_type',\n",
    "        'fare_amount',\n",
    "        'total_amount'\n",
    "    )"
   ]
  },
  {
   "cell_type": "code",
   "execution_count": 28,
   "id": "08137173",
   "metadata": {},
   "outputs": [
    {
     "data": {
      "text/plain": [
       "['VendorID',\n",
       " 'pu_datetime',\n",
       " 'do_datetime',\n",
       " 'pu_month',\n",
       " 'pu_day',\n",
       " 'pu_hour',\n",
       " 'do_year',\n",
       " 'PULocationID',\n",
       " 'DOLocationID',\n",
       " 'passenger_count',\n",
       " 'trip_duration_minute',\n",
       " 'trip_duration_second',\n",
       " 'trip_distance',\n",
       " 'trip_type',\n",
       " 'payment_type',\n",
       " 'fare_amount',\n",
       " 'total_amount']"
      ]
     },
     "execution_count": 28,
     "metadata": {},
     "output_type": "execute_result"
    }
   ],
   "source": [
    "df_fare.columns"
   ]
  },
  {
   "cell_type": "code",
   "execution_count": 29,
   "id": "9c5aa104",
   "metadata": {},
   "outputs": [
    {
     "name": "stderr",
     "output_type": "stream",
     "text": [
      "                                                                                \r"
     ]
    },
    {
     "data": {
      "text/html": [
       "<table border='1'>\n",
       "<tr><th>summary</th><th>VendorID</th><th>pu_month</th><th>pu_day</th><th>pu_hour</th><th>do_year</th><th>PULocationID</th><th>DOLocationID</th><th>passenger_count</th><th>trip_duration_minute</th><th>trip_duration_second</th><th>trip_distance</th><th>trip_type</th><th>payment_type</th><th>fare_amount</th><th>total_amount</th></tr>\n",
       "<tr><td>count</td><td>1201084</td><td>1201084</td><td>1201084</td><td>1201084</td><td>1201084</td><td>1201084</td><td>1201084</td><td>1201084</td><td>1201084</td><td>1201084</td><td>1201084</td><td>1201079</td><td>1201084</td><td>1201084</td><td>1201084</td></tr>\n",
       "<tr><td>mean</td><td>1.8317444908099683</td><td>3.901328300102241</td><td>null</td><td>13.928607824265413</td><td>2020.0</td><td>101.7200254103793</td><td>129.48718490963162</td><td>1.2919595964978303</td><td>19.117044270009426</td><td>1146.7513071525389</td><td>3.1091364550689433</td><td>1.0238935157470908</td><td>1.458087028051327</td><td>12.78680814997305</td><td>15.815568053474335</td></tr>\n",
       "<tr><td>stddev</td><td>0.37409318268769093</td><td>3.427111901426461</td><td>null</td><td>5.50196284113043</td><td>0.0</td><td>67.58014501191036</td><td>76.79134419338351</td><td>0.955757039628988</td><td>87.83660966300663</td><td>5270.139124471364</td><td>161.36634389403045</td><td>0.15271750086484373</td><td>0.5211181528910742</td><td>11.480755017768512</td><td>13.077991620655375</td></tr>\n",
       "<tr><td>min</td><td>1</td><td>1</td><td>Fri</td><td>0</td><td>2020</td><td>1</td><td>1</td><td>0</td><td>-5436.0</td><td>-326180</td><td>-3.05</td><td>1</td><td>1</td><td>2.5</td><td>2.5</td></tr>\n",
       "<tr><td>25%</td><td>2</td><td>1</td><td>null</td><td>10</td><td>2020</td><td>49</td><td>65</td><td>1</td><td>6.0</td><td>370</td><td>0.95</td><td>1</td><td>1</td><td>6.5</td><td>8.3</td></tr>\n",
       "<tr><td>50%</td><td>2</td><td>2</td><td>null</td><td>15</td><td>2020</td><td>75</td><td>129</td><td>1</td><td>10.0</td><td>619</td><td>1.69</td><td>1</td><td>1</td><td>9.5</td><td>11.8</td></tr>\n",
       "<tr><td>75%</td><td>2</td><td>6</td><td>null</td><td>18</td><td>2020</td><td>134</td><td>195</td><td>1</td><td>17.0</td><td>1008</td><td>3.2</td><td>1</td><td>2</td><td>15.0</td><td>18.55</td></tr>\n",
       "<tr><td>max</td><td>2</td><td>12</td><td>Wed</td><td>23</td><td>2020</td><td>265</td><td>265</td><td>9</td><td>1511.0</td><td>90684</td><td>134121.5</td><td>2</td><td>5</td><td>803.0</td><td>803.8</td></tr>\n",
       "</table>\n"
      ],
      "text/plain": [
       "+-------+-------------------+-----------------+-------+------------------+-------+-----------------+------------------+------------------+--------------------+--------------------+------------------+-------------------+------------------+------------------+------------------+\n",
       "|summary|           VendorID|         pu_month| pu_day|           pu_hour|do_year|     PULocationID|      DOLocationID|   passenger_count|trip_duration_minute|trip_duration_second|     trip_distance|          trip_type|      payment_type|       fare_amount|      total_amount|\n",
       "+-------+-------------------+-----------------+-------+------------------+-------+-----------------+------------------+------------------+--------------------+--------------------+------------------+-------------------+------------------+------------------+------------------+\n",
       "|  count|            1201084|          1201084|1201084|           1201084|1201084|          1201084|           1201084|           1201084|             1201084|             1201084|           1201084|            1201079|           1201084|           1201084|           1201084|\n",
       "|   mean| 1.8317444908099683|3.901328300102241|   null|13.928607824265413| 2020.0|101.7200254103793|129.48718490963162|1.2919595964978303|  19.117044270009426|  1146.7513071525389|3.1091364550689433| 1.0238935157470908| 1.458087028051327| 12.78680814997305|15.815568053474335|\n",
       "| stddev|0.37409318268769093|3.427111901426461|   null|  5.50196284113043|    0.0|67.58014501191036| 76.79134419338351| 0.955757039628988|   87.83660966300663|   5270.139124471364|161.36634389403045|0.15271750086484373|0.5211181528910742|11.480755017768512|13.077991620655375|\n",
       "|    min|                  1|                1|    Fri|                 0|   2020|                1|                 1|                 0|             -5436.0|             -326180|             -3.05|                  1|                 1|               2.5|               2.5|\n",
       "|    25%|                  2|                1|   null|                10|   2020|               49|                65|                 1|                 6.0|                 370|              0.95|                  1|                 1|               6.5|               8.3|\n",
       "|    50%|                  2|                2|   null|                15|   2020|               75|               129|                 1|                10.0|                 619|              1.69|                  1|                 1|               9.5|              11.8|\n",
       "|    75%|                  2|                6|   null|                18|   2020|              134|               195|                 1|                17.0|                1008|               3.2|                  1|                 2|              15.0|             18.55|\n",
       "|    max|                  2|               12|    Wed|                23|   2020|              265|               265|                 9|              1511.0|               90684|          134121.5|                  2|                 5|             803.0|             803.8|\n",
       "+-------+-------------------+-----------------+-------+------------------+-------+-----------------+------------------+------------------+--------------------+--------------------+------------------+-------------------+------------------+------------------+------------------+"
      ]
     },
     "execution_count": 29,
     "metadata": {},
     "output_type": "execute_result"
    }
   ],
   "source": [
    "df_fare.summary()"
   ]
  },
  {
   "cell_type": "code",
   "execution_count": 30,
   "id": "33f2a5b5",
   "metadata": {
    "scrolled": false
   },
   "outputs": [],
   "source": [
    "df_time_pos = df_fare.filter(col('trip_duration_second') > 0)"
   ]
  },
  {
   "cell_type": "markdown",
   "id": "c765263b",
   "metadata": {},
   "source": [
    "The negative value of trip duration maybe caused from the malfunction of the meter while engaged and/or disengaged. So the records will be deleted.\n",
    "\n",
    "The strange behaviours happen between trip duration and the amount the passenger pay."
   ]
  },
  {
   "cell_type": "markdown",
   "id": "9058adfd",
   "metadata": {},
   "source": [
    "Many trip durations have values larger than six hours, which is also nonsense, with trip distances and amount to pay are fairly normal."
   ]
  },
  {
   "cell_type": "code",
   "execution_count": 31,
   "id": "bdfc6d42",
   "metadata": {},
   "outputs": [
    {
     "name": "stderr",
     "output_type": "stream",
     "text": [
      "                                                                                \r"
     ]
    },
    {
     "data": {
      "text/plain": [
       "1456"
      ]
     },
     "execution_count": 31,
     "metadata": {},
     "output_type": "execute_result"
    }
   ],
   "source": [
    "df_time_pos \\\n",
    "    .filter(\n",
    "#         (col('trip_distance') > 12) & \n",
    "#         (col('trip_duration_minute') > 60) & \n",
    "        (hour('do_datetime') == 0) &\n",
    "        (minute('do_datetime') == 0) &\n",
    "        (second('do_datetime') == 0)\n",
    "    ) \\\n",
    "    .select(\n",
    "        'pu_datetime',\n",
    "        'do_datetime',\n",
    "        'trip_duration_minute',\n",
    "        'trip_distance',\n",
    "        'fare_amount',\n",
    "        'total_amount'\n",
    "    ) \\\n",
    "    .count()"
   ]
  },
  {
   "cell_type": "code",
   "execution_count": 32,
   "id": "67e7c4d8",
   "metadata": {
    "scrolled": true
   },
   "outputs": [
    {
     "name": "stdout",
     "output_type": "stream",
     "text": [
      "+-------------------+-------------------+--------------------+-------------+-----------+------------+\n",
      "|        pu_datetime|        do_datetime|trip_duration_minute|trip_distance|fare_amount|total_amount|\n",
      "+-------------------+-------------------+--------------------+-------------+-----------+------------+\n",
      "|2020-01-01 00:33:09|2020-01-02 00:00:00|              1407.0|         1.87|       22.0|        23.3|\n",
      "|2020-01-01 02:46:42|2020-01-02 00:00:00|              1273.0|        27.13|      225.0|       225.3|\n",
      "|2020-01-01 05:11:55|2020-01-02 00:00:00|              1128.0|         0.27|       20.0|       23.34|\n",
      "|2020-01-01 05:14:56|2020-01-02 00:00:00|              1125.0|          0.0|       10.0|       12.36|\n",
      "|2020-01-01 07:03:17|2020-01-02 00:00:00|              1017.0|         1.13|       80.0|        80.3|\n",
      "|2020-01-01 08:09:15|2020-01-02 00:00:00|               951.0|        13.66|       38.0|        38.8|\n",
      "|2020-01-01 10:05:31|2020-01-02 00:00:00|               834.0|          1.3|        7.5|         8.3|\n",
      "|2020-01-01 11:57:44|2020-01-02 00:00:00|               722.0|         2.27|       10.0|       12.96|\n",
      "|2020-01-01 12:12:25|2020-01-02 00:00:00|               708.0|         7.94|       25.0|       30.96|\n",
      "|2020-01-01 17:03:56|2020-01-02 00:00:00|               416.0|        17.58|       55.0|       66.36|\n",
      "|2020-01-01 20:52:31|2020-01-02 00:00:00|               187.0|        10.88|       31.5|        32.8|\n",
      "|2020-01-01 20:14:43|2020-01-02 00:00:00|               225.0|         1.75|       10.0|        11.3|\n",
      "|2020-01-01 22:53:00|2020-01-02 00:00:00|                67.0|         2.89|       11.5|        12.8|\n",
      "|2020-01-02 01:37:35|2020-01-03 00:00:00|              1342.0|         2.55|       10.5|        11.8|\n",
      "|2020-01-02 03:36:16|2020-01-03 00:00:00|              1224.0|         0.99|        5.0|         6.3|\n",
      "|2020-01-02 07:13:18|2020-01-03 00:00:00|              1007.0|         2.61|       13.0|        13.8|\n",
      "|2020-01-02 08:36:58|2020-01-03 00:00:00|               923.0|         1.64|        8.0|       10.12|\n",
      "|2020-01-02 10:35:45|2020-01-03 00:00:00|               804.0|         3.09|       13.0|        13.8|\n",
      "|2020-01-02 11:45:20|2020-01-03 00:00:00|               735.0|          6.3|       26.0|       32.51|\n",
      "|2020-01-02 13:05:04|2020-01-03 00:00:00|               655.0|         2.47|       13.5|        14.3|\n",
      "|2020-01-02 13:57:11|2020-01-03 00:00:00|               603.0|         1.68|        9.5|       13.05|\n",
      "|2020-01-02 14:04:44|2020-01-03 00:00:00|               595.0|          0.0|       10.0|       11.33|\n",
      "|2020-01-02 14:02:11|2020-01-03 00:00:00|               598.0|         7.05|       21.0|        21.8|\n",
      "|2020-01-02 14:34:39|2020-01-03 00:00:00|               565.0|         6.91|       26.5|        27.3|\n",
      "|2020-01-02 14:25:47|2020-01-03 00:00:00|               574.0|         2.88|       12.5|        13.3|\n",
      "|2020-01-02 14:19:54|2020-01-03 00:00:00|               580.0|         6.45|       23.5|        24.3|\n",
      "|2020-01-02 16:05:15|2020-01-03 00:00:00|               475.0|         2.38|       11.5|        13.3|\n",
      "|2020-01-02 16:57:27|2020-01-03 00:00:00|               423.0|        11.11|       37.5|       42.05|\n",
      "|2020-01-02 16:55:06|2020-01-03 00:00:00|               425.0|         5.85|       25.5|        27.3|\n",
      "|2020-01-02 16:32:50|2020-01-03 00:00:00|               447.0|         4.48|       15.0|        16.8|\n",
      "|2020-01-02 16:38:30|2020-01-03 00:00:00|               442.0|         2.41|       12.0|        13.8|\n",
      "|2020-01-02 17:52:41|2020-01-03 00:00:00|               367.0|         0.44|        4.0|         5.8|\n",
      "|2020-01-02 19:07:37|2020-01-03 00:00:00|               292.0|         0.58|        5.0|        8.84|\n",
      "|2020-01-02 22:07:42|2020-01-03 00:00:00|               112.0|         0.73|        4.5|         5.8|\n",
      "|2020-01-02 22:02:51|2020-01-03 00:00:00|               117.0|         0.92|        5.5|         6.8|\n",
      "|2020-01-03 07:26:47|2020-01-04 00:00:00|               993.0|         0.59|        4.5|         5.3|\n",
      "|2020-01-03 10:25:43|2020-01-04 00:00:00|               814.0|         1.25|        6.0|         6.8|\n",
      "|2020-01-03 11:44:04|2020-01-04 00:00:00|               736.0|         1.03|        7.0|         7.8|\n",
      "|2020-01-03 15:55:16|2020-01-04 00:00:00|               485.0|         1.51|        9.0|         9.8|\n",
      "|2020-01-03 16:52:27|2020-01-04 00:00:00|               428.0|         1.69|       13.5|        15.3|\n",
      "|2020-01-03 16:47:41|2020-01-04 00:00:00|               432.0|         1.48|        8.5|        10.3|\n",
      "|2020-01-03 17:23:44|2020-01-04 00:00:00|               396.0|         1.01|        5.5|       11.56|\n",
      "|2020-01-03 18:40:15|2020-01-04 00:00:00|               320.0|         9.96|       31.0|        32.8|\n",
      "|2020-01-03 18:20:29|2020-01-04 00:00:00|               340.0|         3.21|       13.5|        15.3|\n",
      "|2020-01-03 19:09:12|2020-01-04 00:00:00|               291.0|         1.92|        9.0|        10.8|\n",
      "|2020-01-03 18:57:25|2020-01-04 00:00:00|               303.0|          2.8|       12.0|        13.8|\n",
      "|2020-01-03 20:49:07|2020-01-04 00:00:00|               191.0|         0.68|        5.0|         6.3|\n",
      "|2020-01-03 20:00:05|2020-01-04 00:00:00|               240.0|         2.43|       11.0|        12.3|\n",
      "|2020-01-03 22:13:08|2020-01-04 00:00:00|               107.0|         2.27|       10.0|        11.3|\n",
      "|2020-01-03 23:12:47|2020-01-04 00:00:00|                47.0|         7.08|       24.0|        25.3|\n",
      "|2020-01-04 14:40:27|2020-01-05 00:00:00|               560.0|         4.31|       17.0|        17.8|\n",
      "|2020-01-04 15:27:38|2020-01-05 00:00:00|               512.0|         0.42|       50.0|        50.0|\n",
      "|2020-01-04 15:54:21|2020-01-05 00:00:00|               486.0|         1.88|       11.5|        12.3|\n",
      "|2020-01-04 15:34:12|2020-01-05 00:00:00|               506.0|         1.34|        7.5|        9.54|\n",
      "|2020-01-04 16:26:12|2020-01-05 00:00:00|               454.0|         1.13|        6.5|         7.3|\n",
      "|2020-01-04 17:25:13|2020-01-05 00:00:00|               395.0|         1.62|        9.0|         9.8|\n",
      "|2020-01-04 17:26:40|2020-01-05 00:00:00|               393.0|        10.94|       38.5|       46.25|\n",
      "|2020-01-04 18:16:28|2020-01-05 00:00:00|               344.0|         3.68|       15.5|       19.05|\n",
      "|2020-01-04 20:59:14|2020-01-05 00:00:00|               181.0|          2.5|       14.0|        17.6|\n",
      "|2020-01-04 23:59:45|2020-01-05 00:00:00|                 0.0|          0.0|        2.5|         3.8|\n",
      "|2020-01-05 00:15:05|2020-01-06 00:00:00|              1425.0|         1.65|        7.5|         8.8|\n",
      "|2020-01-05 03:32:21|2020-01-06 00:00:00|              1228.0|         1.65|        9.0|        10.3|\n",
      "|2020-01-05 07:43:06|2020-01-06 00:00:00|               977.0|         1.15|        5.5|        7.56|\n",
      "|2020-01-05 08:40:57|2020-01-06 00:00:00|               919.0|         8.36|       30.0|       33.05|\n",
      "|2020-01-05 12:27:17|2020-01-06 00:00:00|               693.0|         1.48|        8.0|       13.86|\n",
      "|2020-01-05 13:29:46|2020-01-06 00:00:00|               630.0|          3.1|       14.0|       17.55|\n",
      "|2020-01-05 15:13:55|2020-01-06 00:00:00|               526.0|          1.5|        9.0|         9.8|\n",
      "|2020-01-05 17:31:29|2020-01-06 00:00:00|               389.0|          2.3|       10.5|        11.3|\n",
      "|2020-01-05 19:48:16|2020-01-06 00:00:00|               252.0|        15.81|       25.0|        25.3|\n",
      "|2020-01-05 20:56:41|2020-01-06 00:00:00|               183.0|         5.94|       21.5|       25.55|\n",
      "|2020-01-05 23:14:45|2020-01-06 00:00:00|                45.0|         1.39|        6.5|        9.36|\n",
      "|2020-01-05 22:21:58|2020-01-06 00:00:00|                98.0|         3.37|       11.5|        12.8|\n",
      "|2020-01-06 08:19:30|2020-01-07 00:00:00|               941.0|         3.23|       14.0|        14.8|\n",
      "|2020-01-06 09:18:35|2020-01-07 00:00:00|               881.0|         3.69|       13.5|        14.3|\n",
      "|2020-01-06 09:05:42|2020-01-07 00:00:00|               894.0|         1.46|        7.0|         7.8|\n",
      "|2020-01-06 11:48:34|2020-01-07 00:00:00|               731.0|         5.43|       21.5|        22.3|\n",
      "|2020-01-06 14:27:26|2020-01-07 00:00:00|               573.0|         3.24|       12.5|       17.29|\n",
      "|2020-01-06 14:36:25|2020-01-07 00:00:00|               564.0|         1.81|       10.0|       11.88|\n",
      "|2020-01-06 15:50:39|2020-01-07 00:00:00|               489.0|         2.22|       12.5|        13.3|\n",
      "|2020-01-06 15:34:26|2020-01-07 00:00:00|               506.0|          2.1|       11.5|       15.38|\n",
      "|2020-01-06 22:38:40|2020-01-07 00:00:00|                81.0|        17.24|       46.5|       50.19|\n",
      "|2020-01-06 22:36:46|2020-01-07 00:00:00|                83.0|         1.75|        8.5|         9.8|\n",
      "|2020-01-06 22:44:47|2020-01-07 00:00:00|                75.0|         4.88|       17.5|       21.55|\n",
      "|2020-01-07 05:49:37|2020-01-08 00:00:00|              1090.0|         6.82|       21.0|       28.81|\n",
      "|2020-01-07 10:46:54|2020-01-08 00:00:00|               793.0|         6.68|       24.5|       33.66|\n",
      "|2020-01-07 12:09:50|2020-01-08 00:00:00|               710.0|         3.72|       14.5|        15.3|\n",
      "|2020-01-07 15:27:52|2020-01-08 00:00:00|               512.0|         3.12|       14.5|        15.3|\n",
      "|2020-01-07 15:20:10|2020-01-08 00:00:00|               520.0|         2.34|       12.5|        13.3|\n",
      "|2020-01-07 17:18:17|2020-01-08 00:00:00|               402.0|         1.48|        9.0|       12.96|\n",
      "|2020-01-07 17:02:20|2020-01-08 00:00:00|               418.0|         3.68|       19.5|        21.3|\n",
      "|2020-01-07 18:35:49|2020-01-08 00:00:00|               324.0|          4.8|       20.0|        21.8|\n",
      "|2020-01-07 19:34:28|2020-01-08 00:00:00|               266.0|          2.8|       11.5|       16.05|\n",
      "|2020-01-07 22:23:25|2020-01-08 00:00:00|                97.0|          1.4|        7.5|       10.56|\n",
      "|2020-01-08 00:40:01|2020-01-09 00:00:00|              1400.0|         0.68|        5.0|         6.3|\n",
      "|2020-01-08 07:41:13|2020-01-09 00:00:00|               979.0|         1.45|        7.5|         8.3|\n",
      "|2020-01-08 09:18:21|2020-01-09 00:00:00|               882.0|         0.95|        7.0|         7.8|\n",
      "|2020-01-08 10:49:15|2020-01-09 00:00:00|               791.0|         2.05|       12.0|       14.08|\n",
      "|2020-01-08 11:38:32|2020-01-09 00:00:00|               741.0|         5.04|       19.5|       23.05|\n",
      "|2020-01-08 13:00:05|2020-01-09 00:00:00|               660.0|         1.98|       10.5|        11.3|\n",
      "|2020-01-08 14:46:43|2020-01-09 00:00:00|               553.0|         3.78|       15.0|       18.55|\n",
      "+-------------------+-------------------+--------------------+-------------+-----------+------------+\n",
      "only showing top 100 rows\n",
      "\n"
     ]
    }
   ],
   "source": [
    "df_time_pos \\\n",
    "    .filter(\n",
    "#         (col('trip_distance') > 12) & \n",
    "#         (col('trip_duration_minute') > 60) & \n",
    "        (hour('do_datetime') == 0) &\n",
    "        (minute('do_datetime') == 0) &\n",
    "        (second('do_datetime') == 0)\n",
    "    ) \\\n",
    "    .select(\n",
    "        'pu_datetime',\n",
    "        'do_datetime',\n",
    "        'trip_duration_minute',\n",
    "        'trip_distance',\n",
    "        'fare_amount',\n",
    "        'total_amount'\n",
    "    ) \\\n",
    "    .show(100)"
   ]
  },
  {
   "cell_type": "markdown",
   "id": "3b4306ad",
   "metadata": {},
   "source": [
    "For now, I will delete all the records with drop off timestamp value `00:00:00`. I think these are automatically done by the meter but the resulting timestamp made it wrong to calculate trip duration though the trip distance and fare amount are normal."
   ]
  },
  {
   "cell_type": "code",
   "execution_count": 33,
   "id": "c850ac28",
   "metadata": {
    "scrolled": false
   },
   "outputs": [],
   "source": [
    "## Assumption\n",
    "df_timestamp = df_time_pos.filter(\n",
    "                    (hour('lpep_dropoff_datetime') != 0) &\n",
    "                    (minute('lpep_dropoff_datetime') != 0) &\n",
    "                    (second('lpep_dropoff_datetime') != 0)\n",
    "               )"
   ]
  },
  {
   "cell_type": "code",
   "execution_count": 34,
   "id": "15c28bac",
   "metadata": {},
   "outputs": [
    {
     "name": "stderr",
     "output_type": "stream",
     "text": [
      "[Stage 42:==============>                                           (1 + 3) / 4]\r"
     ]
    },
    {
     "name": "stdout",
     "output_type": "stream",
     "text": [
      "+--------+-------------------+-------------------+--------+------+-------+-------+------------+------------+---------------+--------------------+--------------------+-------------+---------+------------+-----------+------------+\n",
      "|VendorID|        pu_datetime|        do_datetime|pu_month|pu_day|pu_hour|do_year|PULocationID|DOLocationID|passenger_count|trip_duration_minute|trip_duration_second|trip_distance|trip_type|payment_type|fare_amount|total_amount|\n",
      "+--------+-------------------+-------------------+--------+------+-------+-------+------------+------------+---------------+--------------------+--------------------+-------------+---------+------------+-----------+------------+\n",
      "|       2|2020-01-11 19:26:47|2020-01-12 10:14:46|       1|   Sat|     19|   2020|          51|         265|              1|               888.0|               53279|        16.58|        1|           2|      25.05|       25.35|\n",
      "|       2|2020-01-13 18:57:30|2020-01-14 07:12:48|       1|   Mon|     18|   2020|          74|         264|              6|               735.0|               44118|          1.0|        1|           2|        6.0|         7.8|\n",
      "|       2|2020-01-29 00:00:00|2020-01-29 11:35:19|       1|   Wed|      0|   2020|         181|          62|              1|               695.0|               41719|         1.23|        1|           2|        7.5|         8.3|\n",
      "|       2|2020-10-03 20:22:12|2020-10-04 07:52:28|      10|   Sat|     20|   2020|         149|          25|              1|               690.0|               41416|         32.7|        1|           2|      34.82|       35.12|\n",
      "|       2|2020-10-10 00:00:00|2020-10-10 09:15:10|      10|   Sat|      0|   2020|         159|         264|              1|               555.0|               33310|          0.3|        1|           2|        3.5|         4.3|\n",
      "|       2|2020-10-27 20:58:26|2020-10-28 11:46:19|      10|   Tue|     20|   2020|         219|         205|              1|               888.0|               53273|        19.14|        1|           2|       26.6|        26.9|\n",
      "|       2|2020-11-15 00:00:00|2020-11-15 08:47:06|      11|   Sun|      0|   2020|         119|         264|              1|               527.0|               31626|          1.9|        1|           2|        8.5|         9.3|\n",
      "|       2|2020-11-24 00:00:00|2020-11-24 14:54:52|      11|   Tue|      0|   2020|          41|         264|              1|               895.0|               53692|         1.11|        1|           2|        7.5|         8.3|\n",
      "|       2|2020-02-02 14:51:34|2020-02-03 05:53:20|       2|   Sun|     14|   2020|          55|          11|              6|               902.0|               54106|         5.03|        1|           2|      458.0|       458.8|\n",
      "|       2|2020-02-12 06:51:28|2020-02-12 20:27:18|       2|   Wed|      6|   2020|          78|         254|              1|               816.0|               48950|         4.96|        1|           2|      414.5|       415.3|\n",
      "|       2|2020-02-18 08:45:20|2020-02-18 17:43:12|       2|   Tue|      8|   2020|          55|          55|              1|               538.0|               32272|          0.0|        2|           1|        8.0|        9.96|\n",
      "|       2|2020-02-19 18:36:18|2020-02-20 08:30:26|       2|   Wed|     18|   2020|          41|          74|              1|               834.0|               50048|          4.9|        1|           2|      421.5|       423.3|\n",
      "|       2|2020-02-23 21:31:45|2020-02-24 10:36:29|       2|   Sun|     21|   2020|          70|          70|              2|               785.0|               47084|         3.88|        1|           2|        5.0|         5.3|\n",
      "|       2|2020-02-28 17:28:41|2020-02-29 09:23:27|       2|   Fri|     17|   2020|          56|         193|              1|               955.0|               57286|        33.69|        1|           2|      37.22|       44.14|\n",
      "|       2|2020-08-29 02:56:40|2020-08-29 16:03:06|       8|   Sat|      2|   2020|         243|         193|              1|               786.0|               47186|          0.0|        1|           1|        3.5|         5.3|\n",
      "|       2|2020-09-29 05:17:22|2020-09-29 15:15:37|       9|   Tue|      5|   2020|         193|         193|              1|               598.0|               35895|          0.0|        1|           1|        2.5|        4.29|\n",
      "|       2|2020-12-06 00:00:00|2020-12-06 10:06:18|      12|   Sun|      0|   2020|          75|         263|              1|               606.0|               36378|         2.79|        1|           2|        9.5|       13.05|\n",
      "|       2|2020-08-18 19:22:34|2020-08-19 11:20:05|       8|   Tue|     19|   2020|         130|         205|              1|               958.0|               57451|         3.64|        1|           1|       14.0|       18.17|\n",
      "|       2|2020-08-21 20:23:20|2020-08-22 06:29:05|       8|   Fri|     20|   2020|          59|         194|              1|               606.0|               36345|        17.86|        1|           2|      329.0|       330.3|\n",
      "|       2|2020-08-26 17:03:15|2020-08-27 05:59:37|       8|   Wed|     17|   2020|          91|          25|              1|               776.0|               46582|        28.15|        1|           2|      19.61|       19.91|\n",
      "|       2|2020-08-29 20:45:34|2020-08-30 12:37:31|       8|   Sat|     20|   2020|         247|         136|              1|               952.0|               57117|         5.38|        1|           2|      483.0|       484.3|\n",
      "|       2|2020-07-31 17:46:42|2020-08-01 06:28:01|       7|   Fri|     17|   2020|          35|          91|              1|               761.0|               45679|         8.12|        1|           2|      31.33|       31.63|\n",
      "|       2|2020-07-31 21:37:23|2020-08-01 11:46:05|       7|   Fri|     21|   2020|          65|          91|              2|               849.0|               50922|         8.73|        1|           2|      433.5|       434.8|\n",
      "|       2|2020-06-04 18:02:01|2020-06-05 07:06:33|       6|   Thu|     18|   2020|         188|         232|              1|               785.0|               47072|        41.08|        1|           2|      39.11|       39.41|\n",
      "|       2|2020-06-18 10:49:15|2020-06-18 21:54:41|       6|   Thu|     10|   2020|          70|          70|              1|               665.0|               39926|         26.6|        1|           2|        5.0|         5.3|\n",
      "|       2|2020-06-20 00:56:58|2020-06-20 11:50:50|       6|   Sat|      0|   2020|          41|         159|              6|               654.0|               39232|         6.97|        1|           2|      335.5|       336.8|\n",
      "|       2|2020-06-23 09:53:03|2020-06-23 20:51:15|       6|   Tue|      9|   2020|          70|          70|              2|               658.0|               39492|        49.93|        1|           2|        5.0|         5.3|\n",
      "|       2|2020-06-30 23:05:46|2020-07-01 10:24:18|       6|   Tue|     23|   2020|         129|          70|              1|               679.0|               40712|         2.44|        1|           2|        5.0|         5.3|\n",
      "|       2|2020-05-09 16:07:28|2020-05-10 06:13:58|       5|   Sat|     16|   2020|         166|          42|              1|               847.0|               50790|         7.06|        1|           2|       10.0|        10.3|\n",
      "|       2|2020-05-11 17:09:45|2020-05-12 06:28:19|       5|   Mon|     17|   2020|          69|         220|              1|               799.0|               47914|          5.1|        1|           2|      406.0|       407.8|\n",
      "|       2|2020-05-31 00:00:00|2020-05-31 15:04:34|       5|   Sun|      0|   2020|          65|         127|              1|               905.0|               54274|         0.22|        1|           2|        3.5|         4.3|\n",
      "|       2|2020-04-03 12:10:53|2020-04-03 22:02:18|       4|   Fri|     12|   2020|         215|         215|              1|               591.0|               35485|        17.76|        1|           1|      314.5|      394.12|\n",
      "|       2|2020-04-05 14:09:05|2020-04-05 23:23:16|       4|   Sun|     14|   2020|         205|         215|              5|               554.0|               33251|        20.94|        1|           1|      299.5|      390.39|\n",
      "|       2|2020-04-10 14:25:15|2020-04-11 06:05:42|       4|   Fri|     14|   2020|          10|          82|              1|               940.0|               56427|        32.38|        1|           2|       8.94|        9.24|\n",
      "|       2|2020-04-12 13:03:39|2020-04-12 23:33:42|       4|   Sun|     13|   2020|         215|         215|              5|               630.0|               37803|        17.54|        1|           1|      331.5|      398.76|\n",
      "|       2|2020-04-13 14:34:37|2020-04-13 23:57:51|       4|   Mon|     14|   2020|         215|         215|              5|               563.0|               33794|        21.55|        1|           1|      303.0|      379.75|\n",
      "+--------+-------------------+-------------------+--------+------+-------+-------+------------+------------+---------------+--------------------+--------------------+-------------+---------+------------+-----------+------------+\n",
      "\n"
     ]
    },
    {
     "name": "stderr",
     "output_type": "stream",
     "text": [
      "\r",
      "[Stage 42:===========================================>              (3 + 1) / 4]\r",
      "\r",
      "                                                                                \r"
     ]
    }
   ],
   "source": [
    "df_timestamp.filter((col('trip_duration_minute') > 500) & (col('trip_duration_minute') < 1000)).show(38)"
   ]
  },
  {
   "cell_type": "code",
   "execution_count": 35,
   "id": "20c3bd12",
   "metadata": {},
   "outputs": [
    {
     "name": "stderr",
     "output_type": "stream",
     "text": [
      "                                                                                \r"
     ]
    },
    {
     "data": {
      "text/plain": [
       "53973"
      ]
     },
     "execution_count": 35,
     "metadata": {},
     "output_type": "execute_result"
    }
   ],
   "source": [
    "df_timestamp.filter(col('trip_distance') <= 0).count()"
   ]
  },
  {
   "cell_type": "code",
   "execution_count": 36,
   "id": "a164e72a",
   "metadata": {
    "scrolled": true
   },
   "outputs": [
    {
     "name": "stdout",
     "output_type": "stream",
     "text": [
      "+--------+-------------------+-------------------+--------+------+-------+-------+------------+------------+---------------+--------------------+--------------------+-------------+---------+------------+-----------+------------+\n",
      "|VendorID|        pu_datetime|        do_datetime|pu_month|pu_day|pu_hour|do_year|PULocationID|DOLocationID|passenger_count|trip_duration_minute|trip_duration_second|trip_distance|trip_type|payment_type|fare_amount|total_amount|\n",
      "+--------+-------------------+-------------------+--------+------+-------+-------+------------+------------+---------------+--------------------+--------------------+-------------+---------+------------+-----------+------------+\n",
      "|       1|2020-01-01 00:43:43|2020-01-01 01:14:39|       1|   Wed|      0|   2020|          37|         150|              1|                31.0|                1856|          0.0|        1|           1|       28.2|        29.0|\n",
      "|       1|2020-01-01 00:46:42|2020-01-01 01:06:21|       1|   Wed|      0|   2020|         153|          74|              1|                20.0|                1179|          0.0|        1|           1|       24.2|        25.0|\n",
      "|       1|2020-01-01 00:42:01|2020-01-01 01:19:43|       1|   Wed|      0|   2020|          61|          55|              1|                38.0|                2262|          0.0|        1|           1|      39.33|       40.13|\n",
      "|       1|2020-01-01 00:50:36|2020-01-01 01:24:19|       1|   Wed|      0|   2020|         215|         116|              1|                34.0|                2023|          0.0|        1|           1|       39.2|       46.12|\n",
      "|       2|2020-01-01 01:06:18|2020-01-01 01:06:20|       1|   Wed|      1|   2020|         264|         264|              1|                 0.0|                   2|          0.0|        2|           1|       45.0|       54.36|\n",
      "|       1|2020-01-01 01:44:21|2020-01-01 02:01:51|       1|   Wed|      1|   2020|          95|           7|              1|                18.0|                1050|          0.0|        1|           1|       22.2|        23.0|\n",
      "|       2|2020-01-01 01:28:00|2020-01-01 01:28:08|       1|   Wed|      1|   2020|         260|         260|              1|                 0.0|                   8|          0.0|        1|           2|        2.5|         3.8|\n",
      "|       2|2020-01-01 01:12:42|2020-01-01 01:13:03|       1|   Wed|      1|   2020|         217|         217|              3|                 0.0|                  21|          0.0|        1|           2|        2.5|         3.8|\n",
      "|       2|2020-01-01 01:11:41|2020-01-01 01:11:43|       1|   Wed|      1|   2020|         264|         264|              1|                 0.0|                   2|          0.0|        2|           1|       10.0|        10.3|\n",
      "|       1|2020-01-01 01:12:43|2020-01-01 01:42:11|       1|   Wed|      1|   2020|         129|         225|              1|                29.0|                1768|          0.0|        1|           1|       26.2|        27.0|\n",
      "|       2|2020-01-01 01:36:01|2020-01-01 01:36:56|       1|   Wed|      1|   2020|          76|          76|              1|                 1.0|                  55|          0.0|        1|           1|        2.5|        28.8|\n",
      "|       2|2020-01-01 01:23:25|2020-01-01 01:23:45|       1|   Wed|      1|   2020|          65|          65|              1|                 0.0|                  20|          0.0|        1|           2|        2.5|         3.8|\n",
      "|       1|2020-01-01 01:03:19|2020-01-01 01:34:55|       1|   Wed|      1|   2020|         129|         265|              1|                32.0|                1896|          0.0|        1|           1|       36.2|        37.0|\n",
      "|       2|2020-01-01 01:42:33|2020-01-01 01:45:55|       1|   Wed|      1|   2020|          53|          53|              2|                 3.0|                 202|          0.0|        1|           1|        2.5|        4.94|\n",
      "|       1|2020-01-01 01:08:29|2020-01-01 01:26:54|       1|   Wed|      1|   2020|          47|          51|              1|                18.0|                1105|          0.0|        1|           1|       26.2|        27.0|\n",
      "|       1|2020-01-01 01:41:50|2020-01-01 02:02:34|       1|   Wed|      1|   2020|         183|          74|              1|                21.0|                1244|          0.0|        1|           1|       26.2|        27.0|\n",
      "|       1|2020-01-01 01:26:21|2020-01-01 01:59:41|       1|   Wed|      1|   2020|          55|         117|              1|                33.0|                2000|          0.0|        1|           1|       34.2|       37.29|\n",
      "|       2|2020-01-01 01:54:35|2020-01-01 01:54:39|       1|   Wed|      1|   2020|         166|         166|              2|                 0.0|                   4|          0.0|        1|           2|       52.0|        52.8|\n",
      "|       2|2020-01-01 01:22:30|2020-01-01 01:22:31|       1|   Wed|      1|   2020|         264|         264|              1|                 0.0|                   1|          0.0|        1|           2|        2.5|         3.8|\n",
      "|       1|2020-01-01 01:23:45|2020-01-01 01:50:27|       1|   Wed|      1|   2020|         147|         232|              1|                27.0|                1602|          0.0|        1|           1|       28.2|        29.0|\n",
      "+--------+-------------------+-------------------+--------+------+-------+-------+------------+------------+---------------+--------------------+--------------------+-------------+---------+------------+-----------+------------+\n",
      "only showing top 20 rows\n",
      "\n"
     ]
    }
   ],
   "source": [
    "df_timestamp.filter(col('trip_distance') <= 0).show()"
   ]
  },
  {
   "cell_type": "markdown",
   "id": "1b7cc12b",
   "metadata": {},
   "source": [
    "Many records are also have distance less than or equal to zero. These could be happened maybe by error sourced from the meter. For now, I will exclude them from the valid data."
   ]
  },
  {
   "cell_type": "code",
   "execution_count": 37,
   "id": "f108413e",
   "metadata": {
    "scrolled": false
   },
   "outputs": [],
   "source": [
    "df_distance = df_timestamp.filter(col('trip_distance') > 0)\n",
    "# df_distance.summary()"
   ]
  },
  {
   "cell_type": "code",
   "execution_count": 38,
   "id": "ad68b61f",
   "metadata": {
    "scrolled": false
   },
   "outputs": [
    {
     "name": "stderr",
     "output_type": "stream",
     "text": [
      "\r",
      "[Stage 48:=============================>                            (2 + 2) / 4]\r",
      "\r",
      "[Stage 48:===========================================>              (3 + 1) / 4]\r"
     ]
    },
    {
     "name": "stdout",
     "output_type": "stream",
     "text": [
      "+--------------------+-------------+-----------+------------+\n",
      "|trip_duration_minute|trip_distance|fare_amount|total_amount|\n",
      "+--------------------+-------------+-----------+------------+\n",
      "|               384.0|        66.24|       10.0|        10.3|\n",
      "|                40.0|       124.13|       40.0|        43.1|\n",
      "|               176.0|     35757.46|      12.38|       12.68|\n",
      "|                39.0|     25731.59|      20.25|       20.55|\n",
      "|               222.0|       108.83|      120.0|      138.17|\n",
      "|               100.0|       5388.1|      36.17|       38.76|\n",
      "|               145.0|     12467.88|      22.79|       23.09|\n",
      "|               139.0|       103.02|      200.0|      206.42|\n",
      "|               194.0|        85.45|      175.0|       175.3|\n",
      "|                48.0|     24430.46|      31.18|       31.48|\n",
      "|               365.0|        78.26|      23.67|       30.09|\n",
      "|                75.0|        79.69|      100.0|       140.3|\n",
      "|                12.0|     134121.5|      21.88|       22.18|\n",
      "|               380.0|        65.32|       20.0|        20.3|\n",
      "|                20.0|      6726.05|        8.0|         8.3|\n",
      "+--------------------+-------------+-----------+------------+\n",
      "\n"
     ]
    },
    {
     "name": "stderr",
     "output_type": "stream",
     "text": [
      "\r",
      "                                                                                \r"
     ]
    }
   ],
   "source": [
    "## Check trip distance again\n",
    "filters = df_distance \\\n",
    "        .filter(\n",
    "            (col('fare_amount') > 0) &\n",
    "            (col('trip_distance') > 60) &\n",
    "    #         (col('trip_distance')/(col('trip_duration_minute')/60) > 50) &\n",
    "            (col('fare_amount') < 2.5 + (floor(col('trip_distance')/0.2)*0.5))  # standard metering assumption\n",
    "        ) \\\n",
    "        .select(\n",
    "            'trip_duration_minute',\n",
    "            'trip_distance',\n",
    "            'fare_amount',\n",
    "            'total_amount'\n",
    "        )\n",
    "\n",
    "filters.show()"
   ]
  },
  {
   "cell_type": "markdown",
   "id": "307c9a3e",
   "metadata": {},
   "source": [
    "I filtered the records based on `trip_distance` and `fare_amount` because I saw strange values between the distance and the amount passenger paid. The assumption here was by using a standard metered fare, that is, \\\\$2.50 for initial charge and \\\\$0.50 every 1/5 mile. I filtered from the trip distance that larger than 60 miles, though the less distance trips have this behaviour too."
   ]
  },
  {
   "cell_type": "code",
   "execution_count": 39,
   "id": "b18a26b7",
   "metadata": {
    "scrolled": false
   },
   "outputs": [],
   "source": [
    "df_dist_fare = df_distance.join(filters,['trip_duration_minute','trip_distance','fare_amount','total_amount'],'leftanti')\n",
    "# df_dist_fare.summary()"
   ]
  },
  {
   "cell_type": "markdown",
   "id": "b52c7a9b",
   "metadata": {},
   "source": [
    "The cab can only afford maximum passengers of four. However, the dataset tells that there are records with passenger larger than four. Inspect using boxplot."
   ]
  },
  {
   "cell_type": "code",
   "execution_count": 40,
   "id": "cb5123e6",
   "metadata": {},
   "outputs": [],
   "source": [
    "# df_pandas = df_dist_fare.filter('passenger_count > 4').toPandas()\n",
    "# fig = px.box(df_pandas,x='passenger_count', y='trip_duration_minute', color='pu_day')\n",
    "# fig.show()"
   ]
  },
  {
   "cell_type": "code",
   "execution_count": 41,
   "id": "e2f1c8e2",
   "metadata": {},
   "outputs": [],
   "source": [
    "# fig = px.box(df_pandas,x='passenger_count', y='total_amount', color='pu_day')\n",
    "# fig.show()"
   ]
  },
  {
   "cell_type": "code",
   "execution_count": 42,
   "id": "5fb9366c",
   "metadata": {},
   "outputs": [],
   "source": [
    "# df_pandas = df_dist_fare.filter('passenger_count == 0').toPandas()\n",
    "# fig = px.box(df_pandas,x='passenger_count', y='trip_duration_minute')\n",
    "# fig.show()"
   ]
  },
  {
   "cell_type": "markdown",
   "id": "6d75e760",
   "metadata": {},
   "source": [
    "Delete all records with number of passengers outside 1 and 4."
   ]
  },
  {
   "cell_type": "code",
   "execution_count": 43,
   "id": "d7208e85",
   "metadata": {},
   "outputs": [],
   "source": [
    "df_passenger = df_dist_fare.filter('passenger_count > 0 and passenger_count <= 4')\n",
    "# df_passenger.summary()"
   ]
  },
  {
   "cell_type": "code",
   "execution_count": 44,
   "id": "a5575dab",
   "metadata": {},
   "outputs": [],
   "source": [
    "# df_pandas = df_passenger.toPandas()\n",
    "# fig = px.box(df_pandas,x='passenger_count', y='trip_duration_minute', color='pu_day')\n",
    "# fig.show()"
   ]
  },
  {
   "cell_type": "code",
   "execution_count": 45,
   "id": "f1cefdd1",
   "metadata": {
    "scrolled": false
   },
   "outputs": [],
   "source": [
    "# fig = px.scatter(df_pandas, x='trip_distance',y='trip_duration_minute',color='total_amount')\n",
    "# fig.show()"
   ]
  },
  {
   "cell_type": "markdown",
   "id": "ee8cb081",
   "metadata": {},
   "source": [
    "Based on the scatter plot between `trip_distance` and `trip_duration_minute`, it can be concluded that the duration recorded are doubtful, especially when the duration took hours but the fare still low. I would remove all the data that fulfilled all these following criterias:\n",
    "* `trip_distance` < 60 miles\n",
    "* `trip_duration_minute` > 360 minutes\n",
    "* `fare_amount` < \\\\$152.5"
   ]
  },
  {
   "cell_type": "code",
   "execution_count": 47,
   "id": "762c81bb",
   "metadata": {
    "scrolled": true
   },
   "outputs": [],
   "source": [
    "df_final = df_passenger \\\n",
    "                .filter(\n",
    "                        ~((col('trip_distance') < 60) &\n",
    "                        (col('trip_duration_minute') > 360) &\n",
    "                        (col('fare_amount') < 152.5)\n",
    "                         )) \\\n",
    "                .select(\n",
    "                        'VendorID',\n",
    "                        'pu_month',\n",
    "                        'pu_day',\n",
    "                        'pu_hour',\n",
    "                        'PULocationID',\n",
    "                        'DOLocationID',\n",
    "                        'passenger_count',\n",
    "                        'trip_duration_minute',\n",
    "                        'trip_distance',\n",
    "                        'trip_type',\n",
    "                        'payment_type',\n",
    "                        'fare_amount',\n",
    "                        'total_amount'\n",
    "                )"
   ]
  },
  {
   "cell_type": "code",
   "execution_count": 48,
   "id": "1ded1661",
   "metadata": {},
   "outputs": [],
   "source": [
    "vendor = [\n",
    "    (1, 'Creative Mobile Technologies, LLC'),\n",
    "    (2, 'VeriFone Inc')\n",
    "]\n",
    "\n",
    "vendor_cols = ['id','vendor']"
   ]
  },
  {
   "cell_type": "code",
   "execution_count": 49,
   "id": "e57fd0ce",
   "metadata": {},
   "outputs": [],
   "source": [
    "payment = [\n",
    "    (1, 'Credit card'),\n",
    "    (2, 'Cash'),\n",
    "    (3, 'No charge'),\n",
    "    (4, 'Dispute'),\n",
    "    (5, 'Unknown'),\n",
    "    (6, 'Voided trip')\n",
    "]\n",
    "\n",
    "payment_cols = ['id','payment']"
   ]
  },
  {
   "cell_type": "code",
   "execution_count": 50,
   "id": "02144c52",
   "metadata": {},
   "outputs": [],
   "source": [
    "trip = [\n",
    "    (1, 'Street-hail'),\n",
    "    (2, 'Dispatch')\n",
    "]\n",
    "\n",
    "trip_cols = ['id','trip']"
   ]
  },
  {
   "cell_type": "code",
   "execution_count": 51,
   "id": "9972e1bc",
   "metadata": {},
   "outputs": [],
   "source": [
    "df_vendor = spark.createDataFrame(vendor, vendor_cols)\n",
    "df_payment = spark.createDataFrame(payment, payment_cols)\n",
    "df_trip = spark.createDataFrame(trip, trip_cols)"
   ]
  },
  {
   "cell_type": "code",
   "execution_count": 59,
   "id": "56d39ff8",
   "metadata": {
    "scrolled": true
   },
   "outputs": [
    {
     "name": "stderr",
     "output_type": "stream",
     "text": [
      "[Stage 67:=============================>                            (1 + 1) / 2]\r"
     ]
    },
    {
     "name": "stdout",
     "output_type": "stream",
     "text": [
      "+--------------------+-----------+-----------+--------+------+-------+------------+------------+---------------+--------------------+-------------+-----------+------------+\n",
      "|              vendor|    payment|       trip|pu_month|pu_day|pu_hour|PULocationID|DOLocationID|passenger_count|trip_duration_minute|trip_distance|fare_amount|total_amount|\n",
      "+--------------------+-----------+-----------+--------+------+-------+------------+------------+---------------+--------------------+-------------+-----------+------------+\n",
      "|Creative Mobile T...|Credit card|Street-hail|       1|   Wed|      0|          35|          39|              1|                17.0|          3.0|       13.5|        14.8|\n",
      "|Creative Mobile T...|Credit card|Street-hail|       1|   Wed|      0|         166|         236|              2|                15.0|          2.8|       13.0|       20.05|\n",
      "|Creative Mobile T...|Credit card|Street-hail|       1|   Wed|      0|          41|         254|              2|                30.0|         10.4|       32.0|        33.3|\n",
      "|Creative Mobile T...|Credit card|Street-hail|       1|   Wed|      0|         167|         182|              1|                19.0|          3.7|       15.0|        16.3|\n",
      "|Creative Mobile T...|Credit card|Street-hail|       1|   Wed|      0|         256|           7|              1|                18.0|          6.7|       21.5|        24.8|\n",
      "|Creative Mobile T...|Credit card|Street-hail|       1|   Wed|      0|           7|         168|              1|                19.0|          5.3|       19.0|       26.42|\n",
      "|Creative Mobile T...|Credit card|Street-hail|       1|   Wed|      0|         181|         255|              3|                29.0|          6.8|       24.5|       28.38|\n",
      "|Creative Mobile T...|Credit card|Street-hail|       1|   Wed|      0|          61|          39|              1|                24.0|          4.3|       19.0|        20.3|\n",
      "|Creative Mobile T...|Credit card|Street-hail|       1|   Wed|      0|         181|         195|              1|                 6.0|          1.1|        6.5|        9.75|\n",
      "|Creative Mobile T...|Credit card|Street-hail|       1|   Wed|      0|         181|          89|              1|                13.0|          2.6|       11.0|       15.35|\n",
      "+--------------------+-----------+-----------+--------+------+-------+------------+------------+---------------+--------------------+-------------+-----------+------------+\n",
      "only showing top 10 rows\n",
      "\n"
     ]
    },
    {
     "name": "stderr",
     "output_type": "stream",
     "text": [
      "\r",
      "                                                                                \r"
     ]
    }
   ],
   "source": [
    "df_join = df_final \\\n",
    "    .join(df_vendor, df_final.VendorID == df_vendor.id, 'inner').drop(*('VendorID','id')) \\\n",
    "    .join(df_payment, df_final.payment_type == df_payment.id, 'inner').drop(*('payment_type','id')) \\\n",
    "    .join(df_trip, df_final.trip_type == df_trip.id, 'inner').drop(*('trip_type','id')) \\\n",
    "    .select(\n",
    "        'vendor',\n",
    "        'payment',\n",
    "        'trip',\n",
    "        'pu_month',\n",
    "        'pu_day',\n",
    "        'pu_hour',\n",
    "        'PULocationID',\n",
    "        'DOLocationID',\n",
    "        'passenger_count',\n",
    "        'trip_duration_minute',\n",
    "        'trip_distance',\n",
    "        'fare_amount',\n",
    "        'total_amount'\n",
    "    )\n",
    "\n",
    "df_join.show(10)"
   ]
  },
  {
   "cell_type": "code",
   "execution_count": 61,
   "id": "dd38461a",
   "metadata": {},
   "outputs": [
    {
     "name": "stderr",
     "output_type": "stream",
     "text": [
      "                                                                                \r"
     ]
    },
    {
     "data": {
      "text/plain": [
       "(1023825, 13)"
      ]
     },
     "execution_count": 61,
     "metadata": {},
     "output_type": "execute_result"
    }
   ],
   "source": [
    "df_join.count(), len(df_join.columns)"
   ]
  },
  {
   "cell_type": "code",
   "execution_count": null,
   "id": "dc29b81e",
   "metadata": {},
   "outputs": [],
   "source": [
    "# df_pandas = df_final.toPandas()\n",
    "# fig = px.scatter(df_pandas, x='trip_distance',y='trip_duration_minute',color='fare_amount')\n",
    "# fig.show()"
   ]
  },
  {
   "cell_type": "code",
   "execution_count": 60,
   "id": "d830ed94",
   "metadata": {},
   "outputs": [
    {
     "name": "stderr",
     "output_type": "stream",
     "text": [
      "                                                                                \r"
     ]
    }
   ],
   "source": [
    "df_join \\\n",
    "    .write \\\n",
    "    .mode('overwrite') \\\n",
    "    .parquet('output/nyc-green-2020')"
   ]
  },
  {
   "cell_type": "code",
   "execution_count": null,
   "id": "3cc4378f",
   "metadata": {},
   "outputs": [],
   "source": [
    "from pyspark import SparkContext as sc\n",
    "spark.sparkContext._conf.getAll()"
   ]
  }
 ],
 "metadata": {
  "kernelspec": {
   "display_name": "Python 3",
   "language": "python",
   "name": "python3"
  },
  "language_info": {
   "codemirror_mode": {
    "name": "ipython",
    "version": 3
   },
   "file_extension": ".py",
   "mimetype": "text/x-python",
   "name": "python",
   "nbconvert_exporter": "python",
   "pygments_lexer": "ipython3",
   "version": "3.9.7"
  }
 },
 "nbformat": 4,
 "nbformat_minor": 5
}
