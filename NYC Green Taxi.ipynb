{
 "cells": [
  {
   "cell_type": "markdown",
   "id": "4fd41887",
   "metadata": {},
   "source": [
    "## New York City Green Taxi Data Cleaning\n",
    "\n",
    "The notebook contains a sequence of steps to explore green taxi data for year 2020. I used PySpark in Jupyter Notebook so it can show directly the dataframe when calling action operations. The goal of this notebook is to output the cleaned dataset to build a web-based dashboard using Plotly-Dash."
   ]
  },
  {
   "cell_type": "markdown",
   "id": "5f6d54f1",
   "metadata": {},
   "source": [
    "### Import modules\n",
    "\n",
    "At a very first, import the `findspark` module to get the Spark home in the local machine."
   ]
  },
  {
   "cell_type": "code",
   "execution_count": 1,
   "id": "4fe6e46b",
   "metadata": {},
   "outputs": [],
   "source": [
    "import findspark\n",
    "\n",
    "findspark.find()\n",
    "findspark.init()"
   ]
  },
  {
   "cell_type": "markdown",
   "id": "6d95b492",
   "metadata": {},
   "source": [
    "Then, I can import all functionalities of Spark."
   ]
  },
  {
   "cell_type": "code",
   "execution_count": 2,
   "id": "9bb5bf29",
   "metadata": {},
   "outputs": [],
   "source": [
    "from pyspark.sql import SparkSession\n",
    "from pyspark.sql.functions import (\n",
    "    to_timestamp, \n",
    "    date_format,\n",
    "    year, \n",
    "    month, \n",
    "    hour, \n",
    "    col, \n",
    "    round,\n",
    "    ceil,\n",
    "    floor,\n",
    "    minute, \n",
    "    second,\n",
    "    when\n",
    ")"
   ]
  },
  {
   "cell_type": "code",
   "execution_count": 3,
   "id": "9357f716",
   "metadata": {},
   "outputs": [],
   "source": [
    "import plotly.express as px"
   ]
  },
  {
   "cell_type": "markdown",
   "id": "9b6344c0",
   "metadata": {},
   "source": [
    "### Initialize SparkSession\n",
    "\n",
    "SparkSession is created using local thread of four and can be seen in `localhost:4050` with \"NYC Green Taxi\" as the application name."
   ]
  },
  {
   "cell_type": "code",
   "execution_count": 4,
   "id": "f69065b6",
   "metadata": {
    "scrolled": true
   },
   "outputs": [
    {
     "name": "stderr",
     "output_type": "stream",
     "text": [
      "22/04/20 14:48:08 WARN Utils: Your hostname, pop-os resolves to a loopback address: 127.0.1.1; using 192.168.43.60 instead (on interface wlp0s20f3)\n",
      "22/04/20 14:48:08 WARN Utils: Set SPARK_LOCAL_IP if you need to bind to another address\n",
      "WARNING: An illegal reflective access operation has occurred\n",
      "WARNING: Illegal reflective access by org.apache.spark.unsafe.Platform (file:/home/thomas/spark/jars/spark-unsafe_2.12-3.2.1.jar) to constructor java.nio.DirectByteBuffer(long,int)\n",
      "WARNING: Please consider reporting this to the maintainers of org.apache.spark.unsafe.Platform\n",
      "WARNING: Use --illegal-access=warn to enable warnings of further illegal reflective access operations\n",
      "WARNING: All illegal access operations will be denied in a future release\n",
      "Using Spark's default log4j profile: org/apache/spark/log4j-defaults.properties\n",
      "Setting default log level to \"WARN\".\n",
      "To adjust logging level use sc.setLogLevel(newLevel). For SparkR, use setLogLevel(newLevel).\n",
      "22/04/20 14:48:09 WARN NativeCodeLoader: Unable to load native-hadoop library for your platform... using builtin-java classes where applicable\n"
     ]
    }
   ],
   "source": [
    "spark = SparkSession.builder \\\n",
    "    .master(\"local[4]\") \\\n",
    "    .appName(\"NYC Green Taxi\") \\\n",
    "    .config('spark.ui.port', '4050') \\\n",
    "    .getOrCreate()"
   ]
  },
  {
   "cell_type": "markdown",
   "id": "bd682b71",
   "metadata": {},
   "source": [
    "Set this configuration to print the dataframe when calling `.show` operation."
   ]
  },
  {
   "cell_type": "code",
   "execution_count": 5,
   "id": "a60885a3",
   "metadata": {},
   "outputs": [],
   "source": [
    "spark.conf.set('spark.sql.repl.eagerEval.enabled', True)"
   ]
  },
  {
   "cell_type": "markdown",
   "id": "aa7ef6f8",
   "metadata": {},
   "source": [
    "### Read the data\n",
    "\n",
    "The dataset that will be used is NYC green taxi data for all months in 2020. Let us see the columns."
   ]
  },
  {
   "cell_type": "code",
   "execution_count": 6,
   "id": "e6b8e274",
   "metadata": {
    "scrolled": false
   },
   "outputs": [
    {
     "name": "stderr",
     "output_type": "stream",
     "text": [
      "[Stage 1:===============================================>           (4 + 1) / 5]\r"
     ]
    },
    {
     "name": "stdout",
     "output_type": "stream",
     "text": [
      "root\n",
      " |-- VendorID: integer (nullable = true)\n",
      " |-- lpep_pickup_datetime: string (nullable = true)\n",
      " |-- lpep_dropoff_datetime: string (nullable = true)\n",
      " |-- store_and_fwd_flag: string (nullable = true)\n",
      " |-- RatecodeID: integer (nullable = true)\n",
      " |-- PULocationID: integer (nullable = true)\n",
      " |-- DOLocationID: integer (nullable = true)\n",
      " |-- passenger_count: integer (nullable = true)\n",
      " |-- trip_distance: double (nullable = true)\n",
      " |-- fare_amount: double (nullable = true)\n",
      " |-- extra: double (nullable = true)\n",
      " |-- mta_tax: double (nullable = true)\n",
      " |-- tip_amount: double (nullable = true)\n",
      " |-- tolls_amount: double (nullable = true)\n",
      " |-- ehail_fee: string (nullable = true)\n",
      " |-- improvement_surcharge: double (nullable = true)\n",
      " |-- total_amount: double (nullable = true)\n",
      " |-- payment_type: integer (nullable = true)\n",
      " |-- trip_type: integer (nullable = true)\n",
      " |-- congestion_surcharge: double (nullable = true)\n",
      "\n"
     ]
    },
    {
     "name": "stderr",
     "output_type": "stream",
     "text": [
      "\r",
      "                                                                                \r"
     ]
    }
   ],
   "source": [
    "df = spark.read \\\n",
    "    .format('csv') \\\n",
    "    .option(\"inferSchema\", \"true\") \\\n",
    "    .option(\"header\",\"true\") \\\n",
    "    .load(\"/home/thomas/data/nyc_taxi/green_taxi/*2020*.csv\")\n",
    "df.printSchema()"
   ]
  },
  {
   "cell_type": "markdown",
   "id": "aac3b5a7",
   "metadata": {},
   "source": [
    "Write the dataframe into Parquet format. I did this to make a memory-efficient application when I re-read the data using the chosen format."
   ]
  },
  {
   "cell_type": "code",
   "execution_count": 7,
   "id": "2ce66748",
   "metadata": {},
   "outputs": [
    {
     "name": "stderr",
     "output_type": "stream",
     "text": [
      "                                                                                \r"
     ]
    }
   ],
   "source": [
    "df \\\n",
    "    .write \\\n",
    "    .mode('overwrite') \\\n",
    "    .parquet('staging/nyc-green-2020')"
   ]
  },
  {
   "cell_type": "markdown",
   "id": "e599b2fd",
   "metadata": {},
   "source": [
    "Re-read the data with the same variable as before, `df`, but for now using the Parquet file I have wrote earlier."
   ]
  },
  {
   "cell_type": "code",
   "execution_count": 8,
   "id": "b280d262",
   "metadata": {},
   "outputs": [
    {
     "name": "stdout",
     "output_type": "stream",
     "text": [
      "root\n",
      " |-- VendorID: integer (nullable = true)\n",
      " |-- lpep_pickup_datetime: string (nullable = true)\n",
      " |-- lpep_dropoff_datetime: string (nullable = true)\n",
      " |-- store_and_fwd_flag: string (nullable = true)\n",
      " |-- RatecodeID: integer (nullable = true)\n",
      " |-- PULocationID: integer (nullable = true)\n",
      " |-- DOLocationID: integer (nullable = true)\n",
      " |-- passenger_count: integer (nullable = true)\n",
      " |-- trip_distance: double (nullable = true)\n",
      " |-- fare_amount: double (nullable = true)\n",
      " |-- extra: double (nullable = true)\n",
      " |-- mta_tax: double (nullable = true)\n",
      " |-- tip_amount: double (nullable = true)\n",
      " |-- tolls_amount: double (nullable = true)\n",
      " |-- ehail_fee: string (nullable = true)\n",
      " |-- improvement_surcharge: double (nullable = true)\n",
      " |-- total_amount: double (nullable = true)\n",
      " |-- payment_type: integer (nullable = true)\n",
      " |-- trip_type: integer (nullable = true)\n",
      " |-- congestion_surcharge: double (nullable = true)\n",
      "\n"
     ]
    }
   ],
   "source": [
    "df = spark.read \\\n",
    "    .format('parquet') \\\n",
    "    .option(\"header\",\"true\") \\\n",
    "    .load(\"staging/nyc-green-2020\")\n",
    "df.printSchema()"
   ]
  },
  {
   "cell_type": "markdown",
   "id": "2440f156",
   "metadata": {},
   "source": [
    "The data dictionary of this dataset is available [here](https://www1.nyc.gov/assets/tlc/downloads/pdf/data_dictionary_trip_records_green.pdf). There are some codes identifying the columns, such as:\n",
    "\n",
    "1. `VendorID` contains a code indicating the LPEP provider\n",
    "    * `1` : Creative Mobile Technologies, LLC\n",
    "    * `2` : VeriFone Inc.\n",
    "\n",
    "\n",
    "2. `RateCodeID` is the final rate code in effect at the end of the trip.\n",
    "    * `1` : Standard rate\n",
    "    * `2` : JFK\n",
    "    * `3` : Newark\n",
    "    * `4` : Nassau or Westchester\n",
    "    * `5` : Negotiated fare\n",
    "    * `6` : Group ride\n",
    "    \n",
    "    \n",
    "3. `payment_type` is a numeric code signifying how the passenger paid for the trip.\n",
    "    * 1 : Credit card\n",
    "    * 2 : Cash\n",
    "    * 3 : No charge\n",
    "    * 4 : Dispute\n",
    "    * 5 : Unknown\n",
    "    * 6 : Voided trip\n",
    "    \n",
    "\n",
    "4. `PULocationID` and `DOLocationID` contain a code of pick up and drop off location zones which is referencing to this [file](https://s3.amazonaws.com/nyc-tlc/misc/taxi+_zone_lookup.csv).\n"
   ]
  },
  {
   "cell_type": "markdown",
   "id": "c10ea400",
   "metadata": {},
   "source": [
    "See the size of the dataset"
   ]
  },
  {
   "cell_type": "code",
   "execution_count": 9,
   "id": "3bea2b64",
   "metadata": {},
   "outputs": [
    {
     "data": {
      "text/plain": [
       "(1734051, 20)"
      ]
     },
     "execution_count": 9,
     "metadata": {},
     "output_type": "execute_result"
    }
   ],
   "source": [
    "df.count(), len(df.columns)"
   ]
  },
  {
   "cell_type": "code",
   "execution_count": 10,
   "id": "22dc6b48",
   "metadata": {
    "scrolled": false
   },
   "outputs": [
    {
     "name": "stdout",
     "output_type": "stream",
     "text": [
      "+--------+--------------------+---------------------+------------------+----------+------------+------------+---------------+-------------+-----------+-----+-------+----------+------------+---------+---------------------+------------+------------+---------+--------------------+\n",
      "|VendorID|lpep_pickup_datetime|lpep_dropoff_datetime|store_and_fwd_flag|RatecodeID|PULocationID|DOLocationID|passenger_count|trip_distance|fare_amount|extra|mta_tax|tip_amount|tolls_amount|ehail_fee|improvement_surcharge|total_amount|payment_type|trip_type|congestion_surcharge|\n",
      "+--------+--------------------+---------------------+------------------+----------+------------+------------+---------------+-------------+-----------+-----+-------+----------+------------+---------+---------------------+------------+------------+---------+--------------------+\n",
      "|       2| 2019-12-18 15:52:30|  2019-12-18 15:54:39|                 N|         1|         264|         264|              5|          0.0|        3.5|  0.5|    0.5|      0.01|         0.0|     null|                  0.3|        4.81|           1|        1|                 0.0|\n",
      "|       2| 2020-01-01 00:45:58|  2020-01-01 00:56:39|                 N|         5|          66|          65|              2|         1.28|       20.0|  0.0|    0.0|      4.06|         0.0|     null|                  0.3|       24.36|           1|        2|                 0.0|\n",
      "|       2| 2020-01-01 00:41:38|  2020-01-01 00:52:49|                 N|         1|         181|         228|              1|         2.47|       10.5|  0.5|    0.5|      3.54|         0.0|     null|                  0.3|       15.34|           1|        1|                 0.0|\n",
      "|       1| 2020-01-01 00:52:46|  2020-01-01 01:14:21|                 N|         1|         129|         263|              2|          6.3|       21.0| 3.25|    0.5|       0.0|         0.0|     null|                  0.3|       25.05|           2|        1|                2.75|\n",
      "|       1| 2020-01-01 00:19:57|  2020-01-01 00:30:56|                 N|         1|         210|         150|              1|          2.3|       10.0|  0.5|    0.5|       0.0|         0.0|     null|                  0.3|        11.3|           1|        1|                 0.0|\n",
      "|       1| 2020-01-01 00:52:33|  2020-01-01 01:09:54|                 N|         1|          35|          39|              1|          3.0|       13.5|  0.5|    0.5|       0.0|         0.0|     null|                  0.3|        14.8|           1|        1|                 0.0|\n",
      "|       2| 2020-01-01 00:10:18|  2020-01-01 00:22:16|                 N|         1|          25|          61|              1|         2.77|       11.0|  0.5|    0.5|       0.0|         0.0|     null|                  0.3|        12.3|           2|        1|                 0.0|\n",
      "|       2| 2020-01-01 01:03:14|  2020-01-01 01:29:45|                 N|         1|         225|          89|              1|         4.98|       20.5|  0.5|    0.5|       0.0|         0.0|     null|                  0.3|        21.8|           2|        1|                 0.0|\n",
      "|       2| 2020-01-01 00:04:11|  2020-01-01 00:09:48|                 N|         1|         129|         129|              1|         0.71|        5.5|  0.5|    0.5|       0.0|         0.0|     null|                  0.3|         6.8|           2|        1|                 0.0|\n",
      "|       2| 2020-01-01 00:25:52|  2020-01-01 00:32:16|                 N|         1|         129|          83|              1|          0.8|        5.5|  0.5|    0.5|       0.0|         0.0|     null|                  0.3|         6.8|           2|        1|                 0.0|\n",
      "|       2| 2020-01-01 00:47:32|  2020-01-01 00:59:25|                 N|         1|          82|         173|              1|         1.52|        9.5|  0.5|    0.5|       0.0|         0.0|     null|                  0.3|        10.8|           2|        1|                 0.0|\n",
      "|       1| 2020-01-01 00:26:40|  2020-01-01 00:40:42|                 N|         1|          74|          69|              1|          3.8|       14.0|  0.5|    0.5|       0.0|         0.0|     null|                  0.3|        15.3|           2|        1|                 0.0|\n",
      "|       2| 2020-01-01 00:38:47|  2020-01-01 00:46:02|                 N|         1|          74|          41|              1|         1.12|        6.5|  0.5|    0.5|       0.0|         0.0|     null|                  0.3|         7.8|           1|        1|                 0.0|\n",
      "|       2| 2020-01-01 00:52:18|  2020-01-01 01:09:58|                 N|         1|          41|         127|              1|         5.67|       19.0|  0.5|    0.5|       0.0|         0.0|     null|                  0.3|        20.3|           2|        1|                 0.0|\n",
      "|       2| 2020-01-01 00:16:01|  2020-01-01 00:26:40|                 N|         1|           7|         260|              1|         1.86|        9.5|  0.5|    0.5|       0.0|         0.0|     null|                  0.3|        10.8|           2|        1|                 0.0|\n",
      "|       2| 2020-01-01 00:21:15|  2020-01-01 00:28:03|                 N|         1|           7|           7|              1|         1.42|        7.0|  0.5|    0.5|       0.0|         0.0|     null|                  0.3|         8.3|           2|        1|                 0.0|\n",
      "|       2| 2020-01-01 00:35:42|  2020-01-01 01:02:00|                 N|         1|           7|         133|              1|        15.48|       43.0|  0.5|    0.5|      8.86|         0.0|     null|                  0.3|       53.16|           1|        1|                 0.0|\n",
      "|       2| 2020-01-01 00:39:51|  2020-01-01 00:42:54|                 N|         1|         134|          28|              1|         1.15|        5.5|  0.5|    0.5|       1.0|         0.0|     null|                  0.3|         7.8|           1|        1|                 0.0|\n",
      "|       1| 2020-01-01 00:00:21|  2020-01-01 00:10:19|                 N|         1|          89|          39|              1|          2.3|       10.0|  0.5|    0.5|       0.0|         0.0|     null|                  0.3|        11.3|           2|        1|                 0.0|\n",
      "|       1| 2020-01-01 00:13:59|  2020-01-01 00:21:31|                 N|         1|          66|          65|              3|          1.0|        6.5|  0.5|    0.5|       0.0|         0.0|     null|                  0.3|         7.8|           2|        1|                 0.0|\n",
      "+--------+--------------------+---------------------+------------------+----------+------------+------------+---------------+-------------+-----------+-----+-------+----------+------------+---------+---------------------+------------+------------+---------+--------------------+\n",
      "only showing top 20 rows\n",
      "\n"
     ]
    }
   ],
   "source": [
    "df.show()"
   ]
  },
  {
   "cell_type": "markdown",
   "id": "d31d9160",
   "metadata": {},
   "source": [
    "See the summary of the dataset"
   ]
  },
  {
   "cell_type": "code",
   "execution_count": 11,
   "id": "30aaddbd",
   "metadata": {
    "scrolled": false
   },
   "outputs": [
    {
     "name": "stderr",
     "output_type": "stream",
     "text": [
      "                                                                                \r"
     ]
    },
    {
     "data": {
      "text/html": [
       "<table border='1'>\n",
       "<tr><th>summary</th><th>VendorID</th><th>lpep_pickup_datetime</th><th>lpep_dropoff_datetime</th><th>store_and_fwd_flag</th><th>RatecodeID</th><th>PULocationID</th><th>DOLocationID</th><th>passenger_count</th><th>trip_distance</th><th>fare_amount</th><th>extra</th><th>mta_tax</th><th>tip_amount</th><th>tolls_amount</th><th>ehail_fee</th><th>improvement_surcharge</th><th>total_amount</th><th>payment_type</th><th>trip_type</th><th>congestion_surcharge</th></tr>\n",
       "<tr><td>count</td><td>1205959</td><td>1734051</td><td>1734051</td><td>1205959</td><td>1205959</td><td>1734051</td><td>1734051</td><td>1205959</td><td>1734051</td><td>1734051</td><td>1734051</td><td>1734051</td><td>1734051</td><td>1734051</td><td>0</td><td>1734051</td><td>1734051</td><td>1205959</td><td>1205954</td><td>1205959</td></tr>\n",
       "<tr><td>mean</td><td>1.8298316941123205</td><td>null</td><td>null</td><td>null</td><td>1.118096054675159</td><td>108.24825682750969</td><td>128.7862756055041</td><td>1.2913266537253754</td><td>17.292239957186986</td><td>16.984788048339592</td><td>0.5418312033498438</td><td>0.3480491346563625</td><td>1.263317930095531</td><td>0.4129914979431395</td><td>null</td><td>0.29325262059946694</td><td>20.16313390433051</td><td>1.4599285713693417</td><td>1.0262953644998067</td><td>0.4842113206170359</td></tr>\n",
       "<tr><td>stddev</td><td>0.37578074811450785</td><td>null</td><td>null</td><td>null</td><td>0.7140994719763627</td><td>70.80139561161255</td><td>76.42576845637467</td><td>0.9547199115132876</td><td>1198.1647047946237</td><td>13.805149119347435</td><td>0.9482827432384792</td><td>0.23257857098804421</td><td>2.2282006210319514</td><td>1.6595631387406184</td><td>null</td><td>0.04914765352186226</td><td>15.273077679603345</td><td>0.5219627145750482</td><td>0.16001231057922746</td><td>1.047321940025361</td></tr>\n",
       "<tr><td>min</td><td>1</td><td>2008-12-31 22:06:48</td><td>2008-12-31 23:12:08</td><td>N</td><td>1</td><td>1</td><td>1</td><td>0</td><td>-33.69</td><td>-210.0</td><td>-4.5</td><td>-0.5</td><td>-10.56</td><td>-6.12</td><td>null</td><td>-0.3</td><td>-210.3</td><td>1</td><td>1</td><td>-2.75</td></tr>\n",
       "<tr><td>25%</td><td>2</td><td>null</td><td>null</td><td>null</td><td>1</td><td>52</td><td>63</td><td>1</td><td>1.13</td><td>7.5</td><td>0.0</td><td>0.0</td><td>0.0</td><td>0.0</td><td>null</td><td>0.3</td><td>9.36</td><td>1</td><td>1</td><td>0.0</td></tr>\n",
       "<tr><td>50%</td><td>2</td><td>null</td><td>null</td><td>null</td><td>1</td><td>81</td><td>127</td><td>1</td><td>2.21</td><td>12.5</td><td>0.0</td><td>0.5</td><td>0.0</td><td>0.0</td><td>null</td><td>0.3</td><td>15.7</td><td>1</td><td>1</td><td>0.0</td></tr>\n",
       "<tr><td>75%</td><td>2</td><td>null</td><td>null</td><td>null</td><td>1</td><td>166</td><td>194</td><td>1</td><td>4.87</td><td>22.11</td><td>1.0</td><td>0.5</td><td>2.75</td><td>0.0</td><td>null</td><td>0.3</td><td>26.0</td><td>2</td><td>1</td><td>0.0</td></tr>\n",
       "<tr><td>max</td><td>2</td><td>2041-08-17 16:24:38</td><td>2041-08-17 16:27:20</td><td>Y</td><td>99</td><td>265</td><td>265</td><td>9</td><td>205654.12</td><td>803.0</td><td>16.74</td><td>3.55</td><td>641.2</td><td>96.12</td><td>null</td><td>0.3</td><td>803.8</td><td>5</td><td>2</td><td>2.75</td></tr>\n",
       "</table>\n"
      ],
      "text/plain": [
       "+-------+-------------------+--------------------+---------------------+------------------+------------------+------------------+-----------------+------------------+------------------+------------------+------------------+-------------------+------------------+------------------+---------+---------------------+------------------+------------------+-------------------+--------------------+\n",
       "|summary|           VendorID|lpep_pickup_datetime|lpep_dropoff_datetime|store_and_fwd_flag|        RatecodeID|      PULocationID|     DOLocationID|   passenger_count|     trip_distance|       fare_amount|             extra|            mta_tax|        tip_amount|      tolls_amount|ehail_fee|improvement_surcharge|      total_amount|      payment_type|          trip_type|congestion_surcharge|\n",
       "+-------+-------------------+--------------------+---------------------+------------------+------------------+------------------+-----------------+------------------+------------------+------------------+------------------+-------------------+------------------+------------------+---------+---------------------+------------------+------------------+-------------------+--------------------+\n",
       "|  count|            1205959|             1734051|              1734051|           1205959|           1205959|           1734051|          1734051|           1205959|           1734051|           1734051|           1734051|            1734051|           1734051|           1734051|        0|              1734051|           1734051|           1205959|            1205954|             1205959|\n",
       "|   mean| 1.8298316941123205|                null|                 null|              null| 1.118096054675159|108.24825682750969|128.7862756055041|1.2913266537253754|17.292239957186986|16.984788048339592|0.5418312033498438| 0.3480491346563625| 1.263317930095531|0.4129914979431395|     null|  0.29325262059946694| 20.16313390433051|1.4599285713693417| 1.0262953644998067|  0.4842113206170359|\n",
       "| stddev|0.37578074811450785|                null|                 null|              null|0.7140994719763627| 70.80139561161255|76.42576845637467|0.9547199115132876|1198.1647047946237|13.805149119347435|0.9482827432384792|0.23257857098804421|2.2282006210319514|1.6595631387406184|     null|  0.04914765352186226|15.273077679603345|0.5219627145750482|0.16001231057922746|   1.047321940025361|\n",
       "|    min|                  1| 2008-12-31 22:06:48|  2008-12-31 23:12:08|                 N|                 1|                 1|                1|                 0|            -33.69|            -210.0|              -4.5|               -0.5|            -10.56|             -6.12|     null|                 -0.3|            -210.3|                 1|                  1|               -2.75|\n",
       "|    25%|                  2|                null|                 null|              null|                 1|                52|               63|                 1|              1.13|               7.5|               0.0|                0.0|               0.0|               0.0|     null|                  0.3|              9.36|                 1|                  1|                 0.0|\n",
       "|    50%|                  2|                null|                 null|              null|                 1|                81|              127|                 1|              2.21|              12.5|               0.0|                0.5|               0.0|               0.0|     null|                  0.3|              15.7|                 1|                  1|                 0.0|\n",
       "|    75%|                  2|                null|                 null|              null|                 1|               166|              194|                 1|              4.87|             22.11|               1.0|                0.5|              2.75|               0.0|     null|                  0.3|              26.0|                 2|                  1|                 0.0|\n",
       "|    max|                  2| 2041-08-17 16:24:38|  2041-08-17 16:27:20|                 Y|                99|               265|              265|                 9|         205654.12|             803.0|             16.74|               3.55|             641.2|             96.12|     null|                  0.3|             803.8|                 5|                  2|                2.75|\n",
       "+-------+-------------------+--------------------+---------------------+------------------+------------------+------------------+-----------------+------------------+------------------+------------------+------------------+-------------------+------------------+------------------+---------+---------------------+------------------+------------------+-------------------+--------------------+"
      ]
     },
     "execution_count": 11,
     "metadata": {},
     "output_type": "execute_result"
    }
   ],
   "source": [
    "df.summary()"
   ]
  },
  {
   "cell_type": "markdown",
   "id": "d30325a6",
   "metadata": {},
   "source": [
    "In this summary, I find something interesting. \n",
    "* The vendor is dominating by `VendorID` = 2, that is Verifone Inc. Also, it has many null values.\n",
    "* Both pick up and drop off dates contain typos as this is just a dataset for 2020.\n",
    "* The `RateCodeID` contains a number outside the listed categories.\n",
    "* The number of passenger exceeds 4 for green taxies, based on this [information](https://freetoursbyfoot.com/how-to-get-a-taxi-in-nyc/). The zero in passenger maybe a cancelled trip or mistyped by the driver.\n",
    "* The `trip_distance` has unnatural minimum and maximum values.\n",
    "* The `fare_amount`, `extra`, `mta_tax`,`tip_amount`, `total_amount`,`improvement_surcharge`, and `congestion_surcharge` minimum value has a negative value.\n",
    "* The `ehail_fee` are null for all records.\n",
    "* Null values also come in `store_and_fwd_flag`, `RateCodeID`, `passenger_count`, `payment_type`, `trip_type`, and `congestion_surcharge`.\n",
    "\n",
    "I will investigate further for all questionable values for each column."
   ]
  },
  {
   "cell_type": "markdown",
   "id": "81dd727b",
   "metadata": {},
   "source": [
    "### Explore the columns\n",
    "\n",
    "In this section, I will check the columns that have null values. I use `.filter` and `.isNull()` to filter all records with null values in selected columns."
   ]
  },
  {
   "cell_type": "code",
   "execution_count": 12,
   "id": "075e3807",
   "metadata": {
    "scrolled": false
   },
   "outputs": [
    {
     "name": "stdout",
     "output_type": "stream",
     "text": [
      "+--------+--------------------+---------------------+------------------+----------+------------+------------+---------------+-------------+-----------+-----+-------+----------+------------+---------+---------------------+------------+------------+---------+--------------------+\n",
      "|VendorID|lpep_pickup_datetime|lpep_dropoff_datetime|store_and_fwd_flag|RatecodeID|PULocationID|DOLocationID|passenger_count|trip_distance|fare_amount|extra|mta_tax|tip_amount|tolls_amount|ehail_fee|improvement_surcharge|total_amount|payment_type|trip_type|congestion_surcharge|\n",
      "+--------+--------------------+---------------------+------------------+----------+------------+------------+---------------+-------------+-----------+-----+-------+----------+------------+---------+---------------------+------------+------------+---------+--------------------+\n",
      "|    null| 2020-01-01 00:39:00|  2020-01-01 01:11:00|              null|      null|         143|          45|           null|         5.57|      25.78| 2.75|    0.0|       0.0|         0.0|     null|                  0.3|       28.83|        null|     null|                null|\n",
      "|    null| 2020-01-01 00:39:00|  2020-01-01 01:11:00|              null|      null|         143|          45|           null|         5.57|      26.82|  0.0|    0.0|       0.0|         0.0|     null|                  0.3|       27.12|        null|     null|                null|\n",
      "|    null| 2020-01-01 00:45:00|  2020-01-01 01:03:00|              null|      null|         197|         122|           null|          7.0|      24.86| 2.75|    0.0|       0.0|         0.0|     null|                  0.3|       27.91|        null|     null|                null|\n",
      "|    null| 2020-01-01 00:45:00|  2020-01-01 01:03:00|              null|      null|         197|         122|           null|          7.0|       17.5|  0.0|    0.0|       0.0|         0.0|     null|                  0.3|        17.8|        null|     null|                null|\n",
      "|    null| 2020-01-01 00:04:00|  2020-01-01 00:16:00|              null|      null|          17|          97|           null|          2.2|      16.73| 2.75|    0.0|       0.0|         0.0|     null|                  0.3|       19.78|        null|     null|                null|\n",
      "|    null| 2020-01-01 00:04:00|  2020-01-01 00:16:00|              null|      null|          17|          97|           null|          2.2|      12.02|  0.0|    0.0|       0.0|         0.0|     null|                  0.3|       12.32|        null|     null|                null|\n",
      "|    null| 2020-01-01 00:32:00|  2020-01-01 01:08:00|              null|      null|          38|          17|           null|        20.27|      49.35| 2.75|    0.0|       0.0|         0.0|     null|                  0.3|        52.4|        null|     null|                null|\n",
      "|    null| 2020-01-01 00:32:00|  2020-01-01 01:08:00|              null|      null|          38|          17|           null|        20.27|      46.09|  0.0|    0.0|       0.0|         0.0|     null|                  0.3|       46.39|        null|     null|                null|\n",
      "|    null| 2020-01-01 00:58:00|  2020-01-01 01:32:00|              null|      null|          56|         117|           null|       -15.42|      50.57| 2.75|    0.5|       0.0|         0.0|     null|                  0.3|       54.12|        null|     null|                null|\n",
      "|    null| 2020-01-01 00:58:00|  2020-01-01 01:32:00|              null|      null|          56|         117|           null|       -15.42|      37.47|  0.0|    0.5|       0.0|         0.0|     null|                  0.3|       38.27|        null|     null|                null|\n",
      "|    null| 2020-01-01 00:53:00|  2020-01-01 01:20:00|              null|      null|          77|         189|           null|         5.33|      23.31| 2.75|    0.0|       0.0|         0.0|     null|                  0.3|       26.36|        null|     null|                null|\n",
      "|    null| 2020-01-01 00:53:00|  2020-01-01 01:20:00|              null|      null|          77|         189|           null|         5.33|      49.33|  0.0|    0.0|       0.0|         0.0|     null|                  0.3|       49.63|        null|     null|                null|\n",
      "|    null| 2020-01-01 00:16:00|  2020-01-01 00:42:00|              null|      null|         216|         155|           null|         8.88|      40.94|  5.5|    0.0|       0.0|         0.0|     null|                  0.3|       46.74|        null|     null|                null|\n",
      "|    null| 2020-01-01 00:16:00|  2020-01-01 00:42:00|              null|      null|         216|         155|           null|         8.88|      26.18|  0.0|    0.0|       0.0|         0.0|     null|                  0.3|       26.48|        null|     null|                null|\n",
      "|    null| 2020-01-01 00:07:00|  2020-01-01 00:22:00|              null|      null|         216|         222|           null|          0.0|      33.36| 2.75|    0.0|       0.0|         0.0|     null|                  0.0|       36.11|        null|     null|                null|\n",
      "|    null| 2020-01-01 00:07:00|  2020-01-01 00:22:00|              null|      null|         216|         222|           null|          0.0|      15.83|  0.0|    0.0|       0.0|         0.0|     null|                  0.0|       15.83|        null|     null|                null|\n",
      "|    null| 2020-01-01 00:37:00|  2020-01-01 00:51:00|              null|      null|         216|          39|           null|        -2.98|      20.06|  5.5|    0.5|       0.0|         0.0|     null|                  0.3|       26.36|        null|     null|                null|\n",
      "|    null| 2020-01-01 00:37:00|  2020-01-01 00:51:00|              null|      null|         216|          39|           null|        -2.98|      29.05|  0.0|    0.5|       0.0|         0.0|     null|                  0.3|       29.85|        null|     null|                null|\n",
      "|    null| 2020-01-01 00:12:00|  2020-01-01 00:33:00|              null|      null|          35|          89|           null|         3.74|      21.37| 2.75|    0.0|       0.0|         0.0|     null|                  0.3|       24.42|        null|     null|                null|\n",
      "|    null| 2020-01-01 00:12:00|  2020-01-01 00:33:00|              null|      null|          35|          89|           null|         3.74|      17.99|  0.0|    0.0|       0.0|         0.0|     null|                  0.3|       18.29|        null|     null|                null|\n",
      "+--------+--------------------+---------------------+------------------+----------+------------+------------+---------------+-------------+-----------+-----+-------+----------+------------+---------+---------------------+------------+------------+---------+--------------------+\n",
      "only showing top 20 rows\n",
      "\n"
     ]
    }
   ],
   "source": [
    "df1 = df.filter(df.VendorID.isNull())\n",
    "df1.show()"
   ]
  },
  {
   "cell_type": "markdown",
   "id": "e0b7bd32",
   "metadata": {},
   "source": [
    "Interesting! I see a pattern from this first 20 records of null data in `VendorID` column. The datetime, pick up and drop off location id, and `trip_distance` values are doubled with variation in `fare amount`. Also, the `extra` column is filled with either 0.00 or 2.75. I might delete all these strange records.\n",
    "\n",
    "Assign the non-null values of `VendorID` column to a new variable."
   ]
  },
  {
   "cell_type": "code",
   "execution_count": 13,
   "id": "b51b4adb",
   "metadata": {},
   "outputs": [],
   "source": [
    "df_vendor = df.filter(df.VendorID.isNotNull())"
   ]
  },
  {
   "cell_type": "markdown",
   "id": "9ae04fe1",
   "metadata": {},
   "source": [
    "Create a new column named `do_year` for drop off year and extract the value from the drop off datetime using `.withColumn` method and `year` function from `pyspark.sql`."
   ]
  },
  {
   "cell_type": "code",
   "execution_count": 14,
   "id": "e46e5a96",
   "metadata": {},
   "outputs": [],
   "source": [
    "df_year = df_vendor.withColumn('do_year', year('lpep_dropoff_datetime'))"
   ]
  },
  {
   "cell_type": "markdown",
   "id": "d5930919",
   "metadata": {},
   "source": [
    "Count the records which has year before 2020 and show some of the data."
   ]
  },
  {
   "cell_type": "code",
   "execution_count": 15,
   "id": "4617eb11",
   "metadata": {
    "scrolled": true
   },
   "outputs": [
    {
     "data": {
      "text/plain": [
       "43"
      ]
     },
     "execution_count": 15,
     "metadata": {},
     "output_type": "execute_result"
    }
   ],
   "source": [
    "df_year.filter(col('do_year') < 2020).count()"
   ]
  },
  {
   "cell_type": "code",
   "execution_count": 16,
   "id": "48d02bdd",
   "metadata": {
    "scrolled": true
   },
   "outputs": [
    {
     "name": "stdout",
     "output_type": "stream",
     "text": [
      "+--------+--------------------+---------------------+------------------+----------+------------+------------+---------------+-------------+-----------+-----+-------+----------+------------+---------+---------------------+------------+------------+---------+--------------------+-------+\n",
      "|VendorID|lpep_pickup_datetime|lpep_dropoff_datetime|store_and_fwd_flag|RatecodeID|PULocationID|DOLocationID|passenger_count|trip_distance|fare_amount|extra|mta_tax|tip_amount|tolls_amount|ehail_fee|improvement_surcharge|total_amount|payment_type|trip_type|congestion_surcharge|do_year|\n",
      "+--------+--------------------+---------------------+------------------+----------+------------+------------+---------------+-------------+-----------+-----+-------+----------+------------+---------+---------------------+------------+------------+---------+--------------------+-------+\n",
      "|       2| 2019-12-18 15:52:30|  2019-12-18 15:54:39|                 N|         1|         264|         264|              5|          0.0|        3.5|  0.5|    0.5|      0.01|         0.0|     null|                  0.3|        4.81|           1|        1|                 0.0|   2019|\n",
      "|       2| 2019-12-31 23:08:44|  2019-12-31 23:13:19|                 N|         1|          41|          42|              1|         0.67|        5.0|  0.5|    0.5|       0.0|         0.0|     null|                  0.3|         6.3|           2|        1|                 0.0|   2019|\n",
      "|       2| 2019-12-31 23:25:03|  2019-12-31 23:33:50|                 N|         1|          42|         168|              1|         1.31|        8.0|  0.5|    0.5|      1.86|         0.0|     null|                  0.3|       13.11|           1|        1|                 0.0|   2019|\n",
      "|       2| 2019-12-31 23:42:17|  2019-12-31 23:55:19|                 N|         1|         168|           3|              1|         6.54|       20.0|  0.5|    0.5|       0.0|         0.0|     null|                  0.3|        21.3|           2|        1|                 0.0|   2019|\n",
      "|       2| 2019-12-31 23:22:08|  2019-12-31 23:24:44|                 N|         1|         130|         130|              1|         0.54|        4.0|  0.5|    0.5|       0.0|         0.0|     null|                  0.3|         5.3|           2|        1|                 0.0|   2019|\n",
      "|       2| 2019-12-31 23:45:42|  2019-12-31 23:50:34|                 N|         1|         116|         244|              1|         0.94|        5.5|  0.5|    0.5|      0.01|         0.0|     null|                  0.3|        6.81|           1|        1|                 0.0|   2019|\n",
      "|       2| 2019-12-31 23:21:30|  2019-12-31 23:30:59|                 N|         1|         130|          10|              1|         1.66|        8.0|  0.5|    0.5|       0.0|         0.0|     null|                  0.3|         9.3|           2|        1|                 0.0|   2019|\n",
      "|       2| 2019-12-31 18:58:27|  2019-12-31 18:58:53|                 N|         5|         243|         243|              1|          0.0|      13.99|  0.0|    0.0|       1.0|         0.0|     null|                  0.3|       15.29|           1|        2|                 0.0|   2019|\n",
      "|       2| 2019-12-31 18:59:44|  2019-12-31 18:59:48|                 N|         5|         116|         116|              1|          0.0|      10.09|  0.0|    0.0|      3.12|         0.0|     null|                  0.3|       13.51|           1|        2|                 0.0|   2019|\n",
      "|       2| 2019-12-31 18:06:30|  2019-12-31 18:12:33|                 N|         1|         116|         244|              1|         0.97|        6.0|  0.5|    0.5|      1.82|         0.0|     null|                  0.3|        9.12|           1|        1|                 0.0|   2019|\n",
      "|       2| 2009-01-01 00:45:53|  2009-01-01 00:58:27|                 N|         1|         130|          10|              1|         2.05|       10.0|  1.0|    0.5|       0.0|         0.0|     null|                  0.3|        11.8|           2|        1|                 0.0|   2009|\n",
      "|       2| 2009-01-01 01:53:27|  2009-01-01 02:14:57|                 N|         1|         130|         203|              1|         7.25|       23.0|  1.0|    0.5|       0.0|         0.0|     null|                  0.3|        24.8|           2|        1|                 0.0|   2009|\n",
      "|       2| 2009-01-01 00:07:51|  2009-01-01 21:09:32|                 N|         1|         193|         193|              1|          0.0|        2.5|  0.5|    0.5|      0.95|         0.0|     null|                  0.3|        4.75|           1|        1|                 0.0|   2009|\n",
      "|       2| 2009-01-01 04:53:28|  2009-01-01 05:12:02|                 N|         1|         130|         205|              1|         3.65|       13.5|  0.5|    0.5|       0.0|         0.0|     null|                  0.3|        14.8|           2|        1|                 0.0|   2009|\n",
      "|       2| 2009-01-01 05:48:32|  2009-01-01 06:01:41|                 N|         1|         130|         203|              1|         6.61|       20.0|  0.5|    0.5|       0.0|         0.0|     null|                  0.3|        21.3|           2|        1|                 0.0|   2009|\n",
      "|       2| 2009-01-01 07:07:31|  2009-01-01 07:20:29|                 N|         1|         130|         130|              1|         2.04|        9.0|  0.5|    0.5|       0.0|         0.0|     null|                  0.3|        10.3|           2|        1|                 0.0|   2009|\n",
      "|       2| 2009-01-01 00:08:09|  2009-01-01 00:17:31|                 N|         1|          74|          69|              1|         1.88|        9.0|  0.0|    0.5|       0.0|         0.0|     null|                  0.3|         9.8|           2|        1|                 0.0|   2009|\n",
      "|       2| 2009-01-01 00:34:50|  2009-01-01 00:45:10|                 N|         1|          41|         236|              1|         1.59|        8.0|  0.0|    0.5|       0.0|         0.0|     null|                  0.3|       11.55|           2|        1|                2.75|   2009|\n",
      "|       2| 2009-01-01 00:54:13|  2009-01-01 01:00:23|                 N|         1|          75|         237|              1|         1.11|        6.5|  0.0|    0.5|       0.0|         0.0|     null|                  0.3|       10.05|           2|        1|                2.75|   2009|\n",
      "|       2| 2009-01-01 01:19:36|  2009-01-01 01:28:23|                 N|         1|          41|          41|              1|         0.76|       -7.0|  0.0|   -0.5|       0.0|         0.0|     null|                 -0.3|        -7.8|           3|        1|                 0.0|   2009|\n",
      "|       2| 2009-01-01 01:19:36|  2009-01-01 01:28:23|                 N|         1|          41|          41|              1|         0.76|        7.0|  0.0|    0.5|       0.0|         0.0|     null|                  0.3|         7.8|           2|        1|                 0.0|   2009|\n",
      "|       2| 2009-01-01 02:27:23|  2009-01-01 02:30:11|                 N|         1|          74|          74|              1|         0.46|        4.0|  0.0|    0.5|       0.0|         0.0|     null|                  0.3|         4.8|           2|        1|                 0.0|   2009|\n",
      "|       2| 2010-09-23 00:01:28|  2010-09-23 16:17:35|                 N|         1|          95|         132|              1|         7.16|       22.0|  0.0|    0.5|       0.0|         0.0|     null|                  0.3|        22.8|           2|        1|                 0.0|   2010|\n",
      "|       2| 2010-09-23 00:01:28|  2010-09-23 21:09:38|                 N|         1|          95|          95|              1|         0.76|        4.5|  0.5|    0.5|       3.0|         0.0|     null|                  0.3|         8.8|           1|        1|                 0.0|   2010|\n",
      "|       2| 2010-09-23 00:01:30|  2010-09-23 20:35:57|                 N|         1|          95|          95|              1|         0.62|        4.5|  0.5|    0.5|      1.16|         0.0|     null|                  0.3|        6.96|           1|        1|                 0.0|   2010|\n",
      "|       2| 2008-12-31 23:11:00|  2008-12-31 23:12:08|                 N|         1|         264|         264|              1|          0.0|        0.0|  0.0|    0.0|       0.0|         0.0|     null|                  0.0|         0.0|           2|        1|                 0.0|   2008|\n",
      "|       2| 2009-01-01 00:00:00|  2009-01-01 00:03:58|                 N|         1|           7|         264|              1|          0.0|        9.0|  0.0|    0.5|       0.0|         0.0|     null|                  0.3|         9.8|           2|        1|                 0.0|   2009|\n",
      "|       2| 2009-01-01 00:10:19|  2009-01-01 00:16:57|                 N|         1|          42|         244|              1|         1.52|        7.0|  0.5|    0.5|       0.0|         0.0|     null|                  0.3|         8.3|           2|        1|                 0.0|   2009|\n",
      "|       2| 2009-01-01 00:22:33|  2009-01-01 00:28:25|                 N|         1|         116|         116|              1|         0.94|        6.0|  0.5|    0.5|       0.0|         0.0|     null|                  0.3|         7.3|           2|        1|                 0.0|   2009|\n",
      "|       2| 2009-01-01 11:13:07|  2009-01-01 11:13:38|                 N|         1|         193|         193|              1|          0.0|        0.0|  0.0|    0.0|       0.0|         0.0|     null|                  0.0|         0.0|           2|        1|                 0.0|   2009|\n",
      "|       2| 2008-12-31 23:12:22|  2008-12-31 23:13:59|                 N|         1|         193|           7|              1|          0.0|        0.0|  0.0|    0.0|       0.0|         0.0|     null|                  0.0|         0.0|           2|        1|                 0.0|   2008|\n",
      "|       1| 2020-11-16 19:42:05|  2019-11-17 14:00:54|                 N|         1|          82|          82|              1|          1.4|       10.0|  0.0|    0.5|       0.0|         0.0|     null|                  0.3|        10.8|           2|        1|                 0.0|   2019|\n",
      "|       2| 2009-01-01 00:47:21|  2009-01-01 00:47:47|                 N|         1|         193|         193|              1|          0.0|        2.5|  0.5|    0.5|       0.0|         0.0|     null|                  0.3|         3.8|           2|        1|                 0.0|   2009|\n",
      "|       2| 2008-12-31 23:05:26|  2009-01-01 10:58:56|                 N|         1|         193|         193|              1|          0.0|        0.0|  0.0|    0.0|       0.0|         0.0|     null|                  0.0|         0.0|           1|        1|                 0.0|   2009|\n",
      "|       2| 2009-01-01 01:27:08|  2009-01-01 01:40:50|                 N|         1|          49|         181|              1|         2.24|       11.0|  0.0|    0.5|       0.0|         0.0|     null|                  0.3|        11.8|           2|        1|                 0.0|   2009|\n",
      "|       2| 2009-01-01 21:46:25|  2009-01-01 21:58:56|                 N|         1|          61|          97|              1|         2.81|       11.5|  0.0|    0.5|       0.0|         0.0|     null|                  0.3|        12.3|           2|        1|                 0.0|   2009|\n",
      "|       2| 2009-01-01 01:32:48|  2009-01-01 01:40:22|                 N|         1|         244|         116|              1|         1.41|        7.5|  0.5|    0.5|       0.0|         0.0|     null|                  0.3|         8.8|           2|        1|                 0.0|   2009|\n",
      "|       2| 2009-01-01 01:48:57|  2009-01-01 02:06:38|                 N|         1|         152|          75|              1|         3.23|       14.0|  0.5|    0.5|       0.0|         0.0|     null|                  0.3|        15.3|           2|        1|                 0.0|   2009|\n",
      "|       2| 2009-01-01 02:15:19|  2009-01-01 02:15:46|                 N|         1|          74|          74|              1|         0.05|        2.5|  0.5|    0.5|       0.0|         0.0|     null|                  0.3|         3.8|           2|        1|                 0.0|   2009|\n",
      "|       2| 2009-01-01 02:26:45|  2009-01-01 02:36:58|                 N|         1|          74|          41|              2|         1.45|        8.5|  0.5|    0.5|       0.0|         0.0|     null|                  0.3|         9.8|           2|        1|                 0.0|   2009|\n",
      "|       2| 2009-01-01 12:04:14|  2009-01-01 12:19:08|                 N|         1|         116|          74|              2|          2.8|       13.0|  0.0|    0.5|       0.0|         0.0|     null|                  0.3|        13.8|           2|        1|                 0.0|   2009|\n",
      "|       2| 2008-12-31 22:06:48|  2009-01-01 09:44:26|                 N|         1|         193|         193|              1|          0.0|        0.0|  0.0|    0.0|       0.0|         0.0|     null|                  0.0|         0.0|           1|        1|                 0.0|   2009|\n",
      "|       2| 2009-01-01 00:03:41|  2009-01-01 12:58:31|                 N|         1|         193|         193|              1|          0.0|        0.0|  0.0|    0.0|       0.0|         0.0|     null|                  0.0|         0.0|           1|        1|                 0.0|   2009|\n",
      "+--------+--------------------+---------------------+------------------+----------+------------+------------+---------------+-------------+-----------+-----+-------+----------+------------+---------+---------------------+------------+------------+---------+--------------------+-------+\n",
      "\n"
     ]
    }
   ],
   "source": [
    "df_year.filter(col('do_year') < 2020).show(43)"
   ]
  },
  {
   "cell_type": "code",
   "execution_count": 17,
   "id": "ff20060a",
   "metadata": {
    "scrolled": true
   },
   "outputs": [
    {
     "data": {
      "text/plain": [
       "12"
      ]
     },
     "execution_count": 17,
     "metadata": {},
     "output_type": "execute_result"
    }
   ],
   "source": [
    "df_year.filter(col('do_year') > 2020).count()"
   ]
  },
  {
   "cell_type": "code",
   "execution_count": 18,
   "id": "3bb7d47c",
   "metadata": {},
   "outputs": [
    {
     "name": "stdout",
     "output_type": "stream",
     "text": [
      "+--------+--------------------+---------------------+------------------+----------+------------+------------+---------------+-------------+-----------+-----+-------+----------+------------+---------+---------------------+------------+------------+---------+--------------------+-------+\n",
      "|VendorID|lpep_pickup_datetime|lpep_dropoff_datetime|store_and_fwd_flag|RatecodeID|PULocationID|DOLocationID|passenger_count|trip_distance|fare_amount|extra|mta_tax|tip_amount|tolls_amount|ehail_fee|improvement_surcharge|total_amount|payment_type|trip_type|congestion_surcharge|do_year|\n",
      "+--------+--------------------+---------------------+------------------+----------+------------+------------+---------------+-------------+-----------+-----+-------+----------+------------+---------+---------------------+------------+------------+---------+--------------------+-------+\n",
      "|       2| 2041-08-17 16:24:38|  2041-08-17 16:27:20|                 N|         1|         193|         193|              1|          0.0|        0.0|  0.0|    0.0|       0.0|         0.0|     null|                  0.0|         0.0|           2|        1|                 0.0|   2041|\n",
      "|       2| 2020-12-31 08:48:25|  2021-01-01 08:35:08|                 N|         1|          35|          35|              1|         9.46|       35.5|  0.0|    0.5|       0.0|         0.0|     null|                  0.3|        36.3|           2|        1|                 0.0|   2021|\n",
      "|       2| 2020-12-31 14:41:30|  2021-01-01 13:49:19|                 N|         1|          74|          42|              1|         1.45|        7.5|  0.0|    0.5|       0.0|         0.0|     null|                  0.3|         8.3|           1|        1|                 0.0|   2021|\n",
      "|       2| 2020-12-31 16:41:12|  2021-01-01 16:00:07|                 N|         1|          75|         224|              1|          5.6|       19.5|  1.0|    0.5|       0.0|         0.0|     null|                  0.3|        21.3|           2|        1|                 0.0|   2021|\n",
      "|       2| 2020-12-31 20:47:08|  2021-01-01 08:34:35|                 N|         1|         152|         264|              1|        18.81|       58.5|  0.5|    0.5|       0.0|         0.0|     null|                  0.3|        59.8|           2|        1|                 0.0|   2021|\n",
      "|       2| 2020-12-31 23:59:53|  2021-01-01 00:03:26|                 N|         1|          75|          74|              1|         1.34|        5.5|  0.5|    0.5|      1.36|         0.0|     null|                  0.3|        8.16|           1|        1|                 0.0|   2021|\n",
      "|       1| 2020-12-31 23:51:58|  2021-01-01 00:11:07|                 N|         1|          75|         169|              1|          5.5|       18.5|  0.5|    0.5|       2.0|         0.0|     null|                  0.3|        21.8|           1|        1|                 0.0|   2021|\n",
      "|       2| 2020-12-31 23:08:58|  2021-01-01 00:09:43|                 N|         1|         244|          89|              3|         22.1|       66.5|  0.5|    0.5|       0.0|         0.0|     null|                  0.3|       70.55|           2|        1|                2.75|   2021|\n",
      "|       2| 2021-01-01 00:03:16|  2021-01-01 00:11:46|                 N|         1|          37|         217|              1|         1.59|        8.0|  0.5|    0.5|       0.0|         0.0|     null|                  0.3|         9.3|           2|        1|                 0.0|   2021|\n",
      "|       2| 2020-12-31 23:53:51|  2021-01-01 00:18:10|                 N|         1|          75|         186|              1|          4.4|       19.0|  0.5|    0.5|       0.0|         0.0|     null|                  0.3|       23.05|           2|        1|                2.75|   2021|\n",
      "|       2| 2020-12-31 23:41:27|  2021-01-01 00:03:44|                 N|         1|          41|          68|              1|         4.91|       18.5|  0.5|    0.5|      4.51|         0.0|     null|                  0.3|       27.06|           1|        1|                2.75|   2021|\n",
      "|       2| 2020-12-31 23:54:15|  2021-01-01 00:11:17|                 N|         1|          75|         167|              1|         3.74|       15.0|  0.5|    0.5|       1.0|         0.0|     null|                  0.3|        17.3|           1|        1|                 0.0|   2021|\n",
      "+--------+--------------------+---------------------+------------------+----------+------------+------------+---------------+-------------+-----------+-----+-------+----------+------------+---------+---------------------+------------+------------+---------+--------------------+-------+\n",
      "\n"
     ]
    }
   ],
   "source": [
    "df_year.filter(col('do_year') > 2020).show(12)"
   ]
  },
  {
   "cell_type": "markdown",
   "id": "4eb4bed7",
   "metadata": {},
   "source": [
    "Many of the records are the orders that picked up around midnight in the new year's eve. I will delete the records since I only focused on the orders that finished in 2020 and keep them if picked up in the last day of December and finished in the first of January 2020."
   ]
  },
  {
   "cell_type": "code",
   "execution_count": 19,
   "id": "71dbdd7c",
   "metadata": {},
   "outputs": [],
   "source": [
    "df_2020 = df_year.filter(col('do_year') == 2020)"
   ]
  },
  {
   "cell_type": "code",
   "execution_count": 20,
   "id": "3280a73f",
   "metadata": {
    "scrolled": false
   },
   "outputs": [
    {
     "name": "stdout",
     "output_type": "stream",
     "text": [
      "+--------+--------------------+---------------------+------------------+----------+------------+------------+---------------+-------------+-----------+-----+-------+----------+------------+---------+---------------------+------------+------------+---------+--------------------+-------+-------+\n",
      "|VendorID|lpep_pickup_datetime|lpep_dropoff_datetime|store_and_fwd_flag|RatecodeID|PULocationID|DOLocationID|passenger_count|trip_distance|fare_amount|extra|mta_tax|tip_amount|tolls_amount|ehail_fee|improvement_surcharge|total_amount|payment_type|trip_type|congestion_surcharge|do_year|pu_year|\n",
      "+--------+--------------------+---------------------+------------------+----------+------------+------------+---------------+-------------+-----------+-----+-------+----------+------------+---------+---------------------+------------+------------+---------+--------------------+-------+-------+\n",
      "|       2| 2019-12-31 23:59:39|  2020-01-01 00:06:24|                 N|         1|         179|         179|              1|         1.01|        6.5|  0.5|    0.5|       0.0|         0.0|     null|                  0.3|         7.8|           2|        1|                 0.0|   2020|   2019|\n",
      "|       2| 2019-12-31 23:59:13|  2020-01-01 00:09:16|                 N|         1|          41|         239|              1|         2.05|        9.5|  0.5|    0.5|       0.0|         0.0|     null|                  0.3|       13.55|           2|        1|                2.75|   2020|   2019|\n",
      "|       2| 2019-12-31 23:59:59|  2020-01-01 00:11:41|                 N|         1|          82|          70|              1|         2.24|       10.5|  0.5|    0.5|       0.0|         0.0|     null|                  0.3|        11.8|           2|        1|                 0.0|   2020|   2019|\n",
      "|       2| 2019-12-31 23:55:06|  2020-01-01 00:01:09|                 N|         1|          41|          74|              1|         1.07|        6.0|  0.5|    0.5|       0.0|         0.0|     null|                  0.3|         7.3|           2|        1|                 0.0|   2020|   2019|\n",
      "|       2| 2019-12-31 23:59:32|  2020-01-01 00:15:33|                 N|         1|          75|         169|              1|         5.57|       17.0|  0.5|    0.5|       0.0|         0.0|     null|                  0.3|        18.3|           1|        1|                 0.0|   2020|   2019|\n",
      "|       2| 2019-12-31 23:59:40|  2020-01-01 00:06:48|                 N|         1|         248|          20|              1|          2.9|       10.0|  0.5|    0.5|       0.0|         0.0|     null|                  0.3|        11.3|           2|        1|                 0.0|   2020|   2019|\n",
      "|       2| 2019-12-31 20:27:53|  2020-01-01 19:45:52|                 N|         1|         223|         130|              5|        10.19|       29.5|  0.5|    0.5|      6.16|         0.0|     null|                  0.3|       36.96|           1|        1|                 0.0|   2020|   2019|\n",
      "|       2| 2019-12-31 22:57:50|  2020-01-01 22:38:11|                 N|         1|         130|         135|              1|         2.78|       10.5|  0.5|    0.5|       0.0|         0.0|     null|                  0.3|        11.8|           2|        1|                 0.0|   2020|   2019|\n",
      "|       2| 2019-12-31 23:27:44|  2020-01-01 22:38:11|                 N|         1|         130|         205|              1|         3.11|       11.5|  0.5|    0.5|      2.56|         0.0|     null|                  0.3|       15.36|           1|        1|                 0.0|   2020|   2019|\n",
      "+--------+--------------------+---------------------+------------------+----------+------------+------------+---------------+-------------+-----------+-----+-------+----------+------------+---------+---------------------+------------+------------+---------+--------------------+-------+-------+\n",
      "\n"
     ]
    }
   ],
   "source": [
    "df_2020.withColumn('pu_year', year('lpep_pickup_datetime')).filter(col('pu_year') == 2019).show()"
   ]
  },
  {
   "cell_type": "markdown",
   "id": "c96f3665",
   "metadata": {},
   "source": [
    "I see a possibly bad record with a trip duration almost 24 hours for pick up datetime at 2019-12-31 20:27:53 and drop off datetime at 2020-01-01 19:45:52 while the trip distance is only 10.19 miles with total fare is only \\$36.96. Did the cab goes extremely slow? It does not make sense to order with this kind of trip.\n",
    "\n",
    "From the `lpep_pickup_datetime` and `lpep_dropoff_datetime` columns, I convert the data type into timestamp, assign new names for both columns. Also, I decide to create two new columns to store trip durations in two units, minute and second."
   ]
  },
  {
   "cell_type": "code",
   "execution_count": 21,
   "id": "09edda16",
   "metadata": {},
   "outputs": [],
   "source": [
    "df_convert_date = df_2020 \\\n",
    "    .withColumn('pu_datetime', to_timestamp('lpep_pickup_datetime')) \\\n",
    "    .withColumn('do_datetime', to_timestamp('lpep_dropoff_datetime')) \\\n",
    "    .drop('lpep_pickup_datetime','lpep_dropoff_datetime')"
   ]
  },
  {
   "cell_type": "markdown",
   "id": "d13d6fbf",
   "metadata": {},
   "source": [
    "    .withColumn('pu_day', date_format('pu_datetime', 'EEE')) \\\n",
    "    .withColumn('pu_hour', hour('pu_datetime')) \\\n",
    "    .withColumn('pu_month', month('pu_datetime')) \\\n",
    "    .withColumn('trip_duration_second', col('do_datetime').cast('long') - col('pu_datetime').cast('long')) \\\n",
    "    .withColumn('trip_duration_minute', round(col('trip_duration_second')/60))"
   ]
  },
  {
   "cell_type": "code",
   "execution_count": 22,
   "id": "95a40855",
   "metadata": {
    "scrolled": false
   },
   "outputs": [
    {
     "name": "stdout",
     "output_type": "stream",
     "text": [
      "+--------+------------------+----------+------------+------------+---------------+-------------+-----------+-----+-------+----------+------------+---------+---------------------+------------+------------+---------+--------------------+-------+-------------------+-------------------+\n",
      "|VendorID|store_and_fwd_flag|RatecodeID|PULocationID|DOLocationID|passenger_count|trip_distance|fare_amount|extra|mta_tax|tip_amount|tolls_amount|ehail_fee|improvement_surcharge|total_amount|payment_type|trip_type|congestion_surcharge|do_year|        pu_datetime|        do_datetime|\n",
      "+--------+------------------+----------+------------+------------+---------------+-------------+-----------+-----+-------+----------+------------+---------+---------------------+------------+------------+---------+--------------------+-------+-------------------+-------------------+\n",
      "|       2|                 N|         5|          66|          65|              2|         1.28|       20.0|  0.0|    0.0|      4.06|         0.0|     null|                  0.3|       24.36|           1|        2|                 0.0|   2020|2020-01-01 00:45:58|2020-01-01 00:56:39|\n",
      "|       2|                 N|         1|         181|         228|              1|         2.47|       10.5|  0.5|    0.5|      3.54|         0.0|     null|                  0.3|       15.34|           1|        1|                 0.0|   2020|2020-01-01 00:41:38|2020-01-01 00:52:49|\n",
      "|       1|                 N|         1|         129|         263|              2|          6.3|       21.0| 3.25|    0.5|       0.0|         0.0|     null|                  0.3|       25.05|           2|        1|                2.75|   2020|2020-01-01 00:52:46|2020-01-01 01:14:21|\n",
      "|       1|                 N|         1|         210|         150|              1|          2.3|       10.0|  0.5|    0.5|       0.0|         0.0|     null|                  0.3|        11.3|           1|        1|                 0.0|   2020|2020-01-01 00:19:57|2020-01-01 00:30:56|\n",
      "|       1|                 N|         1|          35|          39|              1|          3.0|       13.5|  0.5|    0.5|       0.0|         0.0|     null|                  0.3|        14.8|           1|        1|                 0.0|   2020|2020-01-01 00:52:33|2020-01-01 01:09:54|\n",
      "|       2|                 N|         1|          25|          61|              1|         2.77|       11.0|  0.5|    0.5|       0.0|         0.0|     null|                  0.3|        12.3|           2|        1|                 0.0|   2020|2020-01-01 00:10:18|2020-01-01 00:22:16|\n",
      "|       2|                 N|         1|         225|          89|              1|         4.98|       20.5|  0.5|    0.5|       0.0|         0.0|     null|                  0.3|        21.8|           2|        1|                 0.0|   2020|2020-01-01 01:03:14|2020-01-01 01:29:45|\n",
      "|       2|                 N|         1|         129|         129|              1|         0.71|        5.5|  0.5|    0.5|       0.0|         0.0|     null|                  0.3|         6.8|           2|        1|                 0.0|   2020|2020-01-01 00:04:11|2020-01-01 00:09:48|\n",
      "|       2|                 N|         1|         129|          83|              1|          0.8|        5.5|  0.5|    0.5|       0.0|         0.0|     null|                  0.3|         6.8|           2|        1|                 0.0|   2020|2020-01-01 00:25:52|2020-01-01 00:32:16|\n",
      "|       2|                 N|         1|          82|         173|              1|         1.52|        9.5|  0.5|    0.5|       0.0|         0.0|     null|                  0.3|        10.8|           2|        1|                 0.0|   2020|2020-01-01 00:47:32|2020-01-01 00:59:25|\n",
      "|       1|                 N|         1|          74|          69|              1|          3.8|       14.0|  0.5|    0.5|       0.0|         0.0|     null|                  0.3|        15.3|           2|        1|                 0.0|   2020|2020-01-01 00:26:40|2020-01-01 00:40:42|\n",
      "|       2|                 N|         1|          74|          41|              1|         1.12|        6.5|  0.5|    0.5|       0.0|         0.0|     null|                  0.3|         7.8|           1|        1|                 0.0|   2020|2020-01-01 00:38:47|2020-01-01 00:46:02|\n",
      "|       2|                 N|         1|          41|         127|              1|         5.67|       19.0|  0.5|    0.5|       0.0|         0.0|     null|                  0.3|        20.3|           2|        1|                 0.0|   2020|2020-01-01 00:52:18|2020-01-01 01:09:58|\n",
      "|       2|                 N|         1|           7|         260|              1|         1.86|        9.5|  0.5|    0.5|       0.0|         0.0|     null|                  0.3|        10.8|           2|        1|                 0.0|   2020|2020-01-01 00:16:01|2020-01-01 00:26:40|\n",
      "|       2|                 N|         1|           7|           7|              1|         1.42|        7.0|  0.5|    0.5|       0.0|         0.0|     null|                  0.3|         8.3|           2|        1|                 0.0|   2020|2020-01-01 00:21:15|2020-01-01 00:28:03|\n",
      "|       2|                 N|         1|           7|         133|              1|        15.48|       43.0|  0.5|    0.5|      8.86|         0.0|     null|                  0.3|       53.16|           1|        1|                 0.0|   2020|2020-01-01 00:35:42|2020-01-01 01:02:00|\n",
      "|       2|                 N|         1|         134|          28|              1|         1.15|        5.5|  0.5|    0.5|       1.0|         0.0|     null|                  0.3|         7.8|           1|        1|                 0.0|   2020|2020-01-01 00:39:51|2020-01-01 00:42:54|\n",
      "|       1|                 N|         1|          89|          39|              1|          2.3|       10.0|  0.5|    0.5|       0.0|         0.0|     null|                  0.3|        11.3|           2|        1|                 0.0|   2020|2020-01-01 00:00:21|2020-01-01 00:10:19|\n",
      "|       1|                 N|         1|          66|          65|              3|          1.0|        6.5|  0.5|    0.5|       0.0|         0.0|     null|                  0.3|         7.8|           2|        1|                 0.0|   2020|2020-01-01 00:13:59|2020-01-01 00:21:31|\n",
      "|       1|                 N|         1|         116|         244|              1|          0.4|        3.5|  0.5|    0.5|       0.0|         0.0|     null|                  0.3|         4.8|           4|        1|                 0.0|   2020|2020-01-01 00:05:13|2020-01-01 00:06:49|\n",
      "+--------+------------------+----------+------------+------------+---------------+-------------+-----------+-----+-------+----------+------------+---------+---------------------+------------+------------+---------+--------------------+-------+-------------------+-------------------+\n",
      "only showing top 20 rows\n",
      "\n"
     ]
    }
   ],
   "source": [
    "df_convert_date.show()"
   ]
  },
  {
   "cell_type": "markdown",
   "id": "fa75346e",
   "metadata": {},
   "source": [
    "Check both `fare_amount` and `total_amount` that have values below zero."
   ]
  },
  {
   "cell_type": "code",
   "execution_count": 23,
   "id": "2b51dbf8",
   "metadata": {},
   "outputs": [
    {
     "data": {
      "text/plain": [
       "4195"
      ]
     },
     "execution_count": 23,
     "metadata": {},
     "output_type": "execute_result"
    }
   ],
   "source": [
    "df_convert_date.filter((col('fare_amount') < 0) & (col('total_amount') < 0)).count()"
   ]
  },
  {
   "cell_type": "code",
   "execution_count": 24,
   "id": "582fe23c",
   "metadata": {
    "scrolled": false
   },
   "outputs": [
    {
     "name": "stdout",
     "output_type": "stream",
     "text": [
      "+--------+------------------+----------+------------+------------+---------------+-------------+-----------+-----+-------+----------+------------+---------+---------------------+------------+------------+---------+--------------------+-------+-------------------+-------------------+\n",
      "|VendorID|store_and_fwd_flag|RatecodeID|PULocationID|DOLocationID|passenger_count|trip_distance|fare_amount|extra|mta_tax|tip_amount|tolls_amount|ehail_fee|improvement_surcharge|total_amount|payment_type|trip_type|congestion_surcharge|do_year|        pu_datetime|        do_datetime|\n",
      "+--------+------------------+----------+------------+------------+---------------+-------------+-----------+-----+-------+----------+------------+---------+---------------------+------------+------------+---------+--------------------+-------+-------------------+-------------------+\n",
      "|       2|                 N|         1|          80|         256|              2|         0.71|       -5.5| -0.5|   -0.5|       0.0|         0.0|     null|                 -0.3|        -6.8|           3|        1|                 0.0|   2020|2020-01-01 00:55:51|2020-01-01 01:01:58|\n",
      "|       2|                 N|         1|         256|         256|              2|         0.63|       -5.0| -0.5|   -0.5|       0.0|         0.0|     null|                 -0.3|        -6.3|           3|        1|                 0.0|   2020|2020-01-01 02:15:31|2020-01-01 02:20:12|\n",
      "|       2|                 N|         1|          42|          42|              1|         0.57|       -4.0| -0.5|   -0.5|       0.0|         0.0|     null|                 -0.3|        -5.3|           4|        1|                 0.0|   2020|2020-01-01 02:30:01|2020-01-01 02:32:54|\n",
      "|       2|                 N|         1|         256|         256|              1|         0.15|       -3.0| -0.5|   -0.5|       0.0|         0.0|     null|                 -0.3|        -4.3|           3|        1|                 0.0|   2020|2020-01-01 02:37:22|2020-01-01 02:38:26|\n",
      "|       2|                 N|         1|          61|         177|              1|         0.81|       -5.0| -0.5|   -0.5|       0.0|         0.0|     null|                 -0.3|        -6.3|           4|        1|                 0.0|   2020|2020-01-01 03:54:41|2020-01-01 03:58:31|\n",
      "|       2|                 N|         1|         129|         129|              1|          0.1|       -2.5| -0.5|   -0.5|       0.0|         0.0|     null|                 -0.3|        -3.8|           3|        1|                 0.0|   2020|2020-01-01 03:25:04|2020-01-01 03:25:47|\n",
      "|       2|                 N|         1|         145|         226|              1|         0.24|       -4.5| -0.5|   -0.5|       0.0|         0.0|     null|                 -0.3|        -5.8|           3|        1|                 0.0|   2020|2020-01-01 04:02:59|2020-01-01 04:07:06|\n",
      "|       2|                 N|         5|         260|         260|              1|         0.03|      -40.0|  0.0|    0.0|       0.0|         0.0|     null|                 -0.3|       -40.3|           3|        2|                 0.0|   2020|2020-01-01 04:02:15|2020-01-01 04:05:28|\n",
      "|       2|                 N|         1|          61|          61|              1|         0.16|       -4.5| -0.5|   -0.5|       0.0|         0.0|     null|                 -0.3|        -5.8|           3|        1|                 0.0|   2020|2020-01-01 05:18:57|2020-01-01 05:22:54|\n",
      "|       2|                 N|         1|         129|         129|              1|         0.18|       -3.0|  0.0|   -0.5|       0.0|         0.0|     null|                 -0.3|        -3.8|           3|        1|                 0.0|   2020|2020-01-01 08:37:25|2020-01-01 08:38:05|\n",
      "|       2|                 N|         5|          80|          80|              2|          0.0|      -70.0|  0.0|    0.0|       0.0|         0.0|     null|                  0.0|       -70.0|           3|        2|                 0.0|   2020|2020-01-01 09:51:06|2020-01-01 09:51:20|\n",
      "|       2|                 N|         1|          38|          38|              2|          0.0|       -2.5|  0.0|   -0.5|       0.0|         0.0|     null|                 -0.3|        -3.3|           3|        1|                 0.0|   2020|2020-01-01 10:33:11|2020-01-01 10:34:07|\n",
      "|       2|                 N|         1|          41|          41|              1|         0.04|       -2.5|  0.0|   -0.5|       0.0|         0.0|     null|                 -0.3|        -3.3|           3|        1|                 0.0|   2020|2020-01-01 14:38:07|2020-01-01 14:38:40|\n",
      "|       2|                 N|         1|         166|         151|              2|         0.38|       -4.0|  0.0|   -0.5|       0.0|         0.0|     null|                 -0.3|        -4.8|           4|        1|                 0.0|   2020|2020-01-01 15:18:16|2020-01-01 15:20:43|\n",
      "|       2|                 N|         1|          82|          82|              1|         0.18|       -2.5|  0.0|   -0.5|       0.0|         0.0|     null|                 -0.3|        -3.3|           3|        1|                 0.0|   2020|2020-01-01 15:07:32|2020-01-01 15:08:07|\n",
      "|       2|                 N|         1|           7|           7|              1|         0.29|       -4.0|  0.0|   -0.5|       0.0|         0.0|     null|                 -0.3|        -4.8|           3|        1|                 0.0|   2020|2020-01-01 15:31:00|2020-01-01 15:33:41|\n",
      "|       2|                 N|         1|          74|          74|              1|         0.73|       -5.0|  0.0|   -0.5|       0.0|         0.0|     null|                 -0.3|        -5.8|           3|        1|                 0.0|   2020|2020-01-01 16:29:22|2020-01-01 16:33:53|\n",
      "|       2|                 N|         1|         134|          28|              1|         0.55|       -4.5|  0.0|   -0.5|       0.0|         0.0|     null|                 -0.3|        -5.3|           3|        1|                 0.0|   2020|2020-01-01 17:10:14|2020-01-01 17:14:06|\n",
      "|       2|                 N|         1|           7|           7|              5|         0.01|       -2.5|  0.0|   -0.5|       0.0|         0.0|     null|                 -0.3|        -3.3|           3|        1|                 0.0|   2020|2020-01-01 13:27:34|2020-01-01 13:28:04|\n",
      "|       2|                 N|         1|           7|           7|              1|         0.76|       -5.0|  0.0|   -0.5|       0.0|         0.0|     null|                 -0.3|        -5.8|           3|        1|                 0.0|   2020|2020-01-01 18:04:43|2020-01-01 18:08:36|\n",
      "+--------+------------------+----------+------------+------------+---------------+-------------+-----------+-----+-------+----------+------------+---------+---------------------+------------+------------+---------+--------------------+-------+-------------------+-------------------+\n",
      "only showing top 20 rows\n",
      "\n"
     ]
    }
   ],
   "source": [
    "df_convert_date \\\n",
    "    .filter((col('fare_amount') < 0) & (col('total_amount') < 0)) \\\n",
    "    .show()"
   ]
  },
  {
   "cell_type": "markdown",
   "id": "68a42833",
   "metadata": {},
   "source": [
    "With 4195 records, I think the negative sign in all columns about charges to passengers is a typo. So, the value will be multiplied by -1 to make it positive. I am also filter out the records that have `fare_amount` below \\$2.50 which is a minimum charge in every order. Other than that, I'm only going to select a few columns."
   ]
  },
  {
   "cell_type": "code",
   "execution_count": 25,
   "id": "67b844d9",
   "metadata": {},
   "outputs": [],
   "source": [
    "df_fare = df_convert_date \\\n",
    "    .withColumn('fare_amount', \n",
    "                when(col('fare_amount') < 0, col('fare_amount') * -1).otherwise(col('fare_amount'))) \\\n",
    "    .withColumn('total_amount', \n",
    "                when(col('total_amount') < 0, col('total_amount') * -1).otherwise(col('total_amount'))) \\\n",
    "    .filter(col('fare_amount') >= 2.5) \\\n",
    "    .select(\n",
    "        'VendorID',\n",
    "        'pu_datetime',\n",
    "        'do_datetime',\n",
    "        'do_year',\n",
    "        'PULocationID',\n",
    "        'DOLocationID',\n",
    "        'passenger_count',\n",
    "        'trip_distance',\n",
    "        'trip_type',\n",
    "        'payment_type',\n",
    "        'fare_amount',\n",
    "        'total_amount'\n",
    "    )"
   ]
  },
  {
   "cell_type": "markdown",
   "id": "b4bd0aff",
   "metadata": {},
   "source": [
    "Now, let us check `trip_distance` column. From the summary, it also has zero or negative values."
   ]
  },
  {
   "cell_type": "code",
   "execution_count": 26,
   "id": "20c3bd12",
   "metadata": {},
   "outputs": [
    {
     "data": {
      "text/plain": [
       "57705"
      ]
     },
     "execution_count": 26,
     "metadata": {},
     "output_type": "execute_result"
    }
   ],
   "source": [
    "df_fare.filter(col('trip_distance') <= 0).count()"
   ]
  },
  {
   "cell_type": "code",
   "execution_count": 27,
   "id": "a164e72a",
   "metadata": {
    "scrolled": false
   },
   "outputs": [
    {
     "name": "stdout",
     "output_type": "stream",
     "text": [
      "+--------+-------------------+-------------------+-------+------------+------------+---------------+-------------+---------+------------+-----------+------------+\n",
      "|VendorID|        pu_datetime|        do_datetime|do_year|PULocationID|DOLocationID|passenger_count|trip_distance|trip_type|payment_type|fare_amount|total_amount|\n",
      "+--------+-------------------+-------------------+-------+------------+------------+---------------+-------------+---------+------------+-----------+------------+\n",
      "|       1|2020-01-01 00:23:42|2020-01-01 00:48:02|   2020|          92|          51|              1|          0.0|        1|           1|       26.2|       33.12|\n",
      "|       2|2020-01-01 00:52:51|2020-01-01 00:54:17|   2020|          36|          36|              1|          0.0|        2|           1|       50.0|        70.3|\n",
      "|       1|2020-01-01 00:43:43|2020-01-01 01:14:39|   2020|          37|         150|              1|          0.0|        1|           1|       28.2|        29.0|\n",
      "|       2|2020-01-01 00:19:22|2020-01-01 00:19:25|   2020|         192|         264|              1|          0.0|        2|           1|       12.0|        12.3|\n",
      "|       2|2020-01-01 00:45:05|2020-01-01 00:45:09|   2020|         244|         244|              1|          0.0|        2|           1|        7.0|         7.3|\n",
      "|       1|2020-01-01 00:34:45|2020-01-01 00:58:14|   2020|         130|         264|              1|          0.0|        1|           1|       28.2|        29.0|\n",
      "|       1|2020-01-01 00:46:42|2020-01-01 01:06:21|   2020|         153|          74|              1|          0.0|        1|           1|       24.2|        25.0|\n",
      "|       2|2020-01-01 00:03:49|2020-01-01 00:05:50|   2020|          41|          41|              1|          0.0|        1|           2|        3.5|         4.8|\n",
      "|       1|2020-01-01 00:01:32|2020-01-01 00:34:44|   2020|          49|         168|              1|          0.0|        1|           1|       32.2|       39.12|\n",
      "|       1|2020-01-01 00:06:05|2020-01-01 00:30:30|   2020|         173|          72|              1|          0.0|        1|           1|       30.2|        31.0|\n",
      "|       1|2020-01-01 00:42:01|2020-01-01 01:19:43|   2020|          61|          55|              1|          0.0|        1|           1|      39.33|       40.13|\n",
      "|       1|2020-01-01 00:24:43|2020-01-01 00:53:11|   2020|         213|         218|              1|          0.0|        1|           1|       39.2|       46.12|\n",
      "|       1|2020-01-01 00:36:29|2020-01-01 00:55:50|   2020|          75|         213|              1|          0.0|        1|           1|       22.2|        23.0|\n",
      "|       1|2020-01-01 00:25:52|2020-01-01 00:57:28|   2020|         198|          91|              1|          0.0|        1|           1|       32.2|        33.0|\n",
      "|       1|2020-01-01 00:50:36|2020-01-01 01:24:19|   2020|         215|         116|              1|          0.0|        1|           1|       39.2|       46.12|\n",
      "|       2|2020-01-01 00:18:43|2020-01-01 00:18:51|   2020|         130|         130|              1|          0.0|        1|           2|        2.5|         3.8|\n",
      "|       2|2020-01-01 00:28:37|2020-01-01 00:28:40|   2020|          61|         264|              1|          0.0|        2|           1|       20.0|        26.0|\n",
      "|       2|2020-01-01 01:06:18|2020-01-01 01:06:20|   2020|         264|         264|              1|          0.0|        2|           1|       45.0|       54.36|\n",
      "|       2|2020-01-01 00:54:05|2020-01-01 00:54:07|   2020|         264|         264|              1|          0.0|        2|           1|       55.0|        66.0|\n",
      "|       2|2020-01-01 00:26:52|2020-01-01 00:39:56|   2020|          51|          81|              1|        -0.41|        1|           2|        7.2|         8.0|\n",
      "+--------+-------------------+-------------------+-------+------------+------------+---------------+-------------+---------+------------+-----------+------------+\n",
      "only showing top 20 rows\n",
      "\n"
     ]
    }
   ],
   "source": [
    "df_fare.filter(col('trip_distance') <= 0).show()"
   ]
  },
  {
   "cell_type": "markdown",
   "id": "9b0cfa79",
   "metadata": {},
   "source": [
    "Surprisingly, the number of bad records of this kind is very high, greater than 50,000 records. This could happen possibly by an error originating from the meter. For now, I will exclude them from the valid data."
   ]
  },
  {
   "cell_type": "code",
   "execution_count": 28,
   "id": "f108413e",
   "metadata": {
    "scrolled": false
   },
   "outputs": [],
   "source": [
    "df_distance = df_fare.filter(col('trip_distance') > 0)"
   ]
  },
  {
   "cell_type": "markdown",
   "id": "307c9a3e",
   "metadata": {},
   "source": [
    "I filtered the records based on `trip_distance` and `fare_amount` because I saw strange values between the distance and the amount passenger paid. The assumption here was by using a standard metered fare, that is, \\\\$2.50 for initial charge and \\\\$0.50 every 1/5 mile. The filter is done with the trip distance larger than 40 miles, though the less distance trips have this behaviour too."
   ]
  },
  {
   "cell_type": "code",
   "execution_count": 29,
   "id": "ad68b61f",
   "metadata": {
    "scrolled": false
   },
   "outputs": [
    {
     "data": {
      "text/plain": [
       "36"
      ]
     },
     "execution_count": 29,
     "metadata": {},
     "output_type": "execute_result"
    }
   ],
   "source": [
    "## Check trip distance again\n",
    "filters = df_distance \\\n",
    "        .filter(\n",
    "            (col('fare_amount') > 0) &\n",
    "            (col('trip_distance') > 40) &\n",
    "            (col('fare_amount') < 2.5 + (floor(col('trip_distance')/0.2)*0.5))  # standard metering assumption\n",
    "        ) \\\n",
    "        .select(\n",
    "            'trip_distance',\n",
    "            'fare_amount',\n",
    "            'total_amount'\n",
    "        )\n",
    "\n",
    "filters.count()"
   ]
  },
  {
   "cell_type": "code",
   "execution_count": 30,
   "id": "b18a26b7",
   "metadata": {
    "scrolled": true
   },
   "outputs": [],
   "source": [
    "df_dist_fare = df_distance.join(filters,['trip_distance','fare_amount','total_amount'],'leftanti')"
   ]
  },
  {
   "cell_type": "code",
   "execution_count": 31,
   "id": "4271cc9f",
   "metadata": {
    "scrolled": true
   },
   "outputs": [
    {
     "data": {
      "text/plain": [
       "53082"
      ]
     },
     "execution_count": 31,
     "metadata": {},
     "output_type": "execute_result"
    }
   ],
   "source": [
    "df_dist_fare.filter('passenger_count == 0 or passenger_count > 4').count()"
   ]
  },
  {
   "cell_type": "markdown",
   "id": "b52c7a9b",
   "metadata": {},
   "source": [
    "The cab can only afford a maximum of four passengers. However, the summary tells that there are records with passengers larger than four. I delete all records with the number of passengers beyond 1 and 4, many rows to delete."
   ]
  },
  {
   "cell_type": "code",
   "execution_count": 32,
   "id": "d7208e85",
   "metadata": {},
   "outputs": [],
   "source": [
    "df_passenger = df_dist_fare.filter('passenger_count > 0 and passenger_count <= 4')"
   ]
  },
  {
   "cell_type": "code",
   "execution_count": 33,
   "id": "efa7a7a3",
   "metadata": {
    "scrolled": true
   },
   "outputs": [
    {
     "name": "stderr",
     "output_type": "stream",
     "text": [
      "                                                                                \r"
     ]
    },
    {
     "data": {
      "text/html": [
       "<table border='1'>\n",
       "<tr><th>summary</th><th>trip_distance</th><th>fare_amount</th><th>total_amount</th><th>VendorID</th><th>do_year</th><th>PULocationID</th><th>DOLocationID</th><th>passenger_count</th><th>trip_type</th><th>payment_type</th></tr>\n",
       "<tr><td>count</td><td>1090261</td><td>1090261</td><td>1090261</td><td>1090261</td><td>1090261</td><td>1090261</td><td>1090261</td><td>1090261</td><td>1090261</td><td>1090261</td></tr>\n",
       "<tr><td>mean</td><td>2.9816072481727</td><td>12.566210879780193</td><td>15.667480594051057</td><td>1.8527618616092845</td><td>2020.0</td><td>100.53531952440746</td><td>129.07023731014868</td><td>1.11610981223762</td><td>1.0182240766201855</td><td>1.4668992103725622</td></tr>\n",
       "<tr><td>stddev</td><td>3.674697238235831</td><td>11.275975839805042</td><td>12.967158377390165</td><td>0.35434331397429614</td><td>1.593400037178569...</td><td>66.68745190250091</td><td>76.59338204358056</td><td>0.400618707370957</td><td>0.13376089137806374</td><td>0.5192059946225511</td></tr>\n",
       "<tr><td>min</td><td>0.01</td><td>2.5</td><td>2.5</td><td>1</td><td>2020</td><td>1</td><td>1</td><td>1</td><td>1</td><td>1</td></tr>\n",
       "<tr><td>25%</td><td>1.05</td><td>6.5</td><td>8.3</td><td>2</td><td>2020</td><td>49</td><td>65</td><td>1</td><td>1</td><td>1</td></tr>\n",
       "<tr><td>50%</td><td>1.79</td><td>9.0</td><td>11.76</td><td>2</td><td>2020</td><td>75</td><td>129</td><td>1</td><td>1</td><td>1</td></tr>\n",
       "<tr><td>75%</td><td>3.35</td><td>14.5</td><td>18.27</td><td>2</td><td>2020</td><td>130</td><td>193</td><td>1</td><td>1</td><td>2</td></tr>\n",
       "<tr><td>max</td><td>171.01</td><td>803.0</td><td>803.8</td><td>2</td><td>2020</td><td>265</td><td>265</td><td>4</td><td>2</td><td>5</td></tr>\n",
       "</table>\n"
      ],
      "text/plain": [
       "+-------+-----------------+------------------+------------------+-------------------+--------------------+------------------+------------------+-----------------+-------------------+------------------+\n",
       "|summary|    trip_distance|       fare_amount|      total_amount|           VendorID|             do_year|      PULocationID|      DOLocationID|  passenger_count|          trip_type|      payment_type|\n",
       "+-------+-----------------+------------------+------------------+-------------------+--------------------+------------------+------------------+-----------------+-------------------+------------------+\n",
       "|  count|          1090261|           1090261|           1090261|            1090261|             1090261|           1090261|           1090261|          1090261|            1090261|           1090261|\n",
       "|   mean|  2.9816072481727|12.566210879780193|15.667480594051057| 1.8527618616092845|              2020.0|100.53531952440746|129.07023731014868| 1.11610981223762| 1.0182240766201855|1.4668992103725622|\n",
       "| stddev|3.674697238235831|11.275975839805042|12.967158377390165|0.35434331397429614|1.593400037178569...| 66.68745190250091| 76.59338204358056|0.400618707370957|0.13376089137806374|0.5192059946225511|\n",
       "|    min|             0.01|               2.5|               2.5|                  1|                2020|                 1|                 1|                1|                  1|                 1|\n",
       "|    25%|             1.05|               6.5|               8.3|                  2|                2020|                49|                65|                1|                  1|                 1|\n",
       "|    50%|             1.79|               9.0|             11.76|                  2|                2020|                75|               129|                1|                  1|                 1|\n",
       "|    75%|             3.35|              14.5|             18.27|                  2|                2020|               130|               193|                1|                  1|                 2|\n",
       "|    max|           171.01|             803.0|             803.8|                  2|                2020|               265|               265|                4|                  2|                 5|\n",
       "+-------+-----------------+------------------+------------------+-------------------+--------------------+------------------+------------------+-----------------+-------------------+------------------+"
      ]
     },
     "execution_count": 33,
     "metadata": {},
     "output_type": "execute_result"
    }
   ],
   "source": [
    "df_passenger.summary()"
   ]
  },
  {
   "cell_type": "markdown",
   "id": "d38e7ace",
   "metadata": {},
   "source": [
    "After finishing check the columns, I will create new dimensions that can be extracted from the timestamp columns. I will parse each to year, month, date, hour, and minute, as well as trip duration in minute and second for the unit time."
   ]
  },
  {
   "cell_type": "code",
   "execution_count": 34,
   "id": "1773bfcd",
   "metadata": {
    "scrolled": true
   },
   "outputs": [
    {
     "data": {
      "text/plain": [
       "['trip_distance',\n",
       " 'fare_amount',\n",
       " 'total_amount',\n",
       " 'VendorID',\n",
       " 'pu_datetime',\n",
       " 'do_datetime',\n",
       " 'do_year',\n",
       " 'PULocationID',\n",
       " 'DOLocationID',\n",
       " 'passenger_count',\n",
       " 'trip_type',\n",
       " 'payment_type']"
      ]
     },
     "execution_count": 34,
     "metadata": {},
     "output_type": "execute_result"
    }
   ],
   "source": [
    "df_passenger.columns"
   ]
  },
  {
   "cell_type": "code",
   "execution_count": 35,
   "id": "8275ee77",
   "metadata": {
    "scrolled": false
   },
   "outputs": [
    {
     "name": "stderr",
     "output_type": "stream",
     "text": [
      "                                                                                \r"
     ]
    },
    {
     "data": {
      "text/html": [
       "<table border='1'>\n",
       "<tr><th>summary</th><th>trip_distance</th><th>fare_amount</th><th>total_amount</th><th>VendorID</th><th>do_year</th><th>PULocationID</th><th>DOLocationID</th><th>passenger_count</th><th>trip_type</th><th>payment_type</th><th>pu_year</th><th>pu_month</th><th>pu_date</th><th>pu_day</th><th>pu_hour</th><th>pu_minute</th><th>do_month</th><th>do_date</th><th>do_day</th><th>do_hour</th><th>do_minute</th><th>trip_dur_second</th><th>trip_dur_minute</th></tr>\n",
       "<tr><td>count</td><td>1090261</td><td>1090261</td><td>1090261</td><td>1090261</td><td>1090261</td><td>1090261</td><td>1090261</td><td>1090261</td><td>1090261</td><td>1090261</td><td>1090261</td><td>1090261</td><td>1090261</td><td>1090261</td><td>1090261</td><td>1090261</td><td>1090261</td><td>1090261</td><td>1090261</td><td>1090261</td><td>1090261</td><td>1090261</td><td>1090261</td></tr>\n",
       "<tr><td>mean</td><td>2.9816072481727</td><td>12.566210879780193</td><td>15.667480594051057</td><td>1.8527618616092845</td><td>2020.0</td><td>100.53531952440746</td><td>129.07023731014868</td><td>1.11610981223762</td><td>1.0182240766201855</td><td>1.4668992103725622</td><td>2019.9999926623075</td><td>3.8737935228353577</td><td>null</td><td>null</td><td>13.968082871899481</td><td>29.612248810147296</td><td>3.874086113325158</td><td>null</td><td>null</td><td>14.052873577978117</td><td>29.67762123014581</td><td>1140.532201922292</td><td>19.01441031092555</td></tr>\n",
       "<tr><td>stddev</td><td>3.674697238235831</td><td>11.275975839805042</td><td>12.967158377390165</td><td>0.35434331397429614</td><td>1.593400037178569...</td><td>66.68745190250091</td><td>76.59338204358056</td><td>0.400618707370957</td><td>0.13376089137806374</td><td>0.5192059946225511</td><td>0.002708808856762296</td><td>3.4176537566376592</td><td>null</td><td>null</td><td>5.532690552313007</td><td>17.290527819263094</td><td>3.41755679496102</td><td>null</td><td>null</td><td>5.601914554241017</td><td>17.43853324891742</td><td>5274.262528024155</td><td>87.90507197567484</td></tr>\n",
       "<tr><td>min</td><td>0.01</td><td>2.5</td><td>2.5</td><td>1</td><td>2020</td><td>1</td><td>1</td><td>1</td><td>1</td><td>1</td><td>2019</td><td>1</td><td>2019-12-31</td><td>Fri</td><td>0</td><td>0</td><td>1</td><td>2020-01-01</td><td>Fri</td><td>0</td><td>0</td><td>-326180</td><td>-5436.0</td></tr>\n",
       "<tr><td>25%</td><td>1.05</td><td>6.5</td><td>8.3</td><td>2</td><td>2020</td><td>49</td><td>65</td><td>1</td><td>1</td><td>1</td><td>2020</td><td>1</td><td>null</td><td>null</td><td>10</td><td>15</td><td>1</td><td>null</td><td>null</td><td>10</td><td>14</td><td>375</td><td>6.0</td></tr>\n",
       "<tr><td>50%</td><td>1.79</td><td>9.0</td><td>11.76</td><td>2</td><td>2020</td><td>75</td><td>129</td><td>1</td><td>1</td><td>1</td><td>2020</td><td>2</td><td>null</td><td>null</td><td>15</td><td>30</td><td>2</td><td>null</td><td>null</td><td>15</td><td>30</td><td>616</td><td>10.0</td></tr>\n",
       "<tr><td>75%</td><td>3.35</td><td>14.5</td><td>18.27</td><td>2</td><td>2020</td><td>130</td><td>193</td><td>1</td><td>1</td><td>2</td><td>2020</td><td>6</td><td>null</td><td>null</td><td>18</td><td>45</td><td>6</td><td>null</td><td>null</td><td>18</td><td>45</td><td>989</td><td>16.0</td></tr>\n",
       "<tr><td>max</td><td>171.01</td><td>803.0</td><td>803.8</td><td>2</td><td>2020</td><td>265</td><td>265</td><td>4</td><td>2</td><td>5</td><td>2020</td><td>12</td><td>2020-12-31</td><td>Wed</td><td>23</td><td>59</td><td>12</td><td>2020-12-31</td><td>Wed</td><td>23</td><td>59</td><td>86398</td><td>1440.0</td></tr>\n",
       "</table>\n"
      ],
      "text/plain": [
       "+-------+-----------------+------------------+------------------+-------------------+--------------------+------------------+------------------+-----------------+-------------------+------------------+--------------------+------------------+----------+-------+------------------+------------------+-----------------+----------+-------+------------------+-----------------+-----------------+-----------------+\n",
       "|summary|    trip_distance|       fare_amount|      total_amount|           VendorID|             do_year|      PULocationID|      DOLocationID|  passenger_count|          trip_type|      payment_type|             pu_year|          pu_month|   pu_date| pu_day|           pu_hour|         pu_minute|         do_month|   do_date| do_day|           do_hour|        do_minute|  trip_dur_second|  trip_dur_minute|\n",
       "+-------+-----------------+------------------+------------------+-------------------+--------------------+------------------+------------------+-----------------+-------------------+------------------+--------------------+------------------+----------+-------+------------------+------------------+-----------------+----------+-------+------------------+-----------------+-----------------+-----------------+\n",
       "|  count|          1090261|           1090261|           1090261|            1090261|             1090261|           1090261|           1090261|          1090261|            1090261|           1090261|             1090261|           1090261|   1090261|1090261|           1090261|           1090261|          1090261|   1090261|1090261|           1090261|          1090261|          1090261|          1090261|\n",
       "|   mean|  2.9816072481727|12.566210879780193|15.667480594051057| 1.8527618616092845|              2020.0|100.53531952440746|129.07023731014868| 1.11610981223762| 1.0182240766201855|1.4668992103725622|  2019.9999926623075|3.8737935228353577|      null|   null|13.968082871899481|29.612248810147296|3.874086113325158|      null|   null|14.052873577978117|29.67762123014581|1140.532201922292|19.01441031092555|\n",
       "| stddev|3.674697238235831|11.275975839805042|12.967158377390165|0.35434331397429614|1.593400037178569...| 66.68745190250091| 76.59338204358056|0.400618707370957|0.13376089137806374|0.5192059946225511|0.002708808856762296|3.4176537566376592|      null|   null| 5.532690552313007|17.290527819263094| 3.41755679496102|      null|   null| 5.601914554241017|17.43853324891742|5274.262528024155|87.90507197567484|\n",
       "|    min|             0.01|               2.5|               2.5|                  1|                2020|                 1|                 1|                1|                  1|                 1|                2019|                 1|2019-12-31|    Fri|                 0|                 0|                1|2020-01-01|    Fri|                 0|                0|          -326180|          -5436.0|\n",
       "|    25%|             1.05|               6.5|               8.3|                  2|                2020|                49|                65|                1|                  1|                 1|                2020|                 1|      null|   null|                10|                15|                1|      null|   null|                10|               14|              375|              6.0|\n",
       "|    50%|             1.79|               9.0|             11.76|                  2|                2020|                75|               129|                1|                  1|                 1|                2020|                 2|      null|   null|                15|                30|                2|      null|   null|                15|               30|              616|             10.0|\n",
       "|    75%|             3.35|              14.5|             18.27|                  2|                2020|               130|               193|                1|                  1|                 2|                2020|                 6|      null|   null|                18|                45|                6|      null|   null|                18|               45|              989|             16.0|\n",
       "|    max|           171.01|             803.0|             803.8|                  2|                2020|               265|               265|                4|                  2|                 5|                2020|                12|2020-12-31|    Wed|                23|                59|               12|2020-12-31|    Wed|                23|               59|            86398|           1440.0|\n",
       "+-------+-----------------+------------------+------------------+-------------------+--------------------+------------------+------------------+-----------------+-------------------+------------------+--------------------+------------------+----------+-------+------------------+------------------+-----------------+----------+-------+------------------+-----------------+-----------------+-----------------+"
      ]
     },
     "execution_count": 35,
     "metadata": {},
     "output_type": "execute_result"
    }
   ],
   "source": [
    "df_features = df_passenger \\\n",
    "        .withColumn('pu_year', year('pu_datetime')) \\\n",
    "        .withColumn('pu_month', month('pu_datetime')) \\\n",
    "        .withColumn('pu_date', date_format('pu_datetime','yyyy-MM-dd')) \\\n",
    "        .withColumn('pu_day', date_format('pu_datetime','EEE')) \\\n",
    "        .withColumn('pu_hour', hour('pu_datetime')) \\\n",
    "        .withColumn('pu_minute', minute('pu_datetime')) \\\n",
    "        .withColumn('do_month', month('do_datetime')) \\\n",
    "        .withColumn('do_date', date_format('do_datetime','yyyy-MM-dd')) \\\n",
    "        .withColumn('do_day', date_format('do_datetime','EEE')) \\\n",
    "        .withColumn('do_hour', hour('do_datetime')) \\\n",
    "        .withColumn('do_minute', minute('do_datetime')) \\\n",
    "        .withColumn('trip_dur_second', col('do_datetime').cast('long') - col('pu_datetime').cast('long')) \\\n",
    "        .withColumn('trip_dur_minute', round(col('trip_dur_second') / 60))        \n",
    "\n",
    "df_features.summary()"
   ]
  },
  {
   "cell_type": "code",
   "execution_count": 36,
   "id": "966577b3",
   "metadata": {
    "scrolled": true
   },
   "outputs": [
    {
     "data": {
      "text/plain": [
       "['trip_distance',\n",
       " 'fare_amount',\n",
       " 'total_amount',\n",
       " 'VendorID',\n",
       " 'pu_datetime',\n",
       " 'do_datetime',\n",
       " 'do_year',\n",
       " 'PULocationID',\n",
       " 'DOLocationID',\n",
       " 'passenger_count',\n",
       " 'trip_type',\n",
       " 'payment_type',\n",
       " 'pu_year',\n",
       " 'pu_month',\n",
       " 'pu_date',\n",
       " 'pu_day',\n",
       " 'pu_hour',\n",
       " 'pu_minute',\n",
       " 'do_month',\n",
       " 'do_date',\n",
       " 'do_day',\n",
       " 'do_hour',\n",
       " 'do_minute',\n",
       " 'trip_dur_second',\n",
       " 'trip_dur_minute']"
      ]
     },
     "execution_count": 36,
     "metadata": {},
     "output_type": "execute_result"
    }
   ],
   "source": [
    "df_features.columns"
   ]
  },
  {
   "cell_type": "markdown",
   "id": "2dcc5522",
   "metadata": {},
   "source": [
    "From the summary of latest dataframe, the trip duration has records with negative value. The negative values maybe caused by a malfunction of the meter while engaged and/or disengaged. So the records will be deleted. \n",
    "\n",
    "On the other hand, the maximum value of trip duration is 1440 minutes, which is 24 hours, whereas 75% of the data only have trips not exceeds than 16 minutes. I must check the validity of the time written in the dataset."
   ]
  },
  {
   "cell_type": "code",
   "execution_count": 37,
   "id": "779b2a19",
   "metadata": {},
   "outputs": [
    {
     "name": "stderr",
     "output_type": "stream",
     "text": [
      "                                                                                \r"
     ]
    },
    {
     "data": {
      "text/plain": [
       "7975"
      ]
     },
     "execution_count": 37,
     "metadata": {},
     "output_type": "execute_result"
    }
   ],
   "source": [
    "df_features.filter(col('trip_dur_minute') < 1).count()"
   ]
  },
  {
   "cell_type": "code",
   "execution_count": 38,
   "id": "c1c82bf4",
   "metadata": {
    "scrolled": false
   },
   "outputs": [
    {
     "name": "stderr",
     "output_type": "stream",
     "text": [
      "                                                                                \r"
     ]
    },
    {
     "data": {
      "text/html": [
       "<table border='1'>\n",
       "<tr><th>summary</th><th>VendorID</th><th>PULocationID</th><th>DOLocationID</th><th>pu_year</th><th>pu_month</th><th>pu_date</th><th>pu_day</th><th>pu_hour</th><th>pu_minute</th><th>do_year</th><th>do_month</th><th>do_date</th><th>do_day</th><th>do_hour</th><th>do_minute</th><th>trip_dur_second</th><th>trip_dur_minute</th><th>trip_distance</th><th>fare_amount</th><th>total_amount</th><th>passenger_count</th><th>trip_type</th><th>payment_type</th></tr>\n",
       "<tr><td>count</td><td>1082286</td><td>1082286</td><td>1082286</td><td>1082286</td><td>1082286</td><td>1082286</td><td>1082286</td><td>1082286</td><td>1082286</td><td>1082286</td><td>1082286</td><td>1082286</td><td>1082286</td><td>1082286</td><td>1082286</td><td>1082286</td><td>1082286</td><td>1082286</td><td>1082286</td><td>1082286</td><td>1082286</td><td>1082286</td><td>1082286</td></tr>\n",
       "<tr><td>mean</td><td>1.8528780747417966</td><td>100.441333436818</td><td>129.10301343637448</td><td>2019.9999926082385</td><td>3.8687287833345345</td><td>null</td><td>null</td><td>13.976065476223475</td><td>29.61359843885997</td><td>2020.0</td><td>3.8690235298248337</td><td>null</td><td>null</td><td>14.06147820446721</td><td>29.679071890424527</td><td>1149.1466895072097</td><td>19.159543780479467</td><td>2.9999745631006838</td><td>12.578058729393186</td><td>15.689708995544233</td><td>1.1160950063107165</td><td>1.015855328443683</td><td>1.4643079555681215</td></tr>\n",
       "<tr><td>stddev</td><td>0.3542275826410142</td><td>66.61900037685015</td><td>76.55016683253346</td><td>0.002718770623568...</td><td>3.415980340062286</td><td>null</td><td>null</td><td>5.52726388793228</td><td>17.2904275052102</td><td>0.0</td><td>3.4158830529749156</td><td>null</td><td>null</td><td>5.596936431037464</td><td>17.439465930682555</td><td>5283.406144820507</td><td>88.05715176771561</td><td>3.6794724784205717</td><td>11.220433199885653</td><td>12.919119578563222</td><td>0.40062238159818936</td><td>0.12491577731100272</td><td>0.5164384108622434</td></tr>\n",
       "<tr><td>min</td><td>1</td><td>1</td><td>1</td><td>2019</td><td>1</td><td>2019-12-31</td><td>Fri</td><td>0</td><td>0</td><td>2020</td><td>1</td><td>2020-01-01</td><td>Fri</td><td>0</td><td>0</td><td>30</td><td>1.0</td><td>0.01</td><td>2.5</td><td>2.5</td><td>1</td><td>1</td><td>1</td></tr>\n",
       "<tr><td>25%</td><td>2</td><td>49</td><td>65</td><td>2020</td><td>1</td><td>null</td><td>null</td><td>10</td><td>15</td><td>2020</td><td>1</td><td>null</td><td>null</td><td>10</td><td>14</td><td>380</td><td>6.0</td><td>1.06</td><td>6.5</td><td>8.3</td><td>1</td><td>1</td><td>1</td></tr>\n",
       "<tr><td>50%</td><td>2</td><td>75</td><td>129</td><td>2020</td><td>2</td><td>null</td><td>null</td><td>15</td><td>30</td><td>2020</td><td>2</td><td>null</td><td>null</td><td>15</td><td>30</td><td>620</td><td>10.0</td><td>1.8</td><td>9.0</td><td>11.8</td><td>1</td><td>1</td><td>1</td></tr>\n",
       "<tr><td>75%</td><td>2</td><td>130</td><td>193</td><td>2020</td><td>6</td><td>null</td><td>null</td><td>18</td><td>45</td><td>2020</td><td>6</td><td>null</td><td>null</td><td>18</td><td>45</td><td>993</td><td>17.0</td><td>3.37</td><td>14.5</td><td>18.3</td><td>1</td><td>1</td><td>2</td></tr>\n",
       "<tr><td>max</td><td>2</td><td>265</td><td>265</td><td>2020</td><td>12</td><td>2020-12-31</td><td>Wed</td><td>23</td><td>59</td><td>2020</td><td>12</td><td>2020-12-31</td><td>Wed</td><td>23</td><td>59</td><td>86398</td><td>1440.0</td><td>171.01</td><td>803.0</td><td>803.8</td><td>4</td><td>2</td><td>5</td></tr>\n",
       "</table>\n"
      ],
      "text/plain": [
       "+-------+------------------+-----------------+------------------+--------------------+------------------+----------+-------+------------------+-----------------+-------+------------------+----------+-------+-----------------+------------------+------------------+------------------+------------------+------------------+------------------+-------------------+-------------------+------------------+\n",
       "|summary|          VendorID|     PULocationID|      DOLocationID|             pu_year|          pu_month|   pu_date| pu_day|           pu_hour|        pu_minute|do_year|          do_month|   do_date| do_day|          do_hour|         do_minute|   trip_dur_second|   trip_dur_minute|     trip_distance|       fare_amount|      total_amount|    passenger_count|          trip_type|      payment_type|\n",
       "+-------+------------------+-----------------+------------------+--------------------+------------------+----------+-------+------------------+-----------------+-------+------------------+----------+-------+-----------------+------------------+------------------+------------------+------------------+------------------+------------------+-------------------+-------------------+------------------+\n",
       "|  count|           1082286|          1082286|           1082286|             1082286|           1082286|   1082286|1082286|           1082286|          1082286|1082286|           1082286|   1082286|1082286|          1082286|           1082286|           1082286|           1082286|           1082286|           1082286|           1082286|            1082286|            1082286|           1082286|\n",
       "|   mean|1.8528780747417966| 100.441333436818|129.10301343637448|  2019.9999926082385|3.8687287833345345|      null|   null|13.976065476223475|29.61359843885997| 2020.0|3.8690235298248337|      null|   null|14.06147820446721|29.679071890424527|1149.1466895072097|19.159543780479467|2.9999745631006838|12.578058729393186|15.689708995544233| 1.1160950063107165|  1.015855328443683|1.4643079555681215|\n",
       "| stddev|0.3542275826410142|66.61900037685015| 76.55016683253346|0.002718770623568...| 3.415980340062286|      null|   null|  5.52726388793228| 17.2904275052102|    0.0|3.4158830529749156|      null|   null|5.596936431037464|17.439465930682555| 5283.406144820507| 88.05715176771561|3.6794724784205717|11.220433199885653|12.919119578563222|0.40062238159818936|0.12491577731100272|0.5164384108622434|\n",
       "|    min|                 1|                1|                 1|                2019|                 1|2019-12-31|    Fri|                 0|                0|   2020|                 1|2020-01-01|    Fri|                0|                 0|                30|               1.0|              0.01|               2.5|               2.5|                  1|                  1|                 1|\n",
       "|    25%|                 2|               49|                65|                2020|                 1|      null|   null|                10|               15|   2020|                 1|      null|   null|               10|                14|               380|               6.0|              1.06|               6.5|               8.3|                  1|                  1|                 1|\n",
       "|    50%|                 2|               75|               129|                2020|                 2|      null|   null|                15|               30|   2020|                 2|      null|   null|               15|                30|               620|              10.0|               1.8|               9.0|              11.8|                  1|                  1|                 1|\n",
       "|    75%|                 2|              130|               193|                2020|                 6|      null|   null|                18|               45|   2020|                 6|      null|   null|               18|                45|               993|              17.0|              3.37|              14.5|              18.3|                  1|                  1|                 2|\n",
       "|    max|                 2|              265|               265|                2020|                12|2020-12-31|    Wed|                23|               59|   2020|                12|2020-12-31|    Wed|               23|                59|             86398|            1440.0|            171.01|             803.0|             803.8|                  4|                  2|                 5|\n",
       "+-------+------------------+-----------------+------------------+--------------------+------------------+----------+-------+------------------+-----------------+-------+------------------+----------+-------+-----------------+------------------+------------------+------------------+------------------+------------------+------------------+-------------------+-------------------+------------------+"
      ]
     },
     "execution_count": 38,
     "metadata": {},
     "output_type": "execute_result"
    }
   ],
   "source": [
    "df_pos_dur = df_features \\\n",
    "        .filter(~(col('trip_dur_minute') < 1)) \\\n",
    "        .select(\n",
    "             'VendorID',\n",
    "             'PULocationID',\n",
    "             'DOLocationID',\n",
    "             'pu_datetime',\n",
    "             'do_datetime',\n",
    "             'pu_year',\n",
    "             'pu_month',\n",
    "             'pu_date',\n",
    "             'pu_day',\n",
    "             'pu_hour',\n",
    "             'pu_minute',\n",
    "             'do_year',\n",
    "             'do_month',\n",
    "             'do_date',\n",
    "             'do_day',\n",
    "             'do_hour',\n",
    "             'do_minute',\n",
    "             'trip_dur_second',\n",
    "             'trip_dur_minute',             \n",
    "             'trip_distance',\n",
    "             'fare_amount',\n",
    "             'total_amount',\n",
    "             'passenger_count',\n",
    "             'trip_type',\n",
    "             'payment_type'\n",
    "            )\n",
    "df_pos_dur.summary()"
   ]
  },
  {
   "cell_type": "markdown",
   "id": "c47e381f",
   "metadata": {},
   "source": [
    "For now, I will give a flag if the record is doubtful by giving a boundary for calculated average velocity. The lower boundary is 3 and the upper is 100. Any records beyond it will be flagged as doubtful."
   ]
  },
  {
   "cell_type": "code",
   "execution_count": 39,
   "id": "bbb508a3",
   "metadata": {
    "scrolled": true
   },
   "outputs": [],
   "source": [
    "df_vel = df_pos_dur \\\n",
    "        .withColumn('avg_velocity',(col('trip_distance') / (col('trip_dur_minute') / 60))) \\\n",
    "        .withColumn('doubtful', when((col('avg_velocity') < 3) | (col('avg_velocity') >100) , 1).otherwise(0))"
   ]
  },
  {
   "cell_type": "code",
   "execution_count": 40,
   "id": "30372b52",
   "metadata": {
    "scrolled": true
   },
   "outputs": [
    {
     "name": "stderr",
     "output_type": "stream",
     "text": [
      "22/04/20 14:50:09 WARN package: Truncated the string representation of a plan since it was too large. This behavior can be adjusted by setting 'spark.sql.debug.maxToStringFields'.\n"
     ]
    },
    {
     "name": "stdout",
     "output_type": "stream",
     "text": [
      "+--------+------------+------------+-------------------+-------------------+-------+--------+----------+------+-------+---------+-------+--------+----------+------+-------+---------+---------------+---------------+-------------+-----------+------------+---------------+---------+------------+------------------+--------+\n",
      "|VendorID|PULocationID|DOLocationID|        pu_datetime|        do_datetime|pu_year|pu_month|   pu_date|pu_day|pu_hour|pu_minute|do_year|do_month|   do_date|do_day|do_hour|do_minute|trip_dur_second|trip_dur_minute|trip_distance|fare_amount|total_amount|passenger_count|trip_type|payment_type|      avg_velocity|doubtful|\n",
      "+--------+------------+------------+-------------------+-------------------+-------+--------+----------+------+-------+---------+-------+--------+----------+------+-------+---------+---------------+---------------+-------------+-----------+------------+---------------+---------+------------+------------------+--------+\n",
      "|       1|         177|         177|2020-01-01 04:20:24|2020-01-01 04:21:11|   2020|       1|2020-01-01|   Wed|      4|       20|   2020|       1|2020-01-01|   Wed|      4|       21|             47|            1.0|          3.0|       20.0|        20.0|              2|        2|           1|             180.0|       1|\n",
      "|       1|          91|          91|2020-01-03 11:35:47|2020-01-03 11:36:49|   2020|       1|2020-01-03|   Fri|     11|       35|   2020|       1|2020-01-03|   Fri|     11|       36|             62|            1.0|          4.8|        3.0|         3.8|              1|        1|           2|             288.0|       1|\n",
      "|       1|         146|         146|2020-01-04 10:07:35|2020-01-04 10:08:10|   2020|       1|2020-01-04|   Sat|     10|        7|   2020|       1|2020-01-04|   Sat|     10|        8|             35|            1.0|          5.0|        2.5|         3.3|              1|        1|           3|             300.0|       1|\n",
      "|       2|          33|          65|2020-01-04 23:03:12|2020-01-04 23:04:26|   2020|       1|2020-01-04|   Sat|     23|        3|   2020|       1|2020-01-04|   Sat|     23|        4|             74|            1.0|         6.83|       48.8|        49.1|              3|        2|           2|             409.8|       1|\n",
      "|       1|         129|         129|2020-01-06 03:25:24|2020-01-06 03:26:05|   2020|       1|2020-01-06|   Mon|      3|       25|   2020|       1|2020-01-06|   Mon|      3|       26|             41|            1.0|          8.2|       20.0|        20.0|              1|        2|           1|491.99999999999994|       1|\n",
      "|       1|         145|         145|2020-01-06 06:33:56|2020-01-06 06:34:45|   2020|       1|2020-01-06|   Mon|      6|       33|   2020|       1|2020-01-06|   Mon|      6|       34|             49|            1.0|          5.1|       10.0|        10.0|              1|        2|           3|             306.0|       1|\n",
      "|       1|         213|         213|2020-01-06 12:21:11|2020-01-06 12:21:51|   2020|       1|2020-01-06|   Mon|     12|       21|   2020|       1|2020-01-06|   Mon|     12|       21|             40|            1.0|          2.3|       20.0|        20.3|              1|        1|           1|             138.0|       1|\n",
      "|       2|          33|          36|2020-01-06 15:16:09|2020-01-06 15:18:02|   2020|       1|2020-01-06|   Mon|     15|       16|   2020|       1|2020-01-06|   Mon|     15|       18|            113|            2.0|         5.62|       27.0|        28.8|              1|        1|           2|             168.6|       1|\n",
      "|       1|          74|          74|2020-01-06 22:33:04|2020-01-06 22:34:06|   2020|       1|2020-01-06|   Mon|     22|       33|   2020|       1|2020-01-06|   Mon|     22|       34|             62|            1.0|          1.8|        3.0|         4.3|              1|        1|           2|             108.0|       1|\n",
      "|       1|          74|          74|2020-01-07 17:35:05|2020-01-07 17:36:05|   2020|       1|2020-01-07|   Tue|     17|       35|   2020|       1|2020-01-07|   Tue|     17|       36|             60|            1.0|          3.1|        2.5|         4.3|              1|        1|           2|             186.0|       1|\n",
      "|       1|          41|          41|2020-01-09 19:17:46|2020-01-09 19:18:53|   2020|       1|2020-01-09|   Thu|     19|       17|   2020|       1|2020-01-09|   Thu|     19|       18|             67|            1.0|          2.2|        3.0|         4.3|              1|        1|           3|             132.0|       1|\n",
      "|       1|          33|          33|2020-01-10 01:11:27|2020-01-10 01:13:30|   2020|       1|2020-01-10|   Fri|      1|       11|   2020|       1|2020-01-10|   Fri|      1|       13|            123|            2.0|          5.7|        3.5|         4.8|              1|        1|           3|             171.0|       1|\n",
      "|       2|         181|          97|2020-01-10 21:58:01|2020-01-10 21:58:32|   2020|       1|2020-01-10|   Fri|     21|       58|   2020|       1|2020-01-10|   Fri|     21|       58|             31|            1.0|         3.82|       45.0|       54.36|              2|        2|           1|             229.2|       1|\n",
      "|       1|          92|          92|2020-01-11 08:43:28|2020-01-11 08:43:59|   2020|       1|2020-01-11|   Sat|      8|       43|   2020|       1|2020-01-11|   Sat|      8|       43|             31|            1.0|          2.2|       12.0|        12.0|              1|        2|           2|             132.0|       1|\n",
      "|       1|          67|          67|2020-01-12 03:39:10|2020-01-12 03:39:45|   2020|       1|2020-01-12|   Sun|      3|       39|   2020|       1|2020-01-12|   Sun|      3|       39|             35|            1.0|         10.7|       31.0|        32.3|              1|        1|           2|             642.0|       1|\n",
      "|       1|         244|         244|2020-01-12 08:38:22|2020-01-12 08:38:59|   2020|       1|2020-01-12|   Sun|      8|       38|   2020|       1|2020-01-12|   Sun|      8|       38|             37|            1.0|          2.1|        2.5|         3.3|              2|        1|           3|             126.0|       1|\n",
      "|       1|         181|         181|2020-01-12 20:48:31|2020-01-12 20:50:04|   2020|       1|2020-01-12|   Sun|     20|       48|   2020|       1|2020-01-12|   Sun|     20|       50|             93|            2.0|          9.0|        3.0|         4.3|              1|        1|           4|             270.0|       1|\n",
      "|       1|         210|         210|2020-01-13 09:49:00|2020-01-13 09:49:37|   2020|       1|2020-01-13|   Mon|      9|       49|   2020|       1|2020-01-13|   Mon|      9|       49|             37|            1.0|          4.0|        2.5|         3.3|              1|        1|           2|             240.0|       1|\n",
      "|       1|          61|          61|2020-01-13 16:44:04|2020-01-13 16:44:42|   2020|       1|2020-01-13|   Mon|     16|       44|   2020|       1|2020-01-13|   Mon|     16|       44|             38|            1.0|          3.6|        2.5|         4.3|              1|        1|           2|             216.0|       1|\n",
      "|       1|         166|         166|2020-01-13 16:33:15|2020-01-13 16:33:59|   2020|       1|2020-01-13|   Mon|     16|       33|   2020|       1|2020-01-13|   Mon|     16|       33|             44|            1.0|          2.0|       30.0|        30.0|              1|        2|           1|             120.0|       1|\n",
      "+--------+------------+------------+-------------------+-------------------+-------+--------+----------+------+-------+---------+-------+--------+----------+------+-------+---------+---------------+---------------+-------------+-----------+------------+---------------+---------+------------+------------------+--------+\n",
      "only showing top 20 rows\n",
      "\n"
     ]
    },
    {
     "name": "stderr",
     "output_type": "stream",
     "text": [
      "\r",
      "[Stage 59:>                                                         (0 + 1) / 1]\r",
      "\r",
      "                                                                                \r"
     ]
    }
   ],
   "source": [
    "df_vel.filter(col('avg_velocity') > 100).show()"
   ]
  },
  {
   "cell_type": "markdown",
   "id": "c8a12390",
   "metadata": {},
   "source": [
    "### Join dataframe\n",
    "\n",
    "This section will focus on joining other dataframes with the dataframe I am currently working on. I would replace the codes for certain fields, such as `vendorID`, `payment_type`, and `trip_type`, with their actual values by concatenating them with the dataframe that contains information about the code.\n",
    "\n",
    "Let us create the dataframes by setting up the code, actual values, and column names."
   ]
  },
  {
   "cell_type": "code",
   "execution_count": 41,
   "id": "1ded1661",
   "metadata": {},
   "outputs": [],
   "source": [
    "vendor = [\n",
    "    (1, 'Creative Mobile Technologies, LLC'),\n",
    "    (2, 'VeriFone Inc')\n",
    "]\n",
    "\n",
    "vendor_cols = ['id','vendor']"
   ]
  },
  {
   "cell_type": "code",
   "execution_count": 42,
   "id": "e57fd0ce",
   "metadata": {},
   "outputs": [],
   "source": [
    "payment = [\n",
    "    (1, 'Credit card'),\n",
    "    (2, 'Cash'),\n",
    "    (3, 'No charge'),\n",
    "    (4, 'Dispute'),\n",
    "    (5, 'Unknown'),\n",
    "    (6, 'Voided trip')\n",
    "]\n",
    "\n",
    "payment_cols = ['id','payment']"
   ]
  },
  {
   "cell_type": "code",
   "execution_count": 43,
   "id": "02144c52",
   "metadata": {},
   "outputs": [],
   "source": [
    "trip = [\n",
    "    (1, 'Street-hail'),\n",
    "    (2, 'Dispatch')\n",
    "]\n",
    "\n",
    "trip_cols = ['id','trip']"
   ]
  },
  {
   "cell_type": "code",
   "execution_count": 44,
   "id": "9972e1bc",
   "metadata": {},
   "outputs": [],
   "source": [
    "df_vendor = spark.createDataFrame(vendor, vendor_cols)\n",
    "df_payment = spark.createDataFrame(payment, payment_cols)\n",
    "df_trip = spark.createDataFrame(trip, trip_cols)"
   ]
  },
  {
   "cell_type": "code",
   "execution_count": 45,
   "id": "56d39ff8",
   "metadata": {
    "scrolled": true
   },
   "outputs": [],
   "source": [
    "df_join = df_vel \\\n",
    "        .join(df_vendor, df_vel.VendorID == df_vendor.id, 'inner').drop(*('VendorID','id')) \\\n",
    "        .join(df_payment, df_vel.payment_type == df_payment.id, 'inner').drop(*('payment_type','id')) \\\n",
    "        .join(df_trip, df_vel.trip_type == df_trip.id, 'inner').drop(*('trip_type','id')) \\\n",
    "        .select(\n",
    "             'vendor',\n",
    "             'PULocationID',\n",
    "             'DOLocationID',\n",
    "             'pu_year',\n",
    "             'pu_month',\n",
    "             'pu_date',\n",
    "             'pu_day',\n",
    "             'pu_hour',\n",
    "             'pu_minute',\n",
    "             'do_year',\n",
    "             'do_month',\n",
    "             'do_date',\n",
    "             'do_day',\n",
    "             'do_hour',\n",
    "             'do_minute',\n",
    "             'trip_dur_minute',             \n",
    "             'trip_distance',\n",
    "             'fare_amount',\n",
    "             'total_amount',\n",
    "             'passenger_count',\n",
    "             'trip',\n",
    "             'payment'\n",
    "        )"
   ]
  },
  {
   "cell_type": "code",
   "execution_count": 46,
   "id": "dd38461a",
   "metadata": {},
   "outputs": [
    {
     "name": "stderr",
     "output_type": "stream",
     "text": [
      "                                                                                \r"
     ]
    },
    {
     "data": {
      "text/plain": [
       "(1082286, 22)"
      ]
     },
     "execution_count": 46,
     "metadata": {},
     "output_type": "execute_result"
    }
   ],
   "source": [
    "df_join.count(), len(df_join.columns)"
   ]
  },
  {
   "cell_type": "markdown",
   "id": "e190a5f8",
   "metadata": {},
   "source": [
    "### Save the data\n",
    "\n",
    "The dataset is saved into Parquet format."
   ]
  },
  {
   "cell_type": "code",
   "execution_count": 47,
   "id": "d830ed94",
   "metadata": {
    "scrolled": true
   },
   "outputs": [],
   "source": [
    "df_join \\\n",
    "    .write \\\n",
    "    .mode('overwrite') \\\n",
    "    .parquet('output/nyc-green-2020')"
   ]
  }
 ],
 "metadata": {
  "kernelspec": {
   "display_name": "Python 3",
   "language": "python",
   "name": "python3"
  },
  "language_info": {
   "codemirror_mode": {
    "name": "ipython",
    "version": 3
   },
   "file_extension": ".py",
   "mimetype": "text/x-python",
   "name": "python",
   "nbconvert_exporter": "python",
   "pygments_lexer": "ipython3",
   "version": "3.9.7"
  }
 },
 "nbformat": 4,
 "nbformat_minor": 5
}
